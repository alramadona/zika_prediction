{
 "cells": [
  {
   "cell_type": "code",
   "execution_count": 1,
   "metadata": {
    "ExecuteTime": {
     "end_time": "2016-07-24T16:06:14.076349",
     "start_time": "2016-07-24T16:06:12.877314"
    },
    "collapsed": true
   },
   "outputs": [],
   "source": [
    "import pandas as pd\n",
    "import numpy as np\n",
    "import requests\n",
    "import dill\n",
    "import re\n",
    "from StringIO import StringIO\n",
    "from csv_pkl_sql import save_it"
   ]
  },
  {
   "cell_type": "markdown",
   "metadata": {},
   "source": [
    "# Get airport information from [fallingrain.com](http://www.fallingrain.com/world/index.html)\n",
    "\n",
    "Import cleaned location data."
   ]
  },
  {
   "cell_type": "code",
   "execution_count": 2,
   "metadata": {
    "ExecuteTime": {
     "end_time": "2016-07-24T16:06:14.139796",
     "start_time": "2016-07-24T16:06:14.084152"
    },
    "collapsed": false
   },
   "outputs": [],
   "source": [
    "with open('../pkl/00_cleaned_city_names.pkl', 'r') as fh:\n",
    "    location_key = dill.load(fh)"
   ]
  },
  {
   "cell_type": "code",
   "execution_count": 3,
   "metadata": {
    "ExecuteTime": {
     "end_time": "2016-07-24T16:06:14.851035",
     "start_time": "2016-07-24T16:06:14.808853"
    },
    "collapsed": false
   },
   "outputs": [
    {
     "data": {
      "text/html": [
       "<div>\n",
       "<table border=\"1\" class=\"dataframe\">\n",
       "  <thead>\n",
       "    <tr style=\"text-align: right;\">\n",
       "      <th></th>\n",
       "      <th>location</th>\n",
       "      <th>location_type</th>\n",
       "      <th>country</th>\n",
       "      <th>province</th>\n",
       "      <th>county</th>\n",
       "      <th>city</th>\n",
       "    </tr>\n",
       "  </thead>\n",
       "  <tbody>\n",
       "    <tr>\n",
       "      <th>0</th>\n",
       "      <td>Argentina-Buenos_Aires</td>\n",
       "      <td>province</td>\n",
       "      <td>Argentina</td>\n",
       "      <td>Buenos Aires</td>\n",
       "      <td>None</td>\n",
       "      <td>None</td>\n",
       "    </tr>\n",
       "    <tr>\n",
       "      <th>1</th>\n",
       "      <td>Argentina-CABA</td>\n",
       "      <td>province</td>\n",
       "      <td>Argentina</td>\n",
       "      <td>Ciudad de Buenos Aires</td>\n",
       "      <td>None</td>\n",
       "      <td>None</td>\n",
       "    </tr>\n",
       "  </tbody>\n",
       "</table>\n",
       "</div>"
      ],
      "text/plain": [
       "                 location location_type    country                province  \\\n",
       "0  Argentina-Buenos_Aires      province  Argentina            Buenos Aires   \n",
       "1          Argentina-CABA      province  Argentina  Ciudad de Buenos Aires   \n",
       "\n",
       "  county  city  \n",
       "0   None  None  \n",
       "1   None  None  "
      ]
     },
     "execution_count": 3,
     "metadata": {},
     "output_type": "execute_result"
    }
   ],
   "source": [
    "location_key.head(2)"
   ]
  },
  {
   "cell_type": "code",
   "execution_count": 4,
   "metadata": {
    "ExecuteTime": {
     "end_time": "2016-07-24T16:06:15.438901",
     "start_time": "2016-07-24T16:06:15.431421"
    },
    "collapsed": false
   },
   "outputs": [
    {
     "data": {
      "text/plain": [
       "array(['Argentina', 'Brazil', 'Colombia', 'Dominican Republic', 'Ecuador',\n",
       "       'El Salvador', 'Guatemala', 'Haiti', 'Mexico', 'Nicaragua',\n",
       "       'Panama', 'United States'], dtype=object)"
      ]
     },
     "execution_count": 4,
     "metadata": {},
     "output_type": "execute_result"
    }
   ],
   "source": [
    "data_countries = location_key.country.unique()\n",
    "data_countries"
   ]
  },
  {
   "cell_type": "markdown",
   "metadata": {},
   "source": [
    "Scrape a table of country abbreviations from fallingrain.com that will be used to build the URLs for country information."
   ]
  },
  {
   "cell_type": "code",
   "execution_count": 5,
   "metadata": {
    "ExecuteTime": {
     "end_time": "2016-07-24T16:06:45.697637",
     "start_time": "2016-07-24T16:06:16.759733"
    },
    "collapsed": false
   },
   "outputs": [],
   "source": [
    "tables = pd.read_html(requests.get('http://www.fallingrain.com/world/index.html').text)\n",
    "countries = pd.DataFrame({'full':tables[0].values.ravel()}).dropna()\n",
    "countries[['abbrev', 'name']] = (countries.full\n",
    "                                 .str.extract(r\"\"\"([A-Z]{2}) (.+)\"\"\", expand=True)\n",
    "                                 )\n",
    "\n",
    "mask = countries.name.isin(data_countries)\n",
    "countries = countries[mask].reset_index(drop=True)\n",
    "assert mask.sum() == len(data_countries)\n",
    "\n",
    "countries['url'] = countries.abbrev.apply(lambda x: 'http://www.fallingrain.com/world/{}/'.format(x))"
   ]
  },
  {
   "cell_type": "markdown",
   "metadata": {},
   "source": [
    "United States state abbreviations"
   ]
  },
  {
   "cell_type": "code",
   "execution_count": 6,
   "metadata": {
    "ExecuteTime": {
     "end_time": "2016-07-24T16:06:45.816599",
     "start_time": "2016-07-24T16:06:45.700617"
    },
    "collapsed": true
   },
   "outputs": [],
   "source": [
    "state_abbreviations = pd.read_csv(StringIO(requests.get('http://www.fonz.net/blog/wp-content/uploads/2008/04/states.csv').text))"
   ]
  },
  {
   "cell_type": "markdown",
   "metadata": {},
   "source": [
    "## Scrape the airports\n",
    "\n",
    "### All countries except the United States"
   ]
  },
  {
   "cell_type": "code",
   "execution_count": 7,
   "metadata": {
    "ExecuteTime": {
     "end_time": "2016-07-24T16:06:45.828604",
     "start_time": "2016-07-24T16:06:45.819800"
    },
    "collapsed": false
   },
   "outputs": [],
   "source": [
    "countries['airports'] = countries.loc[countries.abbrev!='US','url'].apply(lambda x: x+'airports.html')"
   ]
  },
  {
   "cell_type": "code",
   "execution_count": 8,
   "metadata": {
    "ExecuteTime": {
     "end_time": "2016-07-24T16:07:03.308190",
     "start_time": "2016-07-24T16:06:45.832276"
    },
    "collapsed": false
   },
   "outputs": [],
   "source": [
    "df_list = list()\n",
    "for url in countries.airports:\n",
    "    if url is not np.NaN:\n",
    "        table = pd.read_html(url)[0]\n",
    "        table.columns = table.iloc[0]\n",
    "        table = table.iloc[1:]\n",
    "        \n",
    "        country_code = re.search(r\"\"\"world\\/([A-Z]{2})\\/\"\"\",url).group(1)\n",
    "        country_name = countries.loc[countries.abbrev==country_code, 'name'].values[0]\n",
    "        table['country'] = country_name\n",
    "        df_list.append(table)\n",
    "        \n",
    "        \n",
    "airports_df_1 = pd.concat(df_list, axis=0)"
   ]
  },
  {
   "cell_type": "markdown",
   "metadata": {},
   "source": [
    "### Just the United States"
   ]
  },
  {
   "cell_type": "code",
   "execution_count": 9,
   "metadata": {
    "ExecuteTime": {
     "end_time": "2016-07-24T16:07:03.338082",
     "start_time": "2016-07-24T16:07:03.310291"
    },
    "collapsed": false,
    "scrolled": true
   },
   "outputs": [],
   "source": [
    "states = pd.DataFrame({'states':location_key.loc[location_key.country=='United States','province'].unique()})\n",
    "states = pd.merge(states, state_abbreviations, left_on='states', right_on='State', how='left')\n",
    "\n",
    "states.loc[states.states=='Puerto Rico', 'Abbreviation'] = 'PR'\n",
    "states.loc[states.states=='American Samoa', 'Abbreviation'] = 'AS'\n",
    "states.loc[states.states=='Virgin Islands', 'Abbreviation'] = 'VI'\n",
    "states.drop(['State'], axis=1, inplace=True)"
   ]
  },
  {
   "cell_type": "code",
   "execution_count": 10,
   "metadata": {
    "ExecuteTime": {
     "end_time": "2016-07-24T16:07:03.350106",
     "start_time": "2016-07-24T16:07:03.343040"
    },
    "collapsed": false
   },
   "outputs": [],
   "source": [
    "states['airports'] = states.Abbreviation.apply(lambda x: 'http://www.fallingrain.com/world/US/{}/airports.html'.format(x))"
   ]
  },
  {
   "cell_type": "code",
   "execution_count": 11,
   "metadata": {
    "ExecuteTime": {
     "end_time": "2016-07-24T16:07:47.699076",
     "start_time": "2016-07-24T16:07:03.353574"
    },
    "collapsed": false
   },
   "outputs": [],
   "source": [
    "df_list = list()\n",
    "for url in states.drop_duplicates(subset=['Abbreviation']).airports:\n",
    "    if url is not np.NaN:\n",
    "        table = pd.read_html(url)[0]\n",
    "        table.columns = table.iloc[0]\n",
    "        table = table.iloc[1:]\n",
    "        \n",
    "        state_code = re.search(r\"\"\"world\\/US\\/([A-Z]{2})\\/\"\"\",url).group(1)\n",
    "        state_name = states.loc[states.Abbreviation==state_code, 'states'].values[0]\n",
    "        table['state'] = state_name\n",
    "        table['country'] = 'United States'\n",
    "        df_list.append(table)\n",
    "        \n",
    "airports_df_2 = pd.concat(df_list, axis=0)"
   ]
  },
  {
   "cell_type": "markdown",
   "metadata": {},
   "source": [
    "## Combine airport dataframes\n",
    "Combine and clean columns."
   ]
  },
  {
   "cell_type": "code",
   "execution_count": 14,
   "metadata": {
    "ExecuteTime": {
     "end_time": "2016-07-24T16:07:55.108444",
     "start_time": "2016-07-24T16:07:54.901327"
    },
    "collapsed": false
   },
   "outputs": [
    {
     "data": {
      "text/html": [
       "<div>\n",
       "<table border=\"1\" class=\"dataframe\">\n",
       "  <thead>\n",
       "    <tr style=\"text-align: right;\">\n",
       "      <th></th>\n",
       "      <th>city</th>\n",
       "      <th>FAA</th>\n",
       "      <th>IATA</th>\n",
       "      <th>ICAO</th>\n",
       "      <th>kind</th>\n",
       "      <th>latitude</th>\n",
       "      <th>longitude</th>\n",
       "      <th>max_runway</th>\n",
       "      <th>name</th>\n",
       "      <th>country</th>\n",
       "      <th>state</th>\n",
       "    </tr>\n",
       "  </thead>\n",
       "  <tbody>\n",
       "    <tr>\n",
       "      <th>0</th>\n",
       "      <td>NaN</td>\n",
       "      <td>NaN</td>\n",
       "      <td>NaN</td>\n",
       "      <td>NaN</td>\n",
       "      <td>Small</td>\n",
       "      <td>-38.083</td>\n",
       "      <td>-70.668</td>\n",
       "      <td>5249.0</td>\n",
       "      <td>LONCOPUE</td>\n",
       "      <td>Argentina</td>\n",
       "      <td>NaN</td>\n",
       "    </tr>\n",
       "    <tr>\n",
       "      <th>1</th>\n",
       "      <td>NaN</td>\n",
       "      <td>NaN</td>\n",
       "      <td>NaN</td>\n",
       "      <td>NaN</td>\n",
       "      <td>Small</td>\n",
       "      <td>-38.539</td>\n",
       "      <td>-70.337</td>\n",
       "      <td>5249.0</td>\n",
       "      <td>LAS LAJAS</td>\n",
       "      <td>Argentina</td>\n",
       "      <td>NaN</td>\n",
       "    </tr>\n",
       "    <tr>\n",
       "      <th>2</th>\n",
       "      <td>NaN</td>\n",
       "      <td>NaN</td>\n",
       "      <td>NaN</td>\n",
       "      <td>NaN</td>\n",
       "      <td>Small</td>\n",
       "      <td>-49.995</td>\n",
       "      <td>-68.953</td>\n",
       "      <td>3960.0</td>\n",
       "      <td>COMANDANTE LUIS PIEDRABUENA</td>\n",
       "      <td>Argentina</td>\n",
       "      <td>NaN</td>\n",
       "    </tr>\n",
       "    <tr>\n",
       "      <th>3</th>\n",
       "      <td>NaN</td>\n",
       "      <td>NaN</td>\n",
       "      <td>NaN</td>\n",
       "      <td>NaN</td>\n",
       "      <td>Small</td>\n",
       "      <td>-38.414</td>\n",
       "      <td>-68.737</td>\n",
       "      <td>3117.0</td>\n",
       "      <td>LOMA LA LATA</td>\n",
       "      <td>Argentina</td>\n",
       "      <td>NaN</td>\n",
       "    </tr>\n",
       "    <tr>\n",
       "      <th>4</th>\n",
       "      <td>NaN</td>\n",
       "      <td>NaN</td>\n",
       "      <td>NaN</td>\n",
       "      <td>NaN</td>\n",
       "      <td>Small</td>\n",
       "      <td>-31.603</td>\n",
       "      <td>-68.547</td>\n",
       "      <td>5229.0</td>\n",
       "      <td>SAN JUAN AEROCLUB</td>\n",
       "      <td>Argentina</td>\n",
       "      <td>NaN</td>\n",
       "    </tr>\n",
       "  </tbody>\n",
       "</table>\n",
       "</div>"
      ],
      "text/plain": [
       "  city  FAA IATA ICAO   kind  latitude  longitude  max_runway  \\\n",
       "0  NaN  NaN  NaN  NaN  Small   -38.083    -70.668      5249.0   \n",
       "1  NaN  NaN  NaN  NaN  Small   -38.539    -70.337      5249.0   \n",
       "2  NaN  NaN  NaN  NaN  Small   -49.995    -68.953      3960.0   \n",
       "3  NaN  NaN  NaN  NaN  Small   -38.414    -68.737      3117.0   \n",
       "4  NaN  NaN  NaN  NaN  Small   -31.603    -68.547      5229.0   \n",
       "\n",
       "                          name    country state  \n",
       "0                     LONCOPUE  Argentina   NaN  \n",
       "1                    LAS LAJAS  Argentina   NaN  \n",
       "2  COMANDANTE LUIS PIEDRABUENA  Argentina   NaN  \n",
       "3                 LOMA LA LATA  Argentina   NaN  \n",
       "4            SAN JUAN AEROCLUB  Argentina   NaN  "
      ]
     },
     "execution_count": 14,
     "metadata": {},
     "output_type": "execute_result"
    }
   ],
   "source": [
    "airports = pd.concat([airports_df_1, airports_df_2], axis=0).reset_index(drop=True)\n",
    "\n",
    "# Clean up column names\n",
    "name_mapper = dict([(x,x.lower().replace(' ','_')) \n",
    "               for x in ['Kind','City','Name','Latitude','Longitude','Max Runway']])\n",
    "\n",
    "airports = airports.rename(columns=name_mapper)\n",
    "\n",
    "# Column formatting\n",
    "airports['latitude'] = airports.latitude.str.replace(r\"\"\"\\([NS]\\)\"\"\", '').astype(float)\n",
    "airports['longitude'] = airports.longitude.str.replace(r\"\"\"\\([EW]\\)\"\"\", '').astype(float)\n",
    "airports['max_runway'] = airports.max_runway.str.replace(r\"\"\" ft\"\"\", '').astype(float)\n",
    "\n",
    "airports.head()"
   ]
  },
  {
   "cell_type": "code",
   "execution_count": 15,
   "metadata": {
    "ExecuteTime": {
     "end_time": "2016-07-24T16:07:55.846955",
     "start_time": "2016-07-24T16:07:55.840781"
    },
    "collapsed": false,
    "scrolled": false
   },
   "outputs": [],
   "source": [
    "# Unused attempt at using airports to determine latitude and longitude\n",
    "# Decided to use google search instead\n",
    "\n",
    "# airport_array = arg_air['name'].str.lower().str.replace(' airport','')\n",
    "# arg_loc['airport_index'] = -1\n",
    "\n",
    "# for row,dat in arg_loc.iterrows():\n",
    "#     location_text = dat[dat.location_type].lower()\n",
    "#     location_index = dat.name\n",
    "    \n",
    "#     match_value = process.extractOne(location_text, airport_array)[0]\n",
    "#     match_index = airport_array.loc[airport_array==match_value].index[0]\n",
    "    \n",
    "#     arg_loc.loc[location_index, 'airport_index'] = match_index\n",
    "#     print(location_text, match_value)\n"
   ]
  },
  {
   "cell_type": "code",
   "execution_count": 16,
   "metadata": {
    "ExecuteTime": {
     "end_time": "2016-07-24T16:14:11.515764",
     "start_time": "2016-07-24T16:07:57.530823"
    },
    "collapsed": false
   },
   "outputs": [],
   "source": [
    "save_it(airports, '02_airport_information_fallingrain')"
   ]
  }
 ],
 "metadata": {
  "kernelspec": {
   "display_name": "Python 2",
   "language": "python",
   "name": "python2"
  },
  "language_info": {
   "codemirror_mode": {
    "name": "ipython",
    "version": 2
   },
   "file_extension": ".py",
   "mimetype": "text/x-python",
   "name": "python",
   "nbconvert_exporter": "python",
   "pygments_lexer": "ipython2",
   "version": "2.7.12"
  }
 },
 "nbformat": 4,
 "nbformat_minor": 0
}
