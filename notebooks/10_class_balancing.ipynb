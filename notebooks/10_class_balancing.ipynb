{
 "cells": [
  {
   "cell_type": "code",
   "execution_count": 180,
   "metadata": {
    "ExecuteTime": {
     "end_time": "2016-08-01T04:49:09.586720",
     "start_time": "2016-08-01T04:49:09.574335"
    },
    "collapsed": true,
    "run_control": {
     "marked": true
    }
   },
   "outputs": [],
   "source": [
    "import pandas as pd\n",
    "import numpy as np\n",
    "import dill\n",
    "from datetime import timedelta\n",
    "from dateutil.parser import parser\n",
    "from csv_pkl_sql import save_it, csv_it, pkl_it\n",
    "\n",
    "import matplotlib.pyplot as plt\n",
    "import seaborn as sns\n",
    "\n",
    "%matplotlib inline"
   ]
  },
  {
   "cell_type": "markdown",
   "metadata": {},
   "source": [
    "## Outbreak data"
   ]
  },
  {
   "cell_type": "code",
   "execution_count": 181,
   "metadata": {
    "ExecuteTime": {
     "end_time": "2016-08-01T04:49:10.470493",
     "start_time": "2016-08-01T04:49:10.343864"
    },
    "collapsed": false
   },
   "outputs": [
    {
     "data": {
      "text/html": [
       "<div>\n",
       "<table border=\"1\" class=\"dataframe\">\n",
       "  <thead>\n",
       "    <tr style=\"text-align: right;\">\n",
       "      <th></th>\n",
       "      <th>date</th>\n",
       "      <th>location</th>\n",
       "      <th>zika_cases</th>\n",
       "      <th>data_field</th>\n",
       "    </tr>\n",
       "  </thead>\n",
       "  <tbody>\n",
       "    <tr>\n",
       "      <th>0</th>\n",
       "      <td>2016-03-19</td>\n",
       "      <td>Argentina-Buenos_Aires</td>\n",
       "      <td>0</td>\n",
       "      <td>cumulative_confirmed_local_cases</td>\n",
       "    </tr>\n",
       "  </tbody>\n",
       "</table>\n",
       "</div>"
      ],
      "text/plain": [
       "        date                location  zika_cases  \\\n",
       "0 2016-03-19  Argentina-Buenos_Aires           0   \n",
       "\n",
       "                         data_field  \n",
       "0  cumulative_confirmed_local_cases  "
      ]
     },
     "execution_count": 181,
     "metadata": {},
     "output_type": "execute_result"
    }
   ],
   "source": [
    "infection = pd.read_pickle('../pkl/03_infection_data_final.pkl')\n",
    "infection.head(1)"
   ]
  },
  {
   "cell_type": "code",
   "execution_count": 182,
   "metadata": {
    "ExecuteTime": {
     "end_time": "2016-08-01T04:49:10.975641",
     "start_time": "2016-08-01T04:49:10.966937"
    },
    "collapsed": false
   },
   "outputs": [
    {
     "data": {
      "text/plain": [
       "date          datetime64[ns]\n",
       "location              object\n",
       "zika_cases             int64\n",
       "data_field            object\n",
       "dtype: object"
      ]
     },
     "execution_count": 182,
     "metadata": {},
     "output_type": "execute_result"
    }
   ],
   "source": [
    "infection.dtypes"
   ]
  },
  {
   "cell_type": "markdown",
   "metadata": {},
   "source": [
    "There are multiple data fields for a given date and location, so roll the data up by just date and location."
   ]
  },
  {
   "cell_type": "code",
   "execution_count": 183,
   "metadata": {
    "ExecuteTime": {
     "end_time": "2016-08-01T04:49:11.478800",
     "start_time": "2016-08-01T04:49:11.428063"
    },
    "collapsed": true
   },
   "outputs": [],
   "source": [
    "infection_sum = (infection[['date','location','zika_cases']]\n",
    "                 .groupby(['date','location'], as_index=False)\n",
    "                 .sum())"
   ]
  },
  {
   "cell_type": "markdown",
   "metadata": {},
   "source": [
    "### Feasibility for prediction"
   ]
  },
  {
   "cell_type": "code",
   "execution_count": 184,
   "metadata": {
    "ExecuteTime": {
     "end_time": "2016-08-01T04:49:11.857039",
     "start_time": "2016-08-01T04:49:11.828741"
    },
    "collapsed": false
   },
   "outputs": [],
   "source": [
    "def feasibility(df):\n",
    "    cases_first_date = df.loc[df.date==df.date.min(), 'zika_cases'].values[0]\n",
    "    date_first_date  = df.date.min()\n",
    "    \n",
    "    cases_max   = df.zika_cases.max()\n",
    "    date_max    = df.loc[df.zika_cases==df.zika_cases.max(), 'date'].values[0]\n",
    "    \n",
    "    cases_last  = df.loc[df.date==df.date.max(), 'zika_cases'].values[0]\n",
    "    date_last   = df.date.max()\n",
    "    \n",
    "    df2 = df.loc[df.zika_cases>0]\n",
    "    \n",
    "    if df2.shape[0]>=1:\n",
    "        cases_first_nonzero = df2.loc[df2.date==df2.date.min(),'zika_cases'].values[0]\n",
    "        date_first_nonzero  = df2.date.min()\n",
    "    else:\n",
    "        cases_first_nonzero = np.NaN\n",
    "        date_first_nonzero = np.NaN\n",
    "        \n",
    "    #print(type(date_first_date), type(date_max), type(date_last), type(date_first_nonzero))\n",
    "        \n",
    "    return pd.Series({'cases_first_date' : cases_first_date,\n",
    "                      'date_first_date'  : date_first_date,\n",
    "                      'cases_first_nonzero' : cases_first_nonzero,\n",
    "                      'date_first_nonzero'  : date_first_nonzero,\n",
    "                      'cases_max'  : cases_max,\n",
    "                      'date_max'   : date_max,\n",
    "                      'cases_last' : cases_last,\n",
    "                      'date_last'  : date_last})"
   ]
  },
  {
   "cell_type": "code",
   "execution_count": 185,
   "metadata": {
    "ExecuteTime": {
     "end_time": "2016-08-01T04:49:19.137764",
     "start_time": "2016-08-01T04:49:12.335899"
    },
    "collapsed": false,
    "scrolled": true
   },
   "outputs": [],
   "source": [
    "framework_key = (infection_sum\n",
    "                   .groupby('location')\n",
    "                   .apply(feasibility))"
   ]
  },
  {
   "cell_type": "code",
   "execution_count": 186,
   "metadata": {
    "ExecuteTime": {
     "end_time": "2016-08-01T04:49:19.167062",
     "start_time": "2016-08-01T04:49:19.139882"
    },
    "collapsed": false
   },
   "outputs": [
    {
     "data": {
      "text/html": [
       "<div>\n",
       "<table border=\"1\" class=\"dataframe\">\n",
       "  <thead>\n",
       "    <tr style=\"text-align: right;\">\n",
       "      <th></th>\n",
       "      <th>cases_first_date</th>\n",
       "      <th>cases_first_nonzero</th>\n",
       "      <th>cases_last</th>\n",
       "      <th>cases_max</th>\n",
       "      <th>date_first_date</th>\n",
       "      <th>date_first_nonzero</th>\n",
       "      <th>date_last</th>\n",
       "      <th>date_max</th>\n",
       "    </tr>\n",
       "    <tr>\n",
       "      <th>location</th>\n",
       "      <th></th>\n",
       "      <th></th>\n",
       "      <th></th>\n",
       "      <th></th>\n",
       "      <th></th>\n",
       "      <th></th>\n",
       "      <th></th>\n",
       "      <th></th>\n",
       "    </tr>\n",
       "  </thead>\n",
       "  <tbody>\n",
       "    <tr>\n",
       "      <th>Argentina-Buenos_Aires</th>\n",
       "      <td>130</td>\n",
       "      <td>130.0</td>\n",
       "      <td>227</td>\n",
       "      <td>356</td>\n",
       "      <td>2016-03-19 00:00:00</td>\n",
       "      <td>2016-03-19 00:00:00</td>\n",
       "      <td>2016-06-26 00:00:00</td>\n",
       "      <td>2016-05-22T00:00:00.000000000</td>\n",
       "    </tr>\n",
       "  </tbody>\n",
       "</table>\n",
       "</div>"
      ],
      "text/plain": [
       "                        cases_first_date  cases_first_nonzero  cases_last  \\\n",
       "location                                                                    \n",
       "Argentina-Buenos_Aires               130                130.0         227   \n",
       "\n",
       "                        cases_max      date_first_date   date_first_nonzero  \\\n",
       "location                                                                      \n",
       "Argentina-Buenos_Aires        356  2016-03-19 00:00:00  2016-03-19 00:00:00   \n",
       "\n",
       "                                  date_last                       date_max  \n",
       "location                                                                    \n",
       "Argentina-Buenos_Aires  2016-06-26 00:00:00  2016-05-22T00:00:00.000000000  "
      ]
     },
     "execution_count": 186,
     "metadata": {},
     "output_type": "execute_result"
    }
   ],
   "source": [
    "framework_key.head(1)"
   ]
  },
  {
   "cell_type": "code",
   "execution_count": 187,
   "metadata": {
    "ExecuteTime": {
     "end_time": "2016-08-01T04:49:24.439279",
     "start_time": "2016-08-01T04:49:24.417491"
    },
    "collapsed": false
   },
   "outputs": [
    {
     "name": "stdout",
     "output_type": "stream",
     "text": [
      "1605\n",
      "365\n",
      "718\n",
      "522\n"
     ]
    }
   ],
   "source": [
    "# Total size\n",
    "print framework_key.shape[0]\n",
    "\n",
    "# Completely zero entries\n",
    "print framework_key.query('cases_max==0').shape[0]\n",
    "\n",
    "# No zeros at all\n",
    "print framework_key.query('cases_first_date>0').shape[0]\n",
    "\n",
    "# Number of entries that start at zero and have cases\n",
    "print ((framework_key.cases_max>0) & (framework_key.cases_first_date==0)).sum()"
   ]
  },
  {
   "cell_type": "code",
   "execution_count": 188,
   "metadata": {
    "ExecuteTime": {
     "end_time": "2016-08-01T04:49:25.090520",
     "start_time": "2016-08-01T04:49:25.079106"
    },
    "collapsed": false
   },
   "outputs": [],
   "source": [
    "framework_key['date_max'] = pd.to_datetime(framework_key.date_max)\n",
    "framework_key['date_last'] = pd.to_datetime(framework_key.date_last)\n",
    "framework_key['date_first_date'] = pd.to_datetime(framework_key.date_first_date)\n",
    "framework_key['date_first_nonzero'] = pd.to_datetime(framework_key.date_first_nonzero)"
   ]
  },
  {
   "cell_type": "code",
   "execution_count": 189,
   "metadata": {
    "ExecuteTime": {
     "end_time": "2016-08-01T04:49:25.649720",
     "start_time": "2016-08-01T04:49:25.640121"
    },
    "collapsed": false
   },
   "outputs": [
    {
     "data": {
      "text/plain": [
       "cases_first_date                int64\n",
       "cases_first_nonzero           float64\n",
       "cases_last                      int64\n",
       "cases_max                       int64\n",
       "date_first_date        datetime64[ns]\n",
       "date_first_nonzero     datetime64[ns]\n",
       "date_last              datetime64[ns]\n",
       "date_max               datetime64[ns]\n",
       "dtype: object"
      ]
     },
     "execution_count": 189,
     "metadata": {},
     "output_type": "execute_result"
    }
   ],
   "source": [
    "framework_key.dtypes"
   ]
  },
  {
   "cell_type": "markdown",
   "metadata": {},
   "source": [
    "### Framework B\n",
    "Outbreak and non-outbreak samples come from the same location. The oubreak date is either the date of the first non-zero case entry (`first`) or the maximum (`max`) non-zero entry. The non-outbreak date corresponds to the first date, which is defined as being non-zero."
   ]
  },
  {
   "cell_type": "code",
   "execution_count": 190,
   "metadata": {
    "ExecuteTime": {
     "end_time": "2016-08-01T04:49:27.900810",
     "start_time": "2016-08-01T04:49:27.838651"
    },
    "collapsed": false
   },
   "outputs": [
    {
     "data": {
      "text/html": [
       "<div>\n",
       "<table border=\"1\" class=\"dataframe\">\n",
       "  <thead>\n",
       "    <tr style=\"text-align: right;\">\n",
       "      <th></th>\n",
       "      <th>location</th>\n",
       "      <th>date</th>\n",
       "      <th>zika_bool</th>\n",
       "    </tr>\n",
       "  </thead>\n",
       "  <tbody>\n",
       "    <tr>\n",
       "      <th>0</th>\n",
       "      <td>Argentina-San_Juan</td>\n",
       "      <td>2016-03-19</td>\n",
       "      <td>0</td>\n",
       "    </tr>\n",
       "    <tr>\n",
       "      <th>1</th>\n",
       "      <td>Argentina-San_Juan</td>\n",
       "      <td>2016-05-07</td>\n",
       "      <td>1</td>\n",
       "    </tr>\n",
       "    <tr>\n",
       "      <th>2</th>\n",
       "      <td>Brazil-Amapa</td>\n",
       "      <td>2016-05-28</td>\n",
       "      <td>1</td>\n",
       "    </tr>\n",
       "    <tr>\n",
       "      <th>3</th>\n",
       "      <td>Brazil-Amapa</td>\n",
       "      <td>2016-02-13</td>\n",
       "      <td>0</td>\n",
       "    </tr>\n",
       "    <tr>\n",
       "      <th>4</th>\n",
       "      <td>Brazil-Amazonas</td>\n",
       "      <td>2016-05-28</td>\n",
       "      <td>1</td>\n",
       "    </tr>\n",
       "  </tbody>\n",
       "</table>\n",
       "</div>"
      ],
      "text/plain": [
       "             location       date  zika_bool\n",
       "0  Argentina-San_Juan 2016-03-19          0\n",
       "1  Argentina-San_Juan 2016-05-07          1\n",
       "2        Brazil-Amapa 2016-05-28          1\n",
       "3        Brazil-Amapa 2016-02-13          0\n",
       "4     Brazil-Amazonas 2016-05-28          1"
      ]
     },
     "execution_count": 190,
     "metadata": {},
     "output_type": "execute_result"
    }
   ],
   "source": [
    "mask = ((framework_key.cases_max>0) & (framework_key.cases_first_date==0))\n",
    "\n",
    "framework_b_first = pd.concat([(framework_key\n",
    "                                .loc[mask, ['date_first_date']]\n",
    "                                .assign(zika_bool=0)\n",
    "                                .rename(columns={'date_first_date':'date'})),\n",
    "                               (framework_key\n",
    "                                .loc[mask, ['date_first_nonzero']]\n",
    "                                .assign(zika_bool=1)\n",
    "                                .rename(columns={'date_first_nonzero':'date'}))]).sort_index().reset_index()\n",
    "\n",
    "framework_b_max   = pd.concat([(framework_key\n",
    "                                .loc[mask, ['date_first_date']]\n",
    "                                .assign(zika_bool=0)\n",
    "                                .rename(columns={'date_first_date':'date'})),\n",
    "                               (framework_key\n",
    "                                .loc[mask, ['date_max']]\n",
    "                                .assign(zika_bool=1)\n",
    "                                .rename(columns={'date_max':'date'}))]).sort_index().reset_index()\n",
    "\n",
    "framework_b_max.head(5)"
   ]
  },
  {
   "cell_type": "code",
   "execution_count": 191,
   "metadata": {
    "ExecuteTime": {
     "end_time": "2016-08-01T04:49:28.327945",
     "start_time": "2016-08-01T04:49:28.318855"
    },
    "collapsed": false
   },
   "outputs": [
    {
     "data": {
      "text/plain": [
       "location             object\n",
       "date         datetime64[ns]\n",
       "zika_bool             int64\n",
       "dtype: object"
      ]
     },
     "execution_count": 191,
     "metadata": {},
     "output_type": "execute_result"
    }
   ],
   "source": [
    "framework_b_first.dtypes"
   ]
  },
  {
   "cell_type": "code",
   "execution_count": 192,
   "metadata": {
    "ExecuteTime": {
     "end_time": "2016-08-01T04:49:33.459431",
     "start_time": "2016-08-01T04:49:33.450143"
    },
    "collapsed": false
   },
   "outputs": [
    {
     "data": {
      "text/plain": [
       "1    522\n",
       "0    522\n",
       "Name: zika_bool, dtype: int64"
      ]
     },
     "execution_count": 192,
     "metadata": {},
     "output_type": "execute_result"
    }
   ],
   "source": [
    "framework_b_first.zika_bool.value_counts()"
   ]
  },
  {
   "cell_type": "code",
   "execution_count": 193,
   "metadata": {
    "ExecuteTime": {
     "end_time": "2016-08-01T04:49:34.201157",
     "start_time": "2016-08-01T04:49:34.192239"
    },
    "collapsed": false
   },
   "outputs": [
    {
     "data": {
      "text/plain": [
       "1    522\n",
       "0    522\n",
       "Name: zika_bool, dtype: int64"
      ]
     },
     "execution_count": 193,
     "metadata": {},
     "output_type": "execute_result"
    }
   ],
   "source": [
    "framework_b_max.zika_bool.value_counts()"
   ]
  },
  {
   "cell_type": "code",
   "execution_count": 194,
   "metadata": {
    "ExecuteTime": {
     "end_time": "2016-08-01T04:49:37.079566",
     "start_time": "2016-08-01T04:49:37.073815"
    },
    "collapsed": true
   },
   "outputs": [],
   "source": [
    "framework_b_first.to_pickle('../pkl/10_class_balancing_framework_b_first.pkl')"
   ]
  },
  {
   "cell_type": "code",
   "execution_count": 195,
   "metadata": {
    "ExecuteTime": {
     "end_time": "2016-08-01T04:49:37.502202",
     "start_time": "2016-08-01T04:49:37.495551"
    },
    "collapsed": true
   },
   "outputs": [],
   "source": [
    "framework_b_max.to_pickle('../pkl/10_class_balancing_framework_b_max.pkl')"
   ]
  },
  {
   "cell_type": "markdown",
   "metadata": {},
   "source": [
    "### Framework A\n",
    "\n",
    "Data for outbreak and non-outbreak come from separate locations. Outbreak data are non-zero with regards to cases at any time. There are two possibilities for definition of outbreak date:\n",
    "\n",
    "Outbreak date can be chosen for the first non-zero value (`first`) or to correspond to the maximum non-zero value (`max`)\n",
    "\n"
   ]
  },
  {
   "cell_type": "code",
   "execution_count": 196,
   "metadata": {
    "ExecuteTime": {
     "end_time": "2016-08-01T04:49:38.673660",
     "start_time": "2016-08-01T04:49:38.625451"
    },
    "collapsed": false
   },
   "outputs": [],
   "source": [
    "mask = framework_key.cases_max > 0\n",
    "\n",
    "framework_a_first = pd.concat([(framework_key\n",
    "                                .loc[mask, ['date_first_nonzero']]\n",
    "                                .assign(zika_bool=1)\n",
    "                                .rename(columns={'date_first_nonzero':'date'})),\n",
    "                               \n",
    "                                # zero case data are taken from first date\n",
    "                               (framework_key\n",
    "                                .loc[mask.pipe(np.invert), ['date_first_date']]\n",
    "                                .assign(zika_bool=0)\n",
    "                                .rename(columns={'date_first_date':'date'}))]).sort_index().reset_index()\n",
    "\n",
    "\n",
    "framework_a_max  = pd.concat([(framework_key\n",
    "                                .loc[mask, ['date_max']]\n",
    "                                .assign(zika_bool=1)\n",
    "                                .rename(columns={'date_max':'date'})),\n",
    "                              \n",
    "                                # zero case data are taken from first date\n",
    "                               (framework_key\n",
    "                                .loc[mask.pipe(np.invert), ['date_first_date']]\n",
    "                                .assign(zika_bool=0)\n",
    "                                .rename(columns={'date_first_date':'date'}))]).sort_index().reset_index()"
   ]
  },
  {
   "cell_type": "code",
   "execution_count": 197,
   "metadata": {
    "ExecuteTime": {
     "end_time": "2016-08-01T04:49:39.620572",
     "start_time": "2016-08-01T04:49:39.607840"
    },
    "collapsed": false
   },
   "outputs": [
    {
     "data": {
      "text/plain": [
       "1    1240\n",
       "0     365\n",
       "Name: zika_bool, dtype: int64"
      ]
     },
     "execution_count": 197,
     "metadata": {},
     "output_type": "execute_result"
    }
   ],
   "source": [
    "framework_a_first.zika_bool.value_counts()"
   ]
  },
  {
   "cell_type": "code",
   "execution_count": 198,
   "metadata": {
    "ExecuteTime": {
     "end_time": "2016-08-01T04:49:40.666432",
     "start_time": "2016-08-01T04:49:40.656256"
    },
    "collapsed": false
   },
   "outputs": [
    {
     "data": {
      "text/plain": [
       "1    1240\n",
       "0     365\n",
       "Name: zika_bool, dtype: int64"
      ]
     },
     "execution_count": 198,
     "metadata": {},
     "output_type": "execute_result"
    }
   ],
   "source": [
    "framework_a_max.zika_bool.value_counts()"
   ]
  },
  {
   "cell_type": "markdown",
   "metadata": {},
   "source": [
    "Write the dataframes to pickle files."
   ]
  },
  {
   "cell_type": "code",
   "execution_count": 199,
   "metadata": {
    "ExecuteTime": {
     "end_time": "2016-08-01T04:49:51.037905",
     "start_time": "2016-08-01T04:49:51.027450"
    },
    "collapsed": false
   },
   "outputs": [
    {
     "data": {
      "text/plain": [
       "location             object\n",
       "date         datetime64[ns]\n",
       "zika_bool             int64\n",
       "dtype: object"
      ]
     },
     "execution_count": 199,
     "metadata": {},
     "output_type": "execute_result"
    }
   ],
   "source": [
    "framework_a_first.dtypes"
   ]
  },
  {
   "cell_type": "code",
   "execution_count": 200,
   "metadata": {
    "ExecuteTime": {
     "end_time": "2016-08-01T04:49:51.899207",
     "start_time": "2016-08-01T04:49:51.891586"
    },
    "collapsed": true
   },
   "outputs": [],
   "source": [
    "framework_a_first.to_pickle('../pkl/10_class_balancing_framework_a_first.pkl')"
   ]
  },
  {
   "cell_type": "code",
   "execution_count": 201,
   "metadata": {
    "ExecuteTime": {
     "end_time": "2016-08-01T04:49:52.807530",
     "start_time": "2016-08-01T04:49:52.799311"
    },
    "collapsed": true
   },
   "outputs": [],
   "source": [
    "framework_a_max.to_pickle('../pkl/10_class_balancing_framework_a_max.pkl')"
   ]
  }
 ],
 "metadata": {
  "kernelspec": {
   "display_name": "Python 2",
   "language": "python",
   "name": "python2"
  },
  "language_info": {
   "codemirror_mode": {
    "name": "ipython",
    "version": 2
   },
   "file_extension": ".py",
   "mimetype": "text/x-python",
   "name": "python",
   "nbconvert_exporter": "python",
   "pygments_lexer": "ipython2",
   "version": "2.7.12"
  }
 },
 "nbformat": 4,
 "nbformat_minor": 0
}
