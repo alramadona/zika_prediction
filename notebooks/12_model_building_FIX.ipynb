{
 "cells": [
  {
   "cell_type": "code",
   "execution_count": 1,
   "metadata": {
    "ExecuteTime": {
     "end_time": "2016-08-03T05:47:49.535887",
     "start_time": "2016-08-03T05:47:49.512995"
    },
    "collapsed": false,
    "run_control": {
     "marked": true
    }
   },
   "outputs": [],
   "source": [
    "import pandas as pd\n",
    "import numpy as np\n",
    "import dill\n",
    "from sqlalchemy import create_engine\n",
    "from api_keys import POSTGRES_PWD\n",
    "\n",
    "from imblearn.pipeline import make_pipeline\n",
    "from imblearn.ensemble import EasyEnsemble, BalanceCascade\n",
    "from imblearn.over_sampling import ADASYN\n",
    "\n",
    "from sklearn.preprocessing import Normalizer\n",
    "from sklearn.cross_validation import train_test_split, StratifiedShuffleSplit, KFold\n",
    "from sklearn.linear_model import LogisticRegressionCV\n",
    "from sklearn.ensemble import RandomForestClassifier, AdaBoostClassifier\n",
    "from sklearn.tree import DecisionTreeClassifier\n",
    "from sklearn.svm import SVC, LinearSVC\n",
    "from sklearn.grid_search import GridSearchCV\n",
    "from sklearn.metrics import confusion_matrix, f1_score, roc_auc_score, roc_curve\n",
    "from sklearn.metrics import auc, accuracy_score, precision_recall_curve\n",
    "from sklearn.metrics import precision_score, recall_score\n",
    "\n",
    "%matplotlib inline\n",
    "import matplotlib.pyplot as plt\n",
    "\n",
    "import seaborn as sns\n",
    "\n",
    "sns.set_context('talk')\n",
    "sns.set_palette('dark')\n",
    "sns.set_style('white')"
   ]
  },
  {
   "cell_type": "markdown",
   "metadata": {
    "run_control": {
     "marked": true
    }
   },
   "source": [
    "## Combine data\n",
    "\n",
    "First read and normalize the features."
   ]
  },
  {
   "cell_type": "code",
   "execution_count": 2,
   "metadata": {
    "collapsed": true
   },
   "outputs": [],
   "source": [
    "cnx = create_engine('postgresql://mlgill:{}@127.0.0.1:5432/zika'.format(POSTGRES_PWD))"
   ]
  },
  {
   "cell_type": "code",
   "execution_count": 6,
   "metadata": {
    "collapsed": false
   },
   "outputs": [],
   "source": [
    "features = pd.read_sql_query(r\"\"\"select * \n",
    "                                  from sql_11_feature_engineering_weather as w \n",
    "                                  left join sql_11_feature_engineering_population as p \n",
    "                                  on w.location = p.location \n",
    "                                  left join sql_11_feature_engineering_airport_distance as a \n",
    "                                  on w.location = a.location \n",
    "                                  left join sql_11_feature_engineering_mosquito_distance as m \n",
    "                                  on w.location = m.location \n",
    "                                  left join sql_11_feature_engineering_location as l \n",
    "                                  on w.location = l.location \n",
    "                                  left join sql_11_feature_engineering_gdp as g \n",
    "                                  on l.country = g.country;\n",
    "                               \"\"\", cnx)\n",
    "\n",
    "features = features.drop(['index', 'country'], axis=1).T.groupby(level=0).first().T.dropna()\n",
    "features['date'] = pd.to_datetime(features['date'])\n",
    "\n",
    "for col in features.columns:\n",
    "    if col not in ['date', 'location']:\n",
    "        features[col] = features[col].astype(np.float)\n",
    "        "
   ]
  },
  {
   "cell_type": "code",
   "execution_count": 9,
   "metadata": {
    "collapsed": false
   },
   "outputs": [],
   "source": [
    "feat_cols = [x for x in features.columns if x not in ['date','location']]\n",
    "features[feat_cols] = Normalizer().fit_transform(features[feat_cols])"
   ]
  },
  {
   "cell_type": "markdown",
   "metadata": {},
   "source": [
    "Import the predictors."
   ]
  },
  {
   "cell_type": "code",
   "execution_count": 10,
   "metadata": {
    "ExecuteTime": {
     "end_time": "2016-08-03T05:47:52.593220",
     "start_time": "2016-08-03T05:47:52.569449"
    },
    "collapsed": true,
    "run_control": {
     "marked": true
    }
   },
   "outputs": [],
   "source": [
    "framework_b_first = pd.read_pickle('../pkl/10_class_balancing_framework_b_first.pkl')\n",
    "framework_b_max   = pd.read_pickle('../pkl/10_class_balancing_framework_b_max.pkl')\n",
    "\n",
    "framework_a_first = pd.read_pickle('../pkl/10_class_balancing_framework_a_first.pkl')\n",
    "framework_a_max   = pd.read_pickle('../pkl/10_class_balancing_framework_a_max.pkl')"
   ]
  },
  {
   "cell_type": "code",
   "execution_count": 13,
   "metadata": {
    "ExecuteTime": {
     "end_time": "2016-08-03T05:47:53.486003",
     "start_time": "2016-08-03T05:47:53.408640"
    },
    "collapsed": false,
    "run_control": {
     "marked": true
    }
   },
   "outputs": [
    {
     "name": "stdout",
     "output_type": "stream",
     "text": [
      "(1044, 3) 0\n",
      "(656, 27) 0\n",
      "1    330\n",
      "0    326\n",
      "Name: zika_bool, dtype: int64\n"
     ]
    }
   ],
   "source": [
    "print framework_b_first.shape, framework_b_first.isnull().sum().max()\n",
    "\n",
    "fwd_b_first = pd.merge(framework_b_first, \n",
    "                       features, \n",
    "                       on=['date','location'], how='left').dropna()\n",
    "\n",
    "print fwd_b_first.shape, fwd_b_first.isnull().sum().max()\n",
    "\n",
    "print fwd_b_first.zika_bool.value_counts()"
   ]
  },
  {
   "cell_type": "code",
   "execution_count": 14,
   "metadata": {
    "ExecuteTime": {
     "end_time": "2016-08-03T05:47:55.937840",
     "start_time": "2016-08-03T05:47:55.883340"
    },
    "collapsed": false,
    "run_control": {
     "marked": true
    }
   },
   "outputs": [
    {
     "name": "stdout",
     "output_type": "stream",
     "text": [
      "(1044, 3) 0\n",
      "(655, 27) 0\n",
      "1    329\n",
      "0    326\n",
      "Name: zika_bool, dtype: int64\n"
     ]
    }
   ],
   "source": [
    "print framework_b_max.shape, framework_b_max.isnull().sum().max()\n",
    "\n",
    "fwd_b_max = pd.merge(framework_b_max, \n",
    "                       features, \n",
    "                       on=['date','location'], how='left').dropna()\n",
    "\n",
    "print fwd_b_max.shape, fwd_b_max.isnull().sum().max()\n",
    "\n",
    "print fwd_b_max.zika_bool.value_counts()"
   ]
  },
  {
   "cell_type": "code",
   "execution_count": 15,
   "metadata": {
    "ExecuteTime": {
     "end_time": "2016-08-03T05:47:56.852474",
     "start_time": "2016-08-03T05:47:56.783220"
    },
    "collapsed": false,
    "run_control": {
     "marked": true
    }
   },
   "outputs": [
    {
     "name": "stdout",
     "output_type": "stream",
     "text": [
      "(1605, 3) 0\n",
      "(1142, 27) 0\n",
      "1    948\n",
      "0    194\n",
      "Name: zika_bool, dtype: int64\n"
     ]
    }
   ],
   "source": [
    "print framework_a_first.shape, framework_a_first.isnull().sum().max()\n",
    "\n",
    "fwd_a_first = pd.merge(framework_a_first, \n",
    "                       features, \n",
    "                       on=['date','location'], how='left').dropna()\n",
    "\n",
    "print fwd_a_first.shape, fwd_a_first.isnull().sum().max()\n",
    "\n",
    "print fwd_a_first.zika_bool.value_counts()"
   ]
  },
  {
   "cell_type": "code",
   "execution_count": 16,
   "metadata": {
    "ExecuteTime": {
     "end_time": "2016-08-03T05:47:57.658400",
     "start_time": "2016-08-03T05:47:57.590070"
    },
    "collapsed": false,
    "run_control": {
     "marked": true
    }
   },
   "outputs": [
    {
     "name": "stdout",
     "output_type": "stream",
     "text": [
      "(1605, 3) 0\n",
      "(1142, 27) 0\n",
      "1    948\n",
      "0    194\n",
      "Name: zika_bool, dtype: int64\n"
     ]
    }
   ],
   "source": [
    "print framework_a_max.shape, framework_a_max.isnull().sum().max()\n",
    "\n",
    "fwd_a_max = pd.merge(framework_a_max, \n",
    "                       features, \n",
    "                       on=['date','location'], how='left').dropna()\n",
    "\n",
    "print fwd_a_max.shape, fwd_a_max.isnull().sum().max()\n",
    "\n",
    "print fwd_a_max.zika_bool.value_counts()"
   ]
  },
  {
   "cell_type": "markdown",
   "metadata": {
    "run_control": {
     "marked": true
    }
   },
   "source": [
    "Split the data into train and test portions."
   ]
  },
  {
   "cell_type": "code",
   "execution_count": 17,
   "metadata": {
    "ExecuteTime": {
     "end_time": "2016-08-03T05:47:58.756110",
     "start_time": "2016-08-03T05:47:58.735033"
    },
    "collapsed": true,
    "run_control": {
     "marked": true
    }
   },
   "outputs": [],
   "source": [
    "fbm_train, fbm_test = train_test_split(fwd_b_max,   test_size=0.30, random_state=42)\n",
    "fbf_train, fbf_test = train_test_split(fwd_b_first, test_size=0.30, random_state=42)\n",
    "fam_train, fam_test = train_test_split(fwd_a_max,   test_size=0.30, random_state=42)\n",
    "faf_train, faf_test = train_test_split(fwd_a_first, test_size=0.30, random_state=42)"
   ]
  },
  {
   "cell_type": "markdown",
   "metadata": {
    "run_control": {
     "marked": true
    }
   },
   "source": [
    "## Logistic regression"
   ]
  },
  {
   "cell_type": "code",
   "execution_count": 18,
   "metadata": {
    "ExecuteTime": {
     "end_time": "2016-08-01T08:47:44.496437",
     "start_time": "2016-08-01T08:47:15.712415"
    },
    "collapsed": false,
    "run_control": {
     "marked": true
    }
   },
   "outputs": [],
   "source": [
    "logistic_list = list()\n",
    "\n",
    "for train,test,label in zip([fam_train, faf_train],\n",
    "                            [fam_test,  faf_test],\n",
    "                            ['Framework A, Max', 'Framework A, First']):\n",
    "    \n",
    "    Ytest = test['zika_bool']\n",
    "    \n",
    "    for penalty in ['l1','l2']:\n",
    "        if penalty=='l1':\n",
    "            LR = LogisticRegressionCV(Cs=10, penalty='l1', solver='liblinear')\n",
    "        else:\n",
    "            LR = LogisticRegressionCV(Cs=10, penalty='l2')\n",
    "\n",
    "        LR.fit(train[feat_cols], train['zika_bool'])\n",
    "        Ypred = LR.predict(test[feat_cols])\n",
    "        \n",
    "        cm = confusion_matrix(Ytest, Ypred)\n",
    "        f1 = f1_score(Ytest, Ypred)\n",
    "        accuracy = accuracy_score(Ytest, Ypred)\n",
    "        auc = roc_auc_score(Ytest, Ypred)\n",
    "        \n",
    "        Yplot = LR.predict_proba(test[feat_cols])[:,1]\n",
    "        xdata, ydata, _ = roc_curve(Ytest, Yplot)\n",
    "        #xdata, ydata, _ = roc_curve(train['zika_bool'], LR.predict(train[feat_cols]))\n",
    "        \n",
    "        df = pd.Series({'data':label, 'penalty':penalty,\n",
    "                        'cm': cm, 'f1': f1, \n",
    "                        'accuracy':accuracy, 'auc':auc,\n",
    "                        'roc_x': xdata, 'roc_y': ydata, 'model':LR})\n",
    "        \n",
    "        logistic_list.append(df)\n",
    "\n"
   ]
  },
  {
   "cell_type": "code",
   "execution_count": 19,
   "metadata": {
    "ExecuteTime": {
     "end_time": "2016-08-01T08:47:44.544137",
     "start_time": "2016-08-01T08:47:44.498780"
    },
    "collapsed": false,
    "run_control": {
     "marked": true
    }
   },
   "outputs": [
    {
     "data": {
      "text/html": [
       "<div>\n",
       "<table border=\"1\" class=\"dataframe\">\n",
       "  <thead>\n",
       "    <tr style=\"text-align: right;\">\n",
       "      <th></th>\n",
       "      <th></th>\n",
       "      <th>accuracy</th>\n",
       "      <th>f1</th>\n",
       "      <th>auc</th>\n",
       "      <th>cm</th>\n",
       "    </tr>\n",
       "    <tr>\n",
       "      <th>data</th>\n",
       "      <th>penalty</th>\n",
       "      <th></th>\n",
       "      <th></th>\n",
       "      <th></th>\n",
       "      <th></th>\n",
       "    </tr>\n",
       "  </thead>\n",
       "  <tbody>\n",
       "    <tr>\n",
       "      <th rowspan=\"2\" valign=\"top\">Framework A, Max</th>\n",
       "      <th>l1</th>\n",
       "      <td>0.932945</td>\n",
       "      <td>0.960684</td>\n",
       "      <td>0.837761</td>\n",
       "      <td>[[39, 17], [6, 281]]</td>\n",
       "    </tr>\n",
       "    <tr>\n",
       "      <th>l2</th>\n",
       "      <td>0.927114</td>\n",
       "      <td>0.957411</td>\n",
       "      <td>0.819904</td>\n",
       "      <td>[[37, 19], [6, 281]]</td>\n",
       "    </tr>\n",
       "    <tr>\n",
       "      <th rowspan=\"2\" valign=\"top\">Framework A, First</th>\n",
       "      <th>l1</th>\n",
       "      <td>0.854227</td>\n",
       "      <td>0.916107</td>\n",
       "      <td>0.659369</td>\n",
       "      <td>[[20, 33], [17, 273]]</td>\n",
       "    </tr>\n",
       "    <tr>\n",
       "      <th>l2</th>\n",
       "      <td>0.868805</td>\n",
       "      <td>0.925125</td>\n",
       "      <td>0.66799</td>\n",
       "      <td>[[20, 33], [12, 278]]</td>\n",
       "    </tr>\n",
       "  </tbody>\n",
       "</table>\n",
       "</div>"
      ],
      "text/plain": [
       "                            accuracy        f1       auc  \\\n",
       "data               penalty                                 \n",
       "Framework A, Max   l1       0.932945  0.960684  0.837761   \n",
       "                   l2       0.927114  0.957411  0.819904   \n",
       "Framework A, First l1       0.854227  0.916107  0.659369   \n",
       "                   l2       0.868805  0.925125   0.66799   \n",
       "\n",
       "                                               cm  \n",
       "data               penalty                         \n",
       "Framework A, Max   l1        [[39, 17], [6, 281]]  \n",
       "                   l2        [[37, 19], [6, 281]]  \n",
       "Framework A, First l1       [[20, 33], [17, 273]]  \n",
       "                   l2       [[20, 33], [12, 278]]  "
      ]
     },
     "execution_count": 19,
     "metadata": {},
     "output_type": "execute_result"
    }
   ],
   "source": [
    "logistic_results = (pd.concat(logistic_list, axis=1).T\n",
    "                    .set_index(['data','penalty']))\n",
    "logistic_results[['accuracy','f1','auc', 'cm']]"
   ]
  },
  {
   "cell_type": "code",
   "execution_count": 20,
   "metadata": {
    "ExecuteTime": {
     "end_time": "2016-08-01T08:47:45.051738",
     "start_time": "2016-08-01T08:47:44.547272"
    },
    "collapsed": false,
    "run_control": {
     "marked": true
    }
   },
   "outputs": [
    {
     "data": {
      "image/png": "[encoded data removed]",
      "text/plain": [
       "<matplotlib.figure.Figure at 0x7f6c6a506b10>"
      ]
     },
     "metadata": {},
     "output_type": "display_data"
    }
   ],
   "source": [
    "f = plt.figure()\n",
    "f.set_size_inches(7,5)\n",
    "ax = plt.axes()\n",
    "\n",
    "colors = sns.color_palette()\n",
    "\n",
    "for idx,dat in logistic_results.iterrows():\n",
    "    label = ' '.join(idx)\n",
    "    xdata = dat.roc_x\n",
    "    ydata = dat.roc_y\n",
    "    ax.plot(xdata, ydata, label=label)\n",
    "\n",
    "ax.legend(loc=0)\n",
    "\n",
    "_ = ax.set(xlabel='False Positive Rate', \n",
    "       ylabel='True Positive Rate',\n",
    "       title='ROC Curve')\n",
    "\n",
    "plt.tight_layout()"
   ]
  },
  {
   "cell_type": "markdown",
   "metadata": {
    "run_control": {
     "marked": true
    }
   },
   "source": [
    "## Random Forest Classifier"
   ]
  },
  {
   "cell_type": "code",
   "execution_count": 21,
   "metadata": {
    "ExecuteTime": {
     "end_time": "2016-08-01T14:31:29.204955",
     "start_time": "2016-08-01T14:31:22.408543"
    },
    "collapsed": false,
    "run_control": {
     "marked": true
    }
   },
   "outputs": [
    {
     "ename": "SyntaxError",
     "evalue": "invalid syntax (<ipython-input-21-a5ba88e58fc7>, line 5)",
     "output_type": "error",
     "traceback": [
      "\u001b[0;36m  File \u001b[0;32m\"<ipython-input-21-a5ba88e58fc7>\"\u001b[0;36m, line \u001b[0;32m5\u001b[0m\n\u001b[0;31m    random_state=42, verbose=0, oob_score=True)\u001b[0m\n\u001b[0m               ^\u001b[0m\n\u001b[0;31mSyntaxError\u001b[0m\u001b[0;31m:\u001b[0m invalid syntax\n"
     ]
    }
   ],
   "source": [
    "random_forest_list = list()\n",
    "\n",
    "param_grid = {'max_depth':range(1,26), 'n_estimators':[100,200,300,400,500]}\n",
    "RF = RandomForestClassifier(max_depth=8, n_jobs=-1, class_weight='balanced',\n",
    "                            random_state=42, verbose=0, oob_score=True)\n",
    "\n",
    "RFCV = GridSearchCV(RF, param_grid)\n",
    "RFCV.fit(faf_train[feat_cols],  faf_train)\n",
    "Ypred = RF.predict(test[feat_cols])\n"
   ]
  },
  {
   "cell_type": "code",
   "execution_count": 157,
   "metadata": {
    "ExecuteTime": {
     "end_time": "2016-08-01T14:31:35.838790",
     "start_time": "2016-08-01T14:31:35.798689"
    },
    "collapsed": false,
    "run_control": {
     "marked": true
    }
   },
   "outputs": [
    {
     "data": {
      "text/html": [
       "<div>\n",
       "<table border=\"1\" class=\"dataframe\">\n",
       "  <thead>\n",
       "    <tr style=\"text-align: right;\">\n",
       "      <th></th>\n",
       "      <th>accuracy</th>\n",
       "      <th>f1</th>\n",
       "      <th>auc</th>\n",
       "      <th>cm</th>\n",
       "    </tr>\n",
       "    <tr>\n",
       "      <th>data</th>\n",
       "      <th></th>\n",
       "      <th></th>\n",
       "      <th></th>\n",
       "      <th></th>\n",
       "    </tr>\n",
       "  </thead>\n",
       "  <tbody>\n",
       "    <tr>\n",
       "      <th>Framework B, Max</th>\n",
       "      <td>0.878788</td>\n",
       "      <td>0.878788</td>\n",
       "      <td>0.879596</td>\n",
       "      <td>[[87, 15], [9, 87]]</td>\n",
       "    </tr>\n",
       "    <tr>\n",
       "      <th>Framework B, First</th>\n",
       "      <td>0.90404</td>\n",
       "      <td>0.909953</td>\n",
       "      <td>0.902862</td>\n",
       "      <td>[[83, 12], [7, 96]]</td>\n",
       "    </tr>\n",
       "    <tr>\n",
       "      <th>Framework A, Max</th>\n",
       "      <td>0.886297</td>\n",
       "      <td>0.933333</td>\n",
       "      <td>0.731435</td>\n",
       "      <td>[[31, 33], [6, 273]]</td>\n",
       "    </tr>\n",
       "    <tr>\n",
       "      <th>Framework A, First</th>\n",
       "      <td>0.886297</td>\n",
       "      <td>0.933333</td>\n",
       "      <td>0.731435</td>\n",
       "      <td>[[31, 33], [6, 273]]</td>\n",
       "    </tr>\n",
       "  </tbody>\n",
       "</table>\n",
       "</div>"
      ],
      "text/plain": [
       "                    accuracy        f1       auc                    cm\n",
       "data                                                                  \n",
       "Framework B, Max    0.878788  0.878788  0.879596   [[87, 15], [9, 87]]\n",
       "Framework B, First   0.90404  0.909953  0.902862   [[83, 12], [7, 96]]\n",
       "Framework A, Max    0.886297  0.933333  0.731435  [[31, 33], [6, 273]]\n",
       "Framework A, First  0.886297  0.933333  0.731435  [[31, 33], [6, 273]]"
      ]
     },
     "execution_count": 157,
     "metadata": {},
     "output_type": "execute_result"
    }
   ],
   "source": [
    "random_forest_results = (pd.concat(random_forest_list, axis=1).T\n",
    "                         .set_index('data'))\n",
    "random_forest_results[['accuracy','f1','auc', 'cm']]"
   ]
  },
  {
   "cell_type": "code",
   "execution_count": 158,
   "metadata": {
    "ExecuteTime": {
     "end_time": "2016-08-01T14:32:05.630903",
     "start_time": "2016-08-01T14:32:05.253377"
    },
    "collapsed": false,
    "run_control": {
     "marked": true
    }
   },
   "outputs": [
    {
     "data": {
      "image/png": "[encoded data removed]",
      "text/plain": [
       "<matplotlib.figure.Figure at 0x11abcefd0>"
      ]
     },
     "metadata": {},
     "output_type": "display_data"
    }
   ],
   "source": [
    "f = plt.figure()\n",
    "f.set_size_inches(7,5)\n",
    "ax = plt.axes()\n",
    "\n",
    "colors = sns.color_palette()\n",
    "\n",
    "for idx,dat in random_forest_results.iterrows():\n",
    "    label = idx\n",
    "    xdata = dat.roc_x\n",
    "    ydata = dat.roc_y\n",
    "    ax.plot(xdata, ydata, label=label)\n",
    "\n",
    "ax.legend(loc=0)\n",
    "\n",
    "_ = ax.set(xlabel='False Positive Rate', \n",
    "       ylabel='True Positive Rate',\n",
    "       title='ROC Curve')\n",
    "\n",
    "plt.tight_layout()"
   ]
  },
  {
   "cell_type": "markdown",
   "metadata": {
    "run_control": {
     "marked": true
    }
   },
   "source": [
    "## Linear SVM"
   ]
  },
  {
   "cell_type": "code",
   "execution_count": 94,
   "metadata": {
    "ExecuteTime": {
     "end_time": "2016-08-01T10:02:08.248391",
     "start_time": "2016-08-01T10:02:06.172927"
    },
    "collapsed": false,
    "run_control": {
     "marked": true
    }
   },
   "outputs": [],
   "source": [
    "svm_list = list()\n",
    "\n",
    "for train,test,label in zip([fam_train, faf_train],\n",
    "                            [fam_test,  faf_test],\n",
    "                            ['Framework A, Max', 'Framework A, First']):\n",
    "    \n",
    "    for penalty in ['l1','l2']:\n",
    "        dual=True\n",
    "        if penalty == 'l1':\n",
    "            dual=False\n",
    "        \n",
    "        max_f1 = 0\n",
    "        for C in [1000, 100, 10, 1, 0.1, 0.01, 0.001]:\n",
    "    \n",
    "            Ytest = test['zika_bool']\n",
    "\n",
    "            SVM = LinearSVC(penalty=penalty, loss='squared_hinge', C=C, dual=dual)\n",
    "\n",
    "            SVM.fit(train[feat_cols], train['zika_bool'])\n",
    "            Ypred = SVM.predict(test[feat_cols])\n",
    "\n",
    "            cm = confusion_matrix(Ytest, Ypred)\n",
    "            f1 = f1_score(Ytest, Ypred)\n",
    "            accuracy = accuracy_score(Ytest, Ypred)\n",
    "            auc = roc_auc_score(Ytest, Ypred)\n",
    "            xdata, ydata, _ = roc_curve(Ytest, Ypred)\n",
    "            \n",
    "            if f1 > max_f1:\n",
    "                df = pd.Series({'data':label, 'penalty':penalty, 'C':C,\n",
    "                                'cm': cm, 'f1': f1, \n",
    "                                'accuracy':accuracy, 'auc':auc,\n",
    "                                'roc_x': xdata, 'roc_y': ydata, 'model':RF})\n",
    "\n",
    "        svm_list.append(df)"
   ]
  },
  {
   "cell_type": "code",
   "execution_count": 95,
   "metadata": {
    "ExecuteTime": {
     "end_time": "2016-08-01T10:02:11.844653",
     "start_time": "2016-08-01T10:02:11.773205"
    },
    "collapsed": false,
    "run_control": {
     "marked": true
    }
   },
   "outputs": [
    {
     "data": {
      "text/html": [
       "<div>\n",
       "<table border=\"1\" class=\"dataframe\">\n",
       "  <thead>\n",
       "    <tr style=\"text-align: right;\">\n",
       "      <th></th>\n",
       "      <th></th>\n",
       "      <th></th>\n",
       "      <th>accuracy</th>\n",
       "      <th>f1</th>\n",
       "      <th>auc</th>\n",
       "      <th>cm</th>\n",
       "    </tr>\n",
       "    <tr>\n",
       "      <th>data</th>\n",
       "      <th>penalty</th>\n",
       "      <th>C</th>\n",
       "      <th></th>\n",
       "      <th></th>\n",
       "      <th></th>\n",
       "      <th></th>\n",
       "    </tr>\n",
       "  </thead>\n",
       "  <tbody>\n",
       "    <tr>\n",
       "      <th rowspan=\"2\" valign=\"top\">Framework B, Max</th>\n",
       "      <th>l1</th>\n",
       "      <th>0.100</th>\n",
       "      <td>0.484848</td>\n",
       "      <td>0.653061</td>\n",
       "      <td>0.5</td>\n",
       "      <td>[[0, 102], [0, 96]]</td>\n",
       "    </tr>\n",
       "    <tr>\n",
       "      <th>l2</th>\n",
       "      <th>0.001</th>\n",
       "      <td>0.484848</td>\n",
       "      <td>0.653061</td>\n",
       "      <td>0.5</td>\n",
       "      <td>[[0, 102], [0, 96]]</td>\n",
       "    </tr>\n",
       "    <tr>\n",
       "      <th rowspan=\"2\" valign=\"top\">Framework B, First</th>\n",
       "      <th>l1</th>\n",
       "      <th>1.000</th>\n",
       "      <td>0.691919</td>\n",
       "      <td>0.705314</td>\n",
       "      <td>0.691211</td>\n",
       "      <td>[[64, 31], [30, 73]]</td>\n",
       "    </tr>\n",
       "    <tr>\n",
       "      <th>l2</th>\n",
       "      <th>0.100</th>\n",
       "      <td>0.479798</td>\n",
       "      <td>0.466321</td>\n",
       "      <td>0.481604</td>\n",
       "      <td>[[50, 45], [58, 45]]</td>\n",
       "    </tr>\n",
       "    <tr>\n",
       "      <th rowspan=\"2\" valign=\"top\">Framework A, Max</th>\n",
       "      <th>l1</th>\n",
       "      <th>0.001</th>\n",
       "      <td>0.813411</td>\n",
       "      <td>0.897106</td>\n",
       "      <td>0.5</td>\n",
       "      <td>[[0, 64], [0, 279]]</td>\n",
       "    </tr>\n",
       "    <tr>\n",
       "      <th>l2</th>\n",
       "      <th>0.001</th>\n",
       "      <td>0.813411</td>\n",
       "      <td>0.897106</td>\n",
       "      <td>0.5</td>\n",
       "      <td>[[0, 64], [0, 279]]</td>\n",
       "    </tr>\n",
       "    <tr>\n",
       "      <th rowspan=\"2\" valign=\"top\">Framework A, First</th>\n",
       "      <th>l1</th>\n",
       "      <th>0.001</th>\n",
       "      <td>0.813411</td>\n",
       "      <td>0.897106</td>\n",
       "      <td>0.5</td>\n",
       "      <td>[[0, 64], [0, 279]]</td>\n",
       "    </tr>\n",
       "    <tr>\n",
       "      <th>l2</th>\n",
       "      <th>0.001</th>\n",
       "      <td>0.813411</td>\n",
       "      <td>0.897106</td>\n",
       "      <td>0.5</td>\n",
       "      <td>[[0, 64], [0, 279]]</td>\n",
       "    </tr>\n",
       "  </tbody>\n",
       "</table>\n",
       "</div>"
      ],
      "text/plain": [
       "                                  accuracy        f1       auc  \\\n",
       "data               penalty C                                     \n",
       "Framework B, Max   l1      0.100  0.484848  0.653061       0.5   \n",
       "                   l2      0.001  0.484848  0.653061       0.5   \n",
       "Framework B, First l1      1.000  0.691919  0.705314  0.691211   \n",
       "                   l2      0.100  0.479798  0.466321  0.481604   \n",
       "Framework A, Max   l1      0.001  0.813411  0.897106       0.5   \n",
       "                   l2      0.001  0.813411  0.897106       0.5   \n",
       "Framework A, First l1      0.001  0.813411  0.897106       0.5   \n",
       "                   l2      0.001  0.813411  0.897106       0.5   \n",
       "\n",
       "                                                    cm  \n",
       "data               penalty C                            \n",
       "Framework B, Max   l1      0.100   [[0, 102], [0, 96]]  \n",
       "                   l2      0.001   [[0, 102], [0, 96]]  \n",
       "Framework B, First l1      1.000  [[64, 31], [30, 73]]  \n",
       "                   l2      0.100  [[50, 45], [58, 45]]  \n",
       "Framework A, Max   l1      0.001   [[0, 64], [0, 279]]  \n",
       "                   l2      0.001   [[0, 64], [0, 279]]  \n",
       "Framework A, First l1      0.001   [[0, 64], [0, 279]]  \n",
       "                   l2      0.001   [[0, 64], [0, 279]]  "
      ]
     },
     "execution_count": 95,
     "metadata": {},
     "output_type": "execute_result"
    }
   ],
   "source": [
    "svm_results = (pd.concat(svm_list, axis=1).T\n",
    "                         .set_index(['data','penalty','C']))\n",
    "svm_results[['accuracy','f1','auc', 'cm']]"
   ]
  },
  {
   "cell_type": "markdown",
   "metadata": {
    "run_control": {
     "marked": true
    }
   },
   "source": [
    "## SVM with RBF"
   ]
  },
  {
   "cell_type": "code",
   "execution_count": 111,
   "metadata": {
    "ExecuteTime": {
     "end_time": "2016-08-01T13:12:41.028794",
     "start_time": "2016-08-01T12:50:27.142769"
    },
    "collapsed": false,
    "run_control": {
     "marked": true
    },
    "scrolled": true
   },
   "outputs": [
    {
     "name": "stdout",
     "output_type": "stream",
     "text": [
      "('Framework B, Max', {'C': 1000000.0, 'gamma': 0.10000000000000001}, 0.81045751633986929)\n",
      "('Framework B, First', {'C': 10000000.0, 'gamma': 1.0}, 0.80869565217391304)\n"
     ]
    },
    {
     "ename": "KeyboardInterrupt",
     "evalue": "",
     "output_type": "error",
     "traceback": [
      "\u001b[0;31m---------------------------------------------------------------------------\u001b[0m",
      "\u001b[0;31mKeyboardInterrupt\u001b[0m                         Traceback (most recent call last)",
      "\u001b[0;32m<ipython-input-111-cc0a6670aade>\u001b[0m in \u001b[0;36m<module>\u001b[0;34m()\u001b[0m\n\u001b[1;32m     12\u001b[0m     \u001b[0;31m#cv = StratifiedShuffleSplit(train[feat_cols], n_iter=3, test_size=0.3, random_state=42)\u001b[0m\u001b[0;34m\u001b[0m\u001b[0;34m\u001b[0m\u001b[0m\n\u001b[1;32m     13\u001b[0m     \u001b[0mgrid\u001b[0m \u001b[0;34m=\u001b[0m \u001b[0mGridSearchCV\u001b[0m\u001b[0;34m(\u001b[0m\u001b[0mSVC\u001b[0m\u001b[0;34m(\u001b[0m\u001b[0;34m)\u001b[0m\u001b[0;34m,\u001b[0m \u001b[0mparam_grid\u001b[0m\u001b[0;34m=\u001b[0m\u001b[0mparam_grid\u001b[0m\u001b[0;34m)\u001b[0m\u001b[0;34m\u001b[0m\u001b[0m\n\u001b[0;32m---> 14\u001b[0;31m     \u001b[0mgrid\u001b[0m\u001b[0;34m.\u001b[0m\u001b[0mfit\u001b[0m\u001b[0;34m(\u001b[0m\u001b[0mtrain\u001b[0m\u001b[0;34m[\u001b[0m\u001b[0mfeat_cols\u001b[0m\u001b[0;34m]\u001b[0m\u001b[0;34m,\u001b[0m \u001b[0mtrain\u001b[0m\u001b[0;34m[\u001b[0m\u001b[0;34m'zika_bool'\u001b[0m\u001b[0;34m]\u001b[0m\u001b[0;34m)\u001b[0m\u001b[0;34m\u001b[0m\u001b[0m\n\u001b[0m\u001b[1;32m     15\u001b[0m \u001b[0;34m\u001b[0m\u001b[0m\n\u001b[1;32m     16\u001b[0m     \u001b[0;32mprint\u001b[0m\u001b[0;34m(\u001b[0m\u001b[0mlabel\u001b[0m\u001b[0;34m,\u001b[0m \u001b[0mgrid\u001b[0m\u001b[0;34m.\u001b[0m\u001b[0mbest_params_\u001b[0m\u001b[0;34m,\u001b[0m \u001b[0mgrid\u001b[0m\u001b[0;34m.\u001b[0m\u001b[0mbest_score_\u001b[0m\u001b[0;34m)\u001b[0m\u001b[0;34m\u001b[0m\u001b[0m\n",
      "\u001b[0;32m/Volumes/Files/miniconda/envs/scienv2/lib/python2.7/site-packages/sklearn/grid_search.pyc\u001b[0m in \u001b[0;36mfit\u001b[0;34m(self, X, y)\u001b[0m\n\u001b[1;32m    802\u001b[0m \u001b[0;34m\u001b[0m\u001b[0m\n\u001b[1;32m    803\u001b[0m         \"\"\"\n\u001b[0;32m--> 804\u001b[0;31m         \u001b[0;32mreturn\u001b[0m \u001b[0mself\u001b[0m\u001b[0;34m.\u001b[0m\u001b[0m_fit\u001b[0m\u001b[0;34m(\u001b[0m\u001b[0mX\u001b[0m\u001b[0;34m,\u001b[0m \u001b[0my\u001b[0m\u001b[0;34m,\u001b[0m \u001b[0mParameterGrid\u001b[0m\u001b[0;34m(\u001b[0m\u001b[0mself\u001b[0m\u001b[0;34m.\u001b[0m\u001b[0mparam_grid\u001b[0m\u001b[0;34m)\u001b[0m\u001b[0;34m)\u001b[0m\u001b[0;34m\u001b[0m\u001b[0m\n\u001b[0m\u001b[1;32m    805\u001b[0m \u001b[0;34m\u001b[0m\u001b[0m\n\u001b[1;32m    806\u001b[0m \u001b[0;34m\u001b[0m\u001b[0m\n",
      "\u001b[0;32m/Volumes/Files/miniconda/envs/scienv2/lib/python2.7/site-packages/sklearn/grid_search.pyc\u001b[0m in \u001b[0;36m_fit\u001b[0;34m(self, X, y, parameter_iterable)\u001b[0m\n\u001b[1;32m    551\u001b[0m                                     \u001b[0mself\u001b[0m\u001b[0;34m.\u001b[0m\u001b[0mfit_params\u001b[0m\u001b[0;34m,\u001b[0m \u001b[0mreturn_parameters\u001b[0m\u001b[0;34m=\u001b[0m\u001b[0mTrue\u001b[0m\u001b[0;34m,\u001b[0m\u001b[0;34m\u001b[0m\u001b[0m\n\u001b[1;32m    552\u001b[0m                                     error_score=self.error_score)\n\u001b[0;32m--> 553\u001b[0;31m                 \u001b[0;32mfor\u001b[0m \u001b[0mparameters\u001b[0m \u001b[0;32min\u001b[0m \u001b[0mparameter_iterable\u001b[0m\u001b[0;34m\u001b[0m\u001b[0m\n\u001b[0m\u001b[1;32m    554\u001b[0m                 for train, test in cv)\n\u001b[1;32m    555\u001b[0m \u001b[0;34m\u001b[0m\u001b[0m\n",
      "\u001b[0;32m/Volumes/Files/miniconda/envs/scienv2/lib/python2.7/site-packages/sklearn/externals/joblib/parallel.pyc\u001b[0m in \u001b[0;36m__call__\u001b[0;34m(self, iterable)\u001b[0m\n\u001b[1;32m    798\u001b[0m             \u001b[0;31m# was dispatched. In particular this covers the edge\u001b[0m\u001b[0;34m\u001b[0m\u001b[0;34m\u001b[0m\u001b[0m\n\u001b[1;32m    799\u001b[0m             \u001b[0;31m# case of Parallel used with an exhausted iterator.\u001b[0m\u001b[0;34m\u001b[0m\u001b[0;34m\u001b[0m\u001b[0m\n\u001b[0;32m--> 800\u001b[0;31m             \u001b[0;32mwhile\u001b[0m \u001b[0mself\u001b[0m\u001b[0;34m.\u001b[0m\u001b[0mdispatch_one_batch\u001b[0m\u001b[0;34m(\u001b[0m\u001b[0miterator\u001b[0m\u001b[0;34m)\u001b[0m\u001b[0;34m:\u001b[0m\u001b[0;34m\u001b[0m\u001b[0m\n\u001b[0m\u001b[1;32m    801\u001b[0m                 \u001b[0mself\u001b[0m\u001b[0;34m.\u001b[0m\u001b[0m_iterating\u001b[0m \u001b[0;34m=\u001b[0m \u001b[0mTrue\u001b[0m\u001b[0;34m\u001b[0m\u001b[0m\n\u001b[1;32m    802\u001b[0m             \u001b[0;32melse\u001b[0m\u001b[0;34m:\u001b[0m\u001b[0;34m\u001b[0m\u001b[0m\n",
      "\u001b[0;32m/Volumes/Files/miniconda/envs/scienv2/lib/python2.7/site-packages/sklearn/externals/joblib/parallel.pyc\u001b[0m in \u001b[0;36mdispatch_one_batch\u001b[0;34m(self, iterator)\u001b[0m\n\u001b[1;32m    656\u001b[0m                 \u001b[0;32mreturn\u001b[0m \u001b[0mFalse\u001b[0m\u001b[0;34m\u001b[0m\u001b[0m\n\u001b[1;32m    657\u001b[0m             \u001b[0;32melse\u001b[0m\u001b[0;34m:\u001b[0m\u001b[0;34m\u001b[0m\u001b[0m\n\u001b[0;32m--> 658\u001b[0;31m                 \u001b[0mself\u001b[0m\u001b[0;34m.\u001b[0m\u001b[0m_dispatch\u001b[0m\u001b[0;34m(\u001b[0m\u001b[0mtasks\u001b[0m\u001b[0;34m)\u001b[0m\u001b[0;34m\u001b[0m\u001b[0m\n\u001b[0m\u001b[1;32m    659\u001b[0m                 \u001b[0;32mreturn\u001b[0m \u001b[0mTrue\u001b[0m\u001b[0;34m\u001b[0m\u001b[0m\n\u001b[1;32m    660\u001b[0m \u001b[0;34m\u001b[0m\u001b[0m\n",
      "\u001b[0;32m/Volumes/Files/miniconda/envs/scienv2/lib/python2.7/site-packages/sklearn/externals/joblib/parallel.pyc\u001b[0m in \u001b[0;36m_dispatch\u001b[0;34m(self, batch)\u001b[0m\n\u001b[1;32m    564\u001b[0m \u001b[0;34m\u001b[0m\u001b[0m\n\u001b[1;32m    565\u001b[0m         \u001b[0;32mif\u001b[0m \u001b[0mself\u001b[0m\u001b[0;34m.\u001b[0m\u001b[0m_pool\u001b[0m \u001b[0;32mis\u001b[0m \u001b[0mNone\u001b[0m\u001b[0;34m:\u001b[0m\u001b[0;34m\u001b[0m\u001b[0m\n\u001b[0;32m--> 566\u001b[0;31m             \u001b[0mjob\u001b[0m \u001b[0;34m=\u001b[0m \u001b[0mImmediateComputeBatch\u001b[0m\u001b[0;34m(\u001b[0m\u001b[0mbatch\u001b[0m\u001b[0;34m)\u001b[0m\u001b[0;34m\u001b[0m\u001b[0m\n\u001b[0m\u001b[1;32m    567\u001b[0m             \u001b[0mself\u001b[0m\u001b[0;34m.\u001b[0m\u001b[0m_jobs\u001b[0m\u001b[0;34m.\u001b[0m\u001b[0mappend\u001b[0m\u001b[0;34m(\u001b[0m\u001b[0mjob\u001b[0m\u001b[0;34m)\u001b[0m\u001b[0;34m\u001b[0m\u001b[0m\n\u001b[1;32m    568\u001b[0m             \u001b[0mself\u001b[0m\u001b[0;34m.\u001b[0m\u001b[0mn_dispatched_batches\u001b[0m \u001b[0;34m+=\u001b[0m \u001b[0;36m1\u001b[0m\u001b[0;34m\u001b[0m\u001b[0m\n",
      "\u001b[0;32m/Volumes/Files/miniconda/envs/scienv2/lib/python2.7/site-packages/sklearn/externals/joblib/parallel.pyc\u001b[0m in \u001b[0;36m__init__\u001b[0;34m(self, batch)\u001b[0m\n\u001b[1;32m    178\u001b[0m         \u001b[0;31m# Don't delay the application, to avoid keeping the input\u001b[0m\u001b[0;34m\u001b[0m\u001b[0;34m\u001b[0m\u001b[0m\n\u001b[1;32m    179\u001b[0m         \u001b[0;31m# arguments in memory\u001b[0m\u001b[0;34m\u001b[0m\u001b[0;34m\u001b[0m\u001b[0m\n\u001b[0;32m--> 180\u001b[0;31m         \u001b[0mself\u001b[0m\u001b[0;34m.\u001b[0m\u001b[0mresults\u001b[0m \u001b[0;34m=\u001b[0m \u001b[0mbatch\u001b[0m\u001b[0;34m(\u001b[0m\u001b[0;34m)\u001b[0m\u001b[0;34m\u001b[0m\u001b[0m\n\u001b[0m\u001b[1;32m    181\u001b[0m \u001b[0;34m\u001b[0m\u001b[0m\n\u001b[1;32m    182\u001b[0m     \u001b[0;32mdef\u001b[0m \u001b[0mget\u001b[0m\u001b[0;34m(\u001b[0m\u001b[0mself\u001b[0m\u001b[0;34m)\u001b[0m\u001b[0;34m:\u001b[0m\u001b[0;34m\u001b[0m\u001b[0m\n",
      "\u001b[0;32m/Volumes/Files/miniconda/envs/scienv2/lib/python2.7/site-packages/sklearn/externals/joblib/parallel.pyc\u001b[0m in \u001b[0;36m__call__\u001b[0;34m(self)\u001b[0m\n\u001b[1;32m     70\u001b[0m \u001b[0;34m\u001b[0m\u001b[0m\n\u001b[1;32m     71\u001b[0m     \u001b[0;32mdef\u001b[0m \u001b[0m__call__\u001b[0m\u001b[0;34m(\u001b[0m\u001b[0mself\u001b[0m\u001b[0;34m)\u001b[0m\u001b[0;34m:\u001b[0m\u001b[0;34m\u001b[0m\u001b[0m\n\u001b[0;32m---> 72\u001b[0;31m         \u001b[0;32mreturn\u001b[0m \u001b[0;34m[\u001b[0m\u001b[0mfunc\u001b[0m\u001b[0;34m(\u001b[0m\u001b[0;34m*\u001b[0m\u001b[0margs\u001b[0m\u001b[0;34m,\u001b[0m \u001b[0;34m**\u001b[0m\u001b[0mkwargs\u001b[0m\u001b[0;34m)\u001b[0m \u001b[0;32mfor\u001b[0m \u001b[0mfunc\u001b[0m\u001b[0;34m,\u001b[0m \u001b[0margs\u001b[0m\u001b[0;34m,\u001b[0m \u001b[0mkwargs\u001b[0m \u001b[0;32min\u001b[0m \u001b[0mself\u001b[0m\u001b[0;34m.\u001b[0m\u001b[0mitems\u001b[0m\u001b[0;34m]\u001b[0m\u001b[0;34m\u001b[0m\u001b[0m\n\u001b[0m\u001b[1;32m     73\u001b[0m \u001b[0;34m\u001b[0m\u001b[0m\n\u001b[1;32m     74\u001b[0m     \u001b[0;32mdef\u001b[0m \u001b[0m__len__\u001b[0m\u001b[0;34m(\u001b[0m\u001b[0mself\u001b[0m\u001b[0;34m)\u001b[0m\u001b[0;34m:\u001b[0m\u001b[0;34m\u001b[0m\u001b[0m\n",
      "\u001b[0;32m/Volumes/Files/miniconda/envs/scienv2/lib/python2.7/site-packages/sklearn/cross_validation.pyc\u001b[0m in \u001b[0;36m_fit_and_score\u001b[0;34m(estimator, X, y, scorer, train, test, verbose, parameters, fit_params, return_train_score, return_parameters, error_score)\u001b[0m\n\u001b[1;32m   1529\u001b[0m             \u001b[0mestimator\u001b[0m\u001b[0;34m.\u001b[0m\u001b[0mfit\u001b[0m\u001b[0;34m(\u001b[0m\u001b[0mX_train\u001b[0m\u001b[0;34m,\u001b[0m \u001b[0;34m**\u001b[0m\u001b[0mfit_params\u001b[0m\u001b[0;34m)\u001b[0m\u001b[0;34m\u001b[0m\u001b[0m\n\u001b[1;32m   1530\u001b[0m         \u001b[0;32melse\u001b[0m\u001b[0;34m:\u001b[0m\u001b[0;34m\u001b[0m\u001b[0m\n\u001b[0;32m-> 1531\u001b[0;31m             \u001b[0mestimator\u001b[0m\u001b[0;34m.\u001b[0m\u001b[0mfit\u001b[0m\u001b[0;34m(\u001b[0m\u001b[0mX_train\u001b[0m\u001b[0;34m,\u001b[0m \u001b[0my_train\u001b[0m\u001b[0;34m,\u001b[0m \u001b[0;34m**\u001b[0m\u001b[0mfit_params\u001b[0m\u001b[0;34m)\u001b[0m\u001b[0;34m\u001b[0m\u001b[0m\n\u001b[0m\u001b[1;32m   1532\u001b[0m \u001b[0;34m\u001b[0m\u001b[0m\n\u001b[1;32m   1533\u001b[0m     \u001b[0;32mexcept\u001b[0m \u001b[0mException\u001b[0m \u001b[0;32mas\u001b[0m \u001b[0me\u001b[0m\u001b[0;34m:\u001b[0m\u001b[0;34m\u001b[0m\u001b[0m\n",
      "\u001b[0;32m/Volumes/Files/miniconda/envs/scienv2/lib/python2.7/site-packages/sklearn/svm/base.pyc\u001b[0m in \u001b[0;36mfit\u001b[0;34m(self, X, y, sample_weight)\u001b[0m\n\u001b[1;32m    191\u001b[0m \u001b[0;34m\u001b[0m\u001b[0m\n\u001b[1;32m    192\u001b[0m         \u001b[0mseed\u001b[0m \u001b[0;34m=\u001b[0m \u001b[0mrnd\u001b[0m\u001b[0;34m.\u001b[0m\u001b[0mrandint\u001b[0m\u001b[0;34m(\u001b[0m\u001b[0mnp\u001b[0m\u001b[0;34m.\u001b[0m\u001b[0miinfo\u001b[0m\u001b[0;34m(\u001b[0m\u001b[0;34m'i'\u001b[0m\u001b[0;34m)\u001b[0m\u001b[0;34m.\u001b[0m\u001b[0mmax\u001b[0m\u001b[0;34m)\u001b[0m\u001b[0;34m\u001b[0m\u001b[0m\n\u001b[0;32m--> 193\u001b[0;31m         \u001b[0mfit\u001b[0m\u001b[0;34m(\u001b[0m\u001b[0mX\u001b[0m\u001b[0;34m,\u001b[0m \u001b[0my\u001b[0m\u001b[0;34m,\u001b[0m \u001b[0msample_weight\u001b[0m\u001b[0;34m,\u001b[0m \u001b[0msolver_type\u001b[0m\u001b[0;34m,\u001b[0m \u001b[0mkernel\u001b[0m\u001b[0;34m,\u001b[0m \u001b[0mrandom_seed\u001b[0m\u001b[0;34m=\u001b[0m\u001b[0mseed\u001b[0m\u001b[0;34m)\u001b[0m\u001b[0;34m\u001b[0m\u001b[0m\n\u001b[0m\u001b[1;32m    194\u001b[0m         \u001b[0;31m# see comment on the other call to np.iinfo in this file\u001b[0m\u001b[0;34m\u001b[0m\u001b[0;34m\u001b[0m\u001b[0m\n\u001b[1;32m    195\u001b[0m \u001b[0;34m\u001b[0m\u001b[0m\n",
      "\u001b[0;32m/Volumes/Files/miniconda/envs/scienv2/lib/python2.7/site-packages/sklearn/svm/base.pyc\u001b[0m in \u001b[0;36m_dense_fit\u001b[0;34m(self, X, y, sample_weight, solver_type, kernel, random_seed)\u001b[0m\n\u001b[1;32m    249\u001b[0m                 \u001b[0mcache_size\u001b[0m\u001b[0;34m=\u001b[0m\u001b[0mself\u001b[0m\u001b[0;34m.\u001b[0m\u001b[0mcache_size\u001b[0m\u001b[0;34m,\u001b[0m \u001b[0mcoef0\u001b[0m\u001b[0;34m=\u001b[0m\u001b[0mself\u001b[0m\u001b[0;34m.\u001b[0m\u001b[0mcoef0\u001b[0m\u001b[0;34m,\u001b[0m\u001b[0;34m\u001b[0m\u001b[0m\n\u001b[1;32m    250\u001b[0m                 \u001b[0mgamma\u001b[0m\u001b[0;34m=\u001b[0m\u001b[0mself\u001b[0m\u001b[0;34m.\u001b[0m\u001b[0m_gamma\u001b[0m\u001b[0;34m,\u001b[0m \u001b[0mepsilon\u001b[0m\u001b[0;34m=\u001b[0m\u001b[0mself\u001b[0m\u001b[0;34m.\u001b[0m\u001b[0mepsilon\u001b[0m\u001b[0;34m,\u001b[0m\u001b[0;34m\u001b[0m\u001b[0m\n\u001b[0;32m--> 251\u001b[0;31m                 max_iter=self.max_iter, random_seed=random_seed)\n\u001b[0m\u001b[1;32m    252\u001b[0m \u001b[0;34m\u001b[0m\u001b[0m\n\u001b[1;32m    253\u001b[0m         \u001b[0mself\u001b[0m\u001b[0;34m.\u001b[0m\u001b[0m_warn_from_fit_status\u001b[0m\u001b[0;34m(\u001b[0m\u001b[0;34m)\u001b[0m\u001b[0;34m\u001b[0m\u001b[0m\n",
      "\u001b[0;31mKeyboardInterrupt\u001b[0m: "
     ]
    }
   ],
   "source": [
    "C_range = np.logspace(-2, 10, 13)\n",
    "gamma_range = np.logspace(-9, 3, 13)\n",
    "param_grid = dict(gamma=gamma_range, C=C_range)\n",
    "\n",
    "for train,test,label in zip([fam_train, faf_train],\n",
    "                            [fam_test,  faf_test],\n",
    "                            ['Framework A, Max', 'Framework A, First']):\n",
    "    \n",
    "    #cv = StratifiedShuffleSplit(train[feat_cols], n_iter=3, test_size=0.3, random_state=42)\n",
    "    grid = GridSearchCV(SVC(), param_grid=param_grid)\n",
    "    grid.fit(train[feat_cols], train['zika_bool'])\n",
    "    \n",
    "    print(label, grid.best_params_, grid.best_score_)"
   ]
  },
  {
   "cell_type": "code",
   "execution_count": 114,
   "metadata": {
    "ExecuteTime": {
     "end_time": "2016-08-01T13:44:16.449811",
     "start_time": "2016-08-01T13:41:12.863153"
    },
    "collapsed": true,
    "run_control": {
     "marked": true
    }
   },
   "outputs": [],
   "source": [
    "\n",
    "svm_rbc_list = list()\n",
    "for train,test,label in zip([fam_train, faf_train],\n",
    "                            [fam_test,  faf_test],\n",
    "                            ['Framework A, Max', 'Framework A, First']):\n",
    "    \n",
    "    if label == 'Framework B, Max':\n",
    "        C_2d_range = [500000, 1000000, 5000000]\n",
    "        gamma_2d_range = [0.05,  0.1,  0.5]\n",
    "    else:\n",
    "        C_2d_range = [5000000, 10000000, 50000000]\n",
    "        gamma_2d_range = [0.5, 1.0, 5.0]\n",
    "        \n",
    "    for C in C_2d_range:\n",
    "        for gamma in gamma_2d_range:\n",
    "            clf = SVC(C=C, gamma=gamma)\n",
    "            clf.fit(train[feat_cols], train['zika_bool'])\n",
    "\n",
    "            Ypred = clf.predict(test[feat_cols])\n",
    "            Ytest = test['zika_bool']\n",
    "\n",
    "            cm = confusion_matrix(Ytest, Ypred)\n",
    "            f1 = f1_score(Ytest, Ypred)\n",
    "            accuracy = accuracy_score(Ytest, Ypred)\n",
    "            auc = roc_auc_score(Ytest, Ypred)\n",
    "            xdata, ydata, _ = roc_curve(Ytest, Ypred)\n",
    "            \n",
    "            if f1 > max_f1:\n",
    "                df = pd.Series({'data':label, 'C':C, 'gamma':gamma,\n",
    "                                'cm': cm, 'f1': f1, \n",
    "                                'accuracy':accuracy, 'auc':auc,\n",
    "                                'roc_x': xdata, 'roc_y': ydata, 'model':clf})\n",
    "                \n",
    "            svm_rbc_list.append(df)\n"
   ]
  },
  {
   "cell_type": "code",
   "execution_count": 134,
   "metadata": {
    "ExecuteTime": {
     "end_time": "2016-08-01T13:55:40.531818",
     "start_time": "2016-08-01T13:55:40.477960"
    },
    "collapsed": false,
    "run_control": {
     "marked": true
    }
   },
   "outputs": [
    {
     "data": {
      "text/html": [
       "<div>\n",
       "<table border=\"1\" class=\"dataframe\">\n",
       "  <thead>\n",
       "    <tr style=\"text-align: right;\">\n",
       "      <th></th>\n",
       "      <th></th>\n",
       "      <th></th>\n",
       "      <th></th>\n",
       "      <th>accuracy</th>\n",
       "      <th>f1</th>\n",
       "      <th>auc</th>\n",
       "      <th>cm</th>\n",
       "    </tr>\n",
       "    <tr>\n",
       "      <th></th>\n",
       "      <th>data</th>\n",
       "      <th>C</th>\n",
       "      <th>gamma</th>\n",
       "      <th></th>\n",
       "      <th></th>\n",
       "      <th></th>\n",
       "      <th></th>\n",
       "    </tr>\n",
       "  </thead>\n",
       "  <tbody>\n",
       "    <tr>\n",
       "      <th>0</th>\n",
       "      <th>Framework B, First</th>\n",
       "      <th>5000000</th>\n",
       "      <th>5.0</th>\n",
       "      <td>0.838384</td>\n",
       "      <td>0.836735</td>\n",
       "      <td>0.840164</td>\n",
       "      <td>[[84, 11], [21, 82]]</td>\n",
       "    </tr>\n",
       "    <tr>\n",
       "      <th>1</th>\n",
       "      <th>Framework B, Max</th>\n",
       "      <th>5000000</th>\n",
       "      <th>0.1</th>\n",
       "      <td>0.858586</td>\n",
       "      <td>0.852632</td>\n",
       "      <td>0.85815</td>\n",
       "      <td>[[89, 13], [15, 81]]</td>\n",
       "    </tr>\n",
       "  </tbody>\n",
       "</table>\n",
       "</div>"
      ],
      "text/plain": [
       "                                    accuracy        f1       auc  \\\n",
       "  data               C       gamma                                 \n",
       "0 Framework B, First 5000000 5.0    0.838384  0.836735  0.840164   \n",
       "1 Framework B, Max   5000000 0.1    0.858586  0.852632   0.85815   \n",
       "\n",
       "                                                      cm  \n",
       "  data               C       gamma                        \n",
       "0 Framework B, First 5000000 5.0    [[84, 11], [21, 82]]  \n",
       "1 Framework B, Max   5000000 0.1    [[89, 13], [15, 81]]  "
      ]
     },
     "execution_count": 134,
     "metadata": {},
     "output_type": "execute_result"
    }
   ],
   "source": [
    "svm_rbc_results = pd.concat(svm_rbc_list, axis=1).T.set_index(['data','C','gamma'])\n",
    "svm_rbc_results[['accuracy','f1','auc','cm']].groupby(level=0,as_index=False).apply(lambda x: x[x.f1==x.f1.max()])"
   ]
  },
  {
   "cell_type": "code",
   "execution_count": 133,
   "metadata": {
    "ExecuteTime": {
     "end_time": "2016-08-01T13:55:15.318017",
     "start_time": "2016-08-01T13:55:14.927044"
    },
    "collapsed": false,
    "run_control": {
     "marked": true
    }
   },
   "outputs": [
    {
     "data": {
      "image/png": "[encoded data removed]",
      "text/plain": [
       "<matplotlib.figure.Figure at 0x11ae53dd0>"
      ]
     },
     "metadata": {},
     "output_type": "display_data"
    }
   ],
   "source": [
    "f = plt.figure()\n",
    "f.set_size_inches(7,5)\n",
    "ax = plt.axes()\n",
    "\n",
    "colors = sns.color_palette()\n",
    "\n",
    "for idx,dat in svm_rbc_results.groupby(level=0,as_index=False).apply(lambda x: x[x.f1==x.f1.max()]).iterrows():\n",
    "    label = ' '.join([str(x) for x in idx])\n",
    "    xdata = dat.roc_x\n",
    "    ydata = dat.roc_y\n",
    "    ax.plot(xdata, ydata, label=label)\n",
    "\n",
    "ax.legend(loc=0)\n",
    "\n",
    "_ = ax.set(xlabel='False Positive Rate', \n",
    "       ylabel='True Positive Rate',\n",
    "       title='ROC Curve')\n",
    "\n",
    "plt.tight_layout()"
   ]
  },
  {
   "cell_type": "markdown",
   "metadata": {
    "run_control": {
     "marked": true
    }
   },
   "source": [
    "## AdaBoost classification"
   ]
  },
  {
   "cell_type": "code",
   "execution_count": 150,
   "metadata": {
    "ExecuteTime": {
     "end_time": "2016-08-01T14:28:33.365724",
     "start_time": "2016-08-01T14:28:20.580656"
    },
    "collapsed": false,
    "run_control": {
     "marked": true
    }
   },
   "outputs": [],
   "source": [
    "ada_list = list()\n",
    "\n",
    "for train,test,label in zip([fam_train, faf_train],\n",
    "                            [fam_test,  faf_test],\n",
    "                            ['Framework A, Max', 'Framework A, First']):\n",
    "\n",
    "    # TODO check if this is the criterion I want\n",
    "    tree = DecisionTreeClassifier(criterion='entropy', max_depth=1)\n",
    "    \n",
    "    ada = AdaBoostClassifier(base_estimator=tree, n_estimators=500,\n",
    "                            learning_rate=0.1, random_state=0)\n",
    "\n",
    "    tree = tree.fit(train[feat_cols], train['zika_bool'])\n",
    "    ada = ada.fit(train[feat_cols], train['zika_bool'])\n",
    "\n",
    "    Ypred = ada.predict(test[feat_cols])\n",
    "    Ytest = test['zika_bool']\n",
    "    \n",
    "    cm = confusion_matrix(Ytest, Ypred)\n",
    "    f1 = f1_score(Ytest, Ypred)\n",
    "    accuracy = accuracy_score(Ytest, Ypred)\n",
    "    auc = roc_auc_score(Ytest, Ypred)\n",
    "    xdata, ydata, _ = roc_curve(Ytest, Ypred)\n",
    "    \n",
    "    df = pd.Series({'data':label, \n",
    "    'cm': cm, 'f1': f1, \n",
    "    'accuracy':accuracy, 'auc':auc,\n",
    "    'roc_x': xdata, 'roc_y': ydata, 'model':ada})\n",
    "    \n",
    "    ada_list.append(df)"
   ]
  },
  {
   "cell_type": "code",
   "execution_count": 151,
   "metadata": {
    "ExecuteTime": {
     "end_time": "2016-08-01T14:28:52.664022",
     "start_time": "2016-08-01T14:28:52.625820"
    },
    "collapsed": false,
    "run_control": {
     "marked": true
    }
   },
   "outputs": [
    {
     "data": {
      "text/html": [
       "<div>\n",
       "<table border=\"1\" class=\"dataframe\">\n",
       "  <thead>\n",
       "    <tr style=\"text-align: right;\">\n",
       "      <th></th>\n",
       "      <th>accuracy</th>\n",
       "      <th>auc</th>\n",
       "      <th>f1</th>\n",
       "      <th>cm</th>\n",
       "    </tr>\n",
       "    <tr>\n",
       "      <th>data</th>\n",
       "      <th></th>\n",
       "      <th></th>\n",
       "      <th></th>\n",
       "      <th></th>\n",
       "    </tr>\n",
       "  </thead>\n",
       "  <tbody>\n",
       "    <tr>\n",
       "      <th>Framework B, Max</th>\n",
       "      <td>0.858586</td>\n",
       "      <td>0.858762</td>\n",
       "      <td>0.85567</td>\n",
       "      <td>[[87, 15], [13, 83]]</td>\n",
       "    </tr>\n",
       "    <tr>\n",
       "      <th>Framework B, First</th>\n",
       "      <td>0.863636</td>\n",
       "      <td>0.862391</td>\n",
       "      <td>0.872038</td>\n",
       "      <td>[[79, 16], [11, 92]]</td>\n",
       "    </tr>\n",
       "    <tr>\n",
       "      <th>Framework A, Max</th>\n",
       "      <td>0.897959</td>\n",
       "      <td>0.774726</td>\n",
       "      <td>0.939341</td>\n",
       "      <td>[[37, 27], [8, 271]]</td>\n",
       "    </tr>\n",
       "    <tr>\n",
       "      <th>Framework A, First</th>\n",
       "      <td>0.897959</td>\n",
       "      <td>0.774726</td>\n",
       "      <td>0.939341</td>\n",
       "      <td>[[37, 27], [8, 271]]</td>\n",
       "    </tr>\n",
       "  </tbody>\n",
       "</table>\n",
       "</div>"
      ],
      "text/plain": [
       "                    accuracy       auc        f1                    cm\n",
       "data                                                                  \n",
       "Framework B, Max    0.858586  0.858762   0.85567  [[87, 15], [13, 83]]\n",
       "Framework B, First  0.863636  0.862391  0.872038  [[79, 16], [11, 92]]\n",
       "Framework A, Max    0.897959  0.774726  0.939341  [[37, 27], [8, 271]]\n",
       "Framework A, First  0.897959  0.774726  0.939341  [[37, 27], [8, 271]]"
      ]
     },
     "execution_count": 151,
     "metadata": {},
     "output_type": "execute_result"
    }
   ],
   "source": [
    "ada_results = pd.concat(ada_list, axis=1).T.set_index('data')\n",
    "ada_results[['accuracy','auc','f1','cm']]"
   ]
  },
  {
   "cell_type": "code",
   "execution_count": 152,
   "metadata": {
    "ExecuteTime": {
     "end_time": "2016-08-01T14:29:05.540976",
     "start_time": "2016-08-01T14:29:05.115925"
    },
    "collapsed": false,
    "run_control": {
     "marked": true
    }
   },
   "outputs": [
    {
     "data": {
      "image/png": "[encoded data removed]",
      "text/plain": [
       "<matplotlib.figure.Figure at 0x118ca7790>"
      ]
     },
     "metadata": {},
     "output_type": "display_data"
    }
   ],
   "source": [
    "f = plt.figure()\n",
    "f.set_size_inches(7,5)\n",
    "ax = plt.axes()\n",
    "\n",
    "colors = sns.color_palette()\n",
    "\n",
    "for idx,dat in ada_results.iterrows():\n",
    "    label = idx\n",
    "    xdata = dat.roc_x\n",
    "    ydata = dat.roc_y\n",
    "    ax.plot(xdata, ydata, label=label)\n",
    "\n",
    "ax.legend(loc=0)\n",
    "\n",
    "_ = ax.set(xlabel='False Positive Rate', \n",
    "       ylabel='True Positive Rate',\n",
    "       title='ROC Curve')\n",
    "\n",
    "plt.tight_layout()"
   ]
  },
  {
   "cell_type": "markdown",
   "metadata": {
    "run_control": {
     "marked": true
    }
   },
   "source": [
    "## AdaBoost plus Imbalanced Learn"
   ]
  },
  {
   "cell_type": "code",
   "execution_count": 15,
   "metadata": {
    "ExecuteTime": {
     "end_time": "2016-08-03T05:56:34.615693",
     "start_time": "2016-08-03T05:56:21.467187"
    },
    "collapsed": false,
    "run_control": {
     "marked": true
    }
   },
   "outputs": [],
   "source": [
    "ada_list = list()\n",
    "\n",
    "# TODO check if this is the criterion I want\n",
    "adasyn = ADASYN()\n",
    "\n",
    "tree = DecisionTreeClassifier(criterion='entropy', max_depth=1)\n",
    "\n",
    "ada = AdaBoostClassifier(base_estimator=tree, n_estimators=500,\n",
    "                        learning_rate=0.1, random_state=0)\n",
    "\n",
    "for train,test,label in zip([fam_train, faf_train],\n",
    "                            [fam_test,  faf_test],\n",
    "                            ['Framework A, Max', 'Framework A, First']):\n",
    "    \n",
    "    X_resampled, Y_resampled = adasyn.fit_sample(train[feat_cols], train['zika_bool'])\n",
    "\n",
    "    tree = tree.fit(X_resampled, Y_resampled)\n",
    "    ada = ada.fit(X_resampled, Y_resampled)\n",
    "\n",
    "    Ypred = ada.predict(test[feat_cols])\n",
    "    Ytest = test['zika_bool']\n",
    "    \n",
    "    cm = confusion_matrix(Ytest, Ypred)\n",
    "    f1 = f1_score(Ytest, Ypred)\n",
    "    accuracy = accuracy_score(Ytest, Ypred)\n",
    "    auc = roc_auc_score(Ytest, Ypred)\n",
    "    xdata, ydata, _ = roc_curve(Ytest, Ypred)\n",
    "    \n",
    "    df = pd.Series({'data':label, \n",
    "    'cm': cm, 'f1': f1, \n",
    "    'accuracy':accuracy, 'auc':auc,\n",
    "    'roc_x': xdata, 'roc_y': ydata, 'model':ada})\n",
    "    \n",
    "    ada_list.append(df)"
   ]
  },
  {
   "cell_type": "code",
   "execution_count": 20,
   "metadata": {
    "ExecuteTime": {
     "end_time": "2016-08-03T06:04:35.353136",
     "start_time": "2016-08-03T06:04:35.341827"
    },
    "collapsed": false,
    "run_control": {
     "marked": true
    }
   },
   "outputs": [
    {
     "data": {
      "text/plain": [
       "0    671\n",
       "1    670\n",
       "dtype: int64"
      ]
     },
     "execution_count": 20,
     "metadata": {},
     "output_type": "execute_result"
    }
   ],
   "source": [
    "pd.Series(Y_resampled).value_counts()"
   ]
  },
  {
   "cell_type": "code",
   "execution_count": 22,
   "metadata": {
    "ExecuteTime": {
     "end_time": "2016-08-03T06:06:36.445236",
     "start_time": "2016-08-03T06:06:36.435433"
    },
    "collapsed": false
   },
   "outputs": [
    {
     "data": {
      "text/plain": [
       "1    279\n",
       "0     64\n",
       "Name: zika_bool, dtype: int64"
      ]
     },
     "execution_count": 22,
     "metadata": {},
     "output_type": "execute_result"
    }
   ],
   "source": [
    "test['zika_bool'].value_counts()"
   ]
  },
  {
   "cell_type": "code",
   "execution_count": 16,
   "metadata": {
    "ExecuteTime": {
     "end_time": "2016-08-03T05:57:07.593296",
     "start_time": "2016-08-03T05:57:07.553167"
    },
    "collapsed": false,
    "run_control": {
     "marked": true
    }
   },
   "outputs": [
    {
     "data": {
      "text/html": [
       "<div>\n",
       "<table border=\"1\" class=\"dataframe\">\n",
       "  <thead>\n",
       "    <tr style=\"text-align: right;\">\n",
       "      <th></th>\n",
       "      <th>accuracy</th>\n",
       "      <th>auc</th>\n",
       "      <th>f1</th>\n",
       "      <th>cm</th>\n",
       "    </tr>\n",
       "    <tr>\n",
       "      <th>data</th>\n",
       "      <th></th>\n",
       "      <th></th>\n",
       "      <th></th>\n",
       "      <th></th>\n",
       "    </tr>\n",
       "  </thead>\n",
       "  <tbody>\n",
       "    <tr>\n",
       "      <th>Framework B, Max</th>\n",
       "      <td>0.858586</td>\n",
       "      <td>0.858762</td>\n",
       "      <td>0.85567</td>\n",
       "      <td>[[87, 15], [13, 83]]</td>\n",
       "    </tr>\n",
       "    <tr>\n",
       "      <th>Framework B, First</th>\n",
       "      <td>0.863636</td>\n",
       "      <td>0.862391</td>\n",
       "      <td>0.872038</td>\n",
       "      <td>[[79, 16], [11, 92]]</td>\n",
       "    </tr>\n",
       "    <tr>\n",
       "      <th>Framework A, Max</th>\n",
       "      <td>0.889213</td>\n",
       "      <td>0.823533</td>\n",
       "      <td>0.931655</td>\n",
       "      <td>[[46, 18], [20, 259]]</td>\n",
       "    </tr>\n",
       "    <tr>\n",
       "      <th>Framework A, First</th>\n",
       "      <td>0.895044</td>\n",
       "      <td>0.833137</td>\n",
       "      <td>0.935252</td>\n",
       "      <td>[[47, 17], [19, 260]]</td>\n",
       "    </tr>\n",
       "  </tbody>\n",
       "</table>\n",
       "</div>"
      ],
      "text/plain": [
       "                    accuracy       auc        f1                     cm\n",
       "data                                                                   \n",
       "Framework B, Max    0.858586  0.858762   0.85567   [[87, 15], [13, 83]]\n",
       "Framework B, First  0.863636  0.862391  0.872038   [[79, 16], [11, 92]]\n",
       "Framework A, Max    0.889213  0.823533  0.931655  [[46, 18], [20, 259]]\n",
       "Framework A, First  0.895044  0.833137  0.935252  [[47, 17], [19, 260]]"
      ]
     },
     "execution_count": 16,
     "metadata": {},
     "output_type": "execute_result"
    }
   ],
   "source": [
    "ada_results = pd.concat(ada_list, axis=1).T.set_index('data')\n",
    "ada_results[['accuracy','auc','f1','cm']]"
   ]
  }
 ],
 "metadata": {
  "anaconda-cloud": {},
  "kernelspec": {
   "display_name": "Python [default]",
   "language": "python",
   "name": "python2"
  },
  "language_info": {
   "codemirror_mode": {
    "name": "ipython",
    "version": 2
   },
   "file_extension": ".py",
   "mimetype": "text/x-python",
   "name": "python",
   "nbconvert_exporter": "python",
   "pygments_lexer": "ipython2",
   "version": "2.7.12"
  }
 },
 "nbformat": 4,
 "nbformat_minor": 0
}
