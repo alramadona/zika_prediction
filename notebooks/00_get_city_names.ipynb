{
 "cells": [
  {
   "cell_type": "code",
   "execution_count": 1,
   "metadata": {
    "ExecuteTime": {
     "end_time": "2016-07-23T14:54:53.422880",
     "start_time": "2016-07-23T14:54:52.294195"
    },
    "collapsed": false
   },
   "outputs": [],
   "source": [
    "import pandas as pd\n",
    "import numpy as np\n",
    "from glob import glob\n",
    "import dill\n",
    "from sqlalchemy import create_engine\n",
    "from api_keys import POSTGRES_PWD"
   ]
  },
  {
   "cell_type": "markdown",
   "metadata": {},
   "source": [
    "## Clean location information\n",
    "\n",
    "Import and clean all of the \"Places\" csv files from the [GitHub repo](https://github.com/cdcepi/zika), which is the `zika` directory below. There are many more places listed than actually have data, so import the first column (the key) from the data files too for comparison."
   ]
  },
  {
   "cell_type": "code",
   "execution_count": 2,
   "metadata": {
    "ExecuteTime": {
     "end_time": "2016-07-23T14:54:53.499397",
     "start_time": "2016-07-23T14:54:53.425138"
    },
    "collapsed": false
   },
   "outputs": [],
   "source": [
    "location_files = glob('../zika/*/*Places.csv')\n",
    "locations = pd.concat([pd.read_csv(x) \n",
    "                       for x in location_files], axis=0).reset_index(drop=True)"
   ]
  },
  {
   "cell_type": "code",
   "execution_count": 3,
   "metadata": {
    "ExecuteTime": {
     "end_time": "2016-07-23T14:54:54.941795",
     "start_time": "2016-07-23T14:54:54.123975"
    },
    "collapsed": false
   },
   "outputs": [],
   "source": [
    "data_file_locations = glob('../zika/*/*/data/*.csv')\n",
    "data_locations = pd.concat([pd.read_csv(x, usecols=[1]).drop_duplicates() \n",
    "                            for x in data_file_locations], axis=0).drop_duplicates().reset_index(drop=True)"
   ]
  },
  {
   "cell_type": "code",
   "execution_count": 4,
   "metadata": {
    "ExecuteTime": {
     "end_time": "2016-07-23T14:54:54.951888",
     "start_time": "2016-07-23T14:54:54.944352"
    },
    "collapsed": false
   },
   "outputs": [],
   "source": [
    "# Drop the locations that don't exist in any data files\n",
    "mask = locations.location.isin(data_locations.location)\n",
    "locations = locations[mask]"
   ]
  },
  {
   "cell_type": "code",
   "execution_count": 5,
   "metadata": {
    "ExecuteTime": {
     "end_time": "2016-07-23T14:54:54.963190",
     "start_time": "2016-07-23T14:54:54.954770"
    },
    "collapsed": false
   },
   "outputs": [],
   "source": [
    "# Data that will be difficult to incorporate into the model\n",
    "mask = locations.location_type.isin(['country', 'region', 'district']).pipe(np.invert)\n",
    "locations = locations.loc[mask]"
   ]
  },
  {
   "cell_type": "code",
   "execution_count": 6,
   "metadata": {
    "ExecuteTime": {
     "end_time": "2016-07-23T14:54:55.687945",
     "start_time": "2016-07-23T14:54:55.679333"
    },
    "collapsed": false
   },
   "outputs": [],
   "source": [
    "locations = locations.dropna(axis=1, how='all')"
   ]
  },
  {
   "cell_type": "code",
   "execution_count": 7,
   "metadata": {
    "ExecuteTime": {
     "end_time": "2016-07-23T14:54:57.308927",
     "start_time": "2016-07-23T14:54:57.152040"
    },
    "collapsed": false
   },
   "outputs": [
    {
     "name": "stderr",
     "output_type": "stream",
     "text": [
      "/Volumes/Files/miniconda/envs/scienv2/lib/python2.7/site-packages/pandas/core/frame.py:2378: SettingWithCopyWarning: \n",
      "A value is trying to be set on a copy of a slice from a DataFrame.\n",
      "Try using .loc[row_indexer,col_indexer] = value instead\n",
      "\n",
      "See the caveats in the documentation: http://pandas.pydata.org/pandas-docs/stable/indexing.html#indexing-view-versus-copy\n",
      "  self[k1] = value[k2]\n"
     ]
    }
   ],
   "source": [
    "location_key = locations[['location', 'location_type']]\n",
    "location_key[['country', 'province', 'county', 'city']] = location_key.location.str.split(r\"\"\"-\"\"\", expand=True)"
   ]
  },
  {
   "cell_type": "code",
   "execution_count": 8,
   "metadata": {
    "ExecuteTime": {
     "end_time": "2016-07-23T14:54:58.154213",
     "start_time": "2016-07-23T14:54:58.102141"
    },
    "collapsed": false
   },
   "outputs": [
    {
     "name": "stderr",
     "output_type": "stream",
     "text": [
      "/Volumes/Files/miniconda/envs/scienv2/lib/python2.7/site-packages/ipykernel/__main__.py:14: SettingWithCopyWarning: \n",
      "A value is trying to be set on a copy of a slice from a DataFrame.\n",
      "Try using .loc[row_indexer,col_indexer] = value instead\n",
      "\n",
      "See the caveats in the documentation: http://pandas.pydata.org/pandas-docs/stable/indexing.html#indexing-view-versus-copy\n"
     ]
    }
   ],
   "source": [
    "def map_locations(x):\n",
    "    location_mapper = {'state':'province',\n",
    "                       'municipality':'city',\n",
    "                       'department':'province',\n",
    "                       'Region':'province',\n",
    "                       'Collectivity':'province',\n",
    "                       'territory':'province'\n",
    "                      }\n",
    "    if x in location_mapper.keys():\n",
    "        return location_mapper[x]\n",
    "    else:\n",
    "        return x\n",
    "    \n",
    "location_key['location_type'] = location_key.location_type.apply(lambda x: map_locations(x))"
   ]
  },
  {
   "cell_type": "code",
   "execution_count": 9,
   "metadata": {
    "ExecuteTime": {
     "end_time": "2016-07-23T14:54:59.221892",
     "start_time": "2016-07-23T14:54:58.856468"
    },
    "collapsed": false
   },
   "outputs": [
    {
     "name": "stderr",
     "output_type": "stream",
     "text": [
      "/Volumes/Files/miniconda/envs/scienv2/lib/python2.7/site-packages/pandas/core/indexing.py:132: SettingWithCopyWarning: \n",
      "A value is trying to be set on a copy of a slice from a DataFrame\n",
      "\n",
      "See the caveats in the documentation: http://pandas.pydata.org/pandas-docs/stable/indexing.html#indexing-view-versus-copy\n",
      "  self._setitem_with_indexer(indexer, value)\n",
      "/Volumes/Files/miniconda/envs/scienv2/lib/python2.7/site-packages/ipykernel/__main__.py:7: SettingWithCopyWarning: \n",
      "A value is trying to be set on a copy of a slice from a DataFrame\n",
      "\n",
      "See the caveats in the documentation: http://pandas.pydata.org/pandas-docs/stable/indexing.html#indexing-view-versus-copy\n",
      "/Volumes/Files/miniconda/envs/scienv2/lib/python2.7/site-packages/ipykernel/__main__.py:8: SettingWithCopyWarning: \n",
      "A value is trying to be set on a copy of a slice from a DataFrame\n",
      "\n",
      "See the caveats in the documentation: http://pandas.pydata.org/pandas-docs/stable/indexing.html#indexing-view-versus-copy\n",
      "/Volumes/Files/miniconda/envs/scienv2/lib/python2.7/site-packages/ipykernel/__main__.py:9: SettingWithCopyWarning: \n",
      "A value is trying to be set on a copy of a slice from a DataFrame\n",
      "\n",
      "See the caveats in the documentation: http://pandas.pydata.org/pandas-docs/stable/indexing.html#indexing-view-versus-copy\n",
      "/Volumes/Files/miniconda/envs/scienv2/lib/python2.7/site-packages/ipykernel/__main__.py:14: SettingWithCopyWarning: \n",
      "A value is trying to be set on a copy of a slice from a DataFrame\n",
      "\n",
      "See the caveats in the documentation: http://pandas.pydata.org/pandas-docs/stable/indexing.html#indexing-view-versus-copy\n",
      "/Volumes/Files/miniconda/envs/scienv2/lib/python2.7/site-packages/ipykernel/__main__.py:15: SettingWithCopyWarning: \n",
      "A value is trying to be set on a copy of a slice from a DataFrame\n",
      "\n",
      "See the caveats in the documentation: http://pandas.pydata.org/pandas-docs/stable/indexing.html#indexing-view-versus-copy\n"
     ]
    }
   ],
   "source": [
    "# Fix the US Virgin Islands entries\n",
    "mask = ( location_key.county.isnull() & \n",
    "         (location_key.location_type=='county') &\n",
    "         (location_key.country=='United_States_Virgin_Islands')\n",
    "        )\n",
    "\n",
    "location_key.loc[mask, 'county'] = location_key.loc[mask, 'province']\n",
    "location_key.loc[mask, 'province'] = 'Virgin Islands'\n",
    "location_key.loc[mask, 'country'] = 'United States'\n",
    "\n",
    "\n",
    "mask = ( location_key.province.isnull() & \n",
    "         (location_key.location_type=='province'))\n",
    "location_key.loc[mask, 'province'] = 'Virgin Islands'\n",
    "location_key.loc[mask, 'country'] = 'United States'"
   ]
  },
  {
   "cell_type": "code",
   "execution_count": 10,
   "metadata": {
    "ExecuteTime": {
     "end_time": "2016-07-23T14:54:59.804948",
     "start_time": "2016-07-23T14:54:59.656196"
    },
    "collapsed": false
   },
   "outputs": [
    {
     "name": "stderr",
     "output_type": "stream",
     "text": [
      "/Volumes/Files/miniconda/envs/scienv2/lib/python2.7/site-packages/ipykernel/__main__.py:5: SettingWithCopyWarning: \n",
      "A value is trying to be set on a copy of a slice from a DataFrame\n",
      "\n",
      "See the caveats in the documentation: http://pandas.pydata.org/pandas-docs/stable/indexing.html#indexing-view-versus-copy\n",
      "/Volumes/Files/miniconda/envs/scienv2/lib/python2.7/site-packages/ipykernel/__main__.py:6: SettingWithCopyWarning: \n",
      "A value is trying to be set on a copy of a slice from a DataFrame\n",
      "\n",
      "See the caveats in the documentation: http://pandas.pydata.org/pandas-docs/stable/indexing.html#indexing-view-versus-copy\n"
     ]
    }
   ],
   "source": [
    "# Fix remaining counties (mainly in Ecuador and Panama)\n",
    "mask = ( location_key.county.isnull() & \n",
    "         (location_key.location_type=='county'))\n",
    "\n",
    "location_key.loc[mask, 'county'] = location_key.loc[mask, 'province']\n",
    "location_key.loc[mask, 'province'] = None"
   ]
  },
  {
   "cell_type": "code",
   "execution_count": 11,
   "metadata": {
    "ExecuteTime": {
     "end_time": "2016-07-23T14:55:00.505804",
     "start_time": "2016-07-23T14:55:00.360694"
    },
    "collapsed": false
   },
   "outputs": [
    {
     "name": "stderr",
     "output_type": "stream",
     "text": [
      "/Volumes/Files/miniconda/envs/scienv2/lib/python2.7/site-packages/ipykernel/__main__.py:5: SettingWithCopyWarning: \n",
      "A value is trying to be set on a copy of a slice from a DataFrame\n",
      "\n",
      "See the caveats in the documentation: http://pandas.pydata.org/pandas-docs/stable/indexing.html#indexing-view-versus-copy\n",
      "/Volumes/Files/miniconda/envs/scienv2/lib/python2.7/site-packages/ipykernel/__main__.py:6: SettingWithCopyWarning: \n",
      "A value is trying to be set on a copy of a slice from a DataFrame\n",
      "\n",
      "See the caveats in the documentation: http://pandas.pydata.org/pandas-docs/stable/indexing.html#indexing-view-versus-copy\n"
     ]
    }
   ],
   "source": [
    "# Move cities to correct column\n",
    "mask = ( location_key.city.isnull() & \n",
    "         (location_key.location_type=='city'))\n",
    "\n",
    "location_key.loc[mask, 'city'] = location_key.loc[mask, 'county']\n",
    "location_key.loc[mask, 'county'] = None"
   ]
  },
  {
   "cell_type": "code",
   "execution_count": 12,
   "metadata": {
    "ExecuteTime": {
     "end_time": "2016-07-23T14:55:01.065848",
     "start_time": "2016-07-23T14:55:00.917077"
    },
    "collapsed": false
   },
   "outputs": [
    {
     "name": "stderr",
     "output_type": "stream",
     "text": [
      "/Volumes/Files/miniconda/envs/scienv2/lib/python2.7/site-packages/ipykernel/__main__.py:5: SettingWithCopyWarning: \n",
      "A value is trying to be set on a copy of a slice from a DataFrame\n",
      "\n",
      "See the caveats in the documentation: http://pandas.pydata.org/pandas-docs/stable/indexing.html#indexing-view-versus-copy\n",
      "/Volumes/Files/miniconda/envs/scienv2/lib/python2.7/site-packages/ipykernel/__main__.py:6: SettingWithCopyWarning: \n",
      "A value is trying to be set on a copy of a slice from a DataFrame\n",
      "\n",
      "See the caveats in the documentation: http://pandas.pydata.org/pandas-docs/stable/indexing.html#indexing-view-versus-copy\n"
     ]
    }
   ],
   "source": [
    "# More fixes for cities\n",
    "mask = ( location_key.city.isnull() & \n",
    "         (location_key.location_type=='city'))\n",
    "\n",
    "location_key.loc[mask, 'city'] = location_key.loc[mask, 'province']\n",
    "location_key.loc[mask, 'province'] = None"
   ]
  },
  {
   "cell_type": "code",
   "execution_count": 13,
   "metadata": {
    "ExecuteTime": {
     "end_time": "2016-07-23T14:55:01.533700",
     "start_time": "2016-07-23T14:55:01.527399"
    },
    "collapsed": true
   },
   "outputs": [],
   "source": [
    "# Drop unknown cities\n",
    "location_key = location_key[location_key.city.isin(['Unknown','Not_Reported']).pipe(np.invert)]"
   ]
  },
  {
   "cell_type": "code",
   "execution_count": 14,
   "metadata": {
    "ExecuteTime": {
     "end_time": "2016-07-23T14:55:02.373438",
     "start_time": "2016-07-23T14:55:02.332828"
    },
    "collapsed": true
   },
   "outputs": [],
   "source": [
    "# Fix for Dade County Florida\n",
    "mask = location_key.location=='United_States-Florida-Miami-Dade_County'\n",
    "location_key.loc[mask, 'county'] = 'Dade_County'\n",
    "location_key.loc[mask, 'city'] = 'Miami'"
   ]
  },
  {
   "cell_type": "code",
   "execution_count": 15,
   "metadata": {
    "ExecuteTime": {
     "end_time": "2016-07-23T14:55:02.888861",
     "start_time": "2016-07-23T14:55:02.879834"
    },
    "collapsed": true
   },
   "outputs": [],
   "source": [
    "# Fix for Santiago Del Estero Argentina\n",
    "location_key.loc[location_key.location=='Argentina-Sgo_Del_Estero', 'province'] = 'Santiago Del Estero'\n",
    "location_key.loc[location_key.location=='Argentina-CABA', 'province'] = 'Ciudad de Buenos Aires'"
   ]
  },
  {
   "cell_type": "code",
   "execution_count": 16,
   "metadata": {
    "ExecuteTime": {
     "end_time": "2016-07-23T14:55:03.451818",
     "start_time": "2016-07-23T14:55:03.440114"
    },
    "collapsed": true
   },
   "outputs": [],
   "source": [
    "# Remove county name\n",
    "location_key['county'] = location_key.county.str.replace('_County','')\n",
    "\n",
    "location_key = location_key[location_key.county.isin(['Unknown','Not_Reported']).pipe(np.invert)]"
   ]
  },
  {
   "cell_type": "code",
   "execution_count": 17,
   "metadata": {
    "ExecuteTime": {
     "end_time": "2016-07-23T14:55:04.031770",
     "start_time": "2016-07-23T14:55:03.983929"
    },
    "collapsed": true
   },
   "outputs": [],
   "source": [
    "# Remove all underscores\n",
    "for col in ['country', 'province', 'county', 'city']:\n",
    "    location_key[col] = location_key[col].str.replace('_', ' ')"
   ]
  },
  {
   "cell_type": "code",
   "execution_count": 18,
   "metadata": {
    "ExecuteTime": {
     "end_time": "2016-07-23T14:55:05.475801",
     "start_time": "2016-07-23T14:55:05.470357"
    },
    "collapsed": false
   },
   "outputs": [],
   "source": [
    "# For checking the data 50 lines at a time\n",
    "# i=31\n",
    "# nsize = 50\n",
    "# location_key.iloc[i*nsize:(i+1)*nsize]"
   ]
  },
  {
   "cell_type": "code",
   "execution_count": 19,
   "metadata": {
    "ExecuteTime": {
     "end_time": "2016-07-23T14:55:08.732378",
     "start_time": "2016-07-23T14:55:08.720387"
    },
    "collapsed": false
   },
   "outputs": [],
   "source": [
    "location_key.to_csv('../csv/00_cleaned_city_names.csv', sep=',', index=False)"
   ]
  },
  {
   "cell_type": "code",
   "execution_count": 20,
   "metadata": {
    "ExecuteTime": {
     "end_time": "2016-07-23T14:55:09.772089",
     "start_time": "2016-07-23T14:55:09.696836"
    },
    "collapsed": true
   },
   "outputs": [],
   "source": [
    "with open('../pkl/00_cleaned_city_names.pkl', 'w') as fh:\n",
    "    dill.dump(location_key, fh)"
   ]
  },
  {
   "cell_type": "code",
   "execution_count": 24,
   "metadata": {
    "ExecuteTime": {
     "end_time": "2016-07-23T15:00:06.013242",
     "start_time": "2016-07-23T14:59:32.744877"
    },
    "collapsed": false
   },
   "outputs": [],
   "source": [
    "postgres_str = 'postgresql://mlgill:{}@127.0.0.1:12345/mcnulty'.format(POSTGRES_PWD)\n",
    "engine = create_engine(postgres_str)\n",
    "location_key.to_sql('00_cleaned_city_names', engine, if_exists='replace')"
   ]
  }
 ],
 "metadata": {
  "kernelspec": {
   "display_name": "Python 2",
   "language": "python",
   "name": "python2"
  },
  "language_info": {
   "codemirror_mode": {
    "name": "ipython",
    "version": 2
   },
   "file_extension": ".py",
   "mimetype": "text/x-python",
   "name": "python",
   "nbconvert_exporter": "python",
   "pygments_lexer": "ipython2",
   "version": "2.7.12"
  }
 },
 "nbformat": 4,
 "nbformat_minor": 0
}
