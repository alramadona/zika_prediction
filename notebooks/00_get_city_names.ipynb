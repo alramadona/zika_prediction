{
 "cells": [
  {
   "cell_type": "code",
   "execution_count": 1,
   "metadata": {
    "ExecuteTime": {
     "end_time": "2016-07-24T13:00:19.697937",
     "start_time": "2016-07-24T13:00:18.511605"
    },
    "collapsed": false
   },
   "outputs": [],
   "source": [
    "import pandas as pd\n",
    "import numpy as np\n",
    "from glob import glob\n",
    "from csv_pkl_sql import save_it\n",
    "\n",
    "pd.options.mode.chained_assignment = None"
   ]
  },
  {
   "cell_type": "markdown",
   "metadata": {},
   "source": [
    "## Clean location information\n",
    "\n",
    "Import and clean all of the \"Places\" csv files from the [GitHub repo](https://github.com/cdcepi/zika), which is the `zika` directory below. There are many more places listed than actually have data, so import the first column (the key) from the data files too for comparison."
   ]
  },
  {
   "cell_type": "code",
   "execution_count": 2,
   "metadata": {
    "ExecuteTime": {
     "end_time": "2016-07-24T13:00:19.823642",
     "start_time": "2016-07-24T13:00:19.704041"
    },
    "collapsed": false
   },
   "outputs": [],
   "source": [
    "location_files = glob('../zika/*/*Places.csv')\n",
    "locations = pd.concat([pd.read_csv(x) \n",
    "                       for x in location_files], axis=0).reset_index(drop=True)"
   ]
  },
  {
   "cell_type": "code",
   "execution_count": 3,
   "metadata": {
    "ExecuteTime": {
     "end_time": "2016-07-24T13:00:20.712040",
     "start_time": "2016-07-24T13:00:19.826567"
    },
    "collapsed": false
   },
   "outputs": [],
   "source": [
    "data_file_locations = glob('../zika/*/*/data/*.csv')\n",
    "data_locations = pd.concat([pd.read_csv(x, usecols=[1]).drop_duplicates() \n",
    "                            for x in data_file_locations], axis=0).drop_duplicates().reset_index(drop=True)"
   ]
  },
  {
   "cell_type": "code",
   "execution_count": 4,
   "metadata": {
    "ExecuteTime": {
     "end_time": "2016-07-24T13:00:20.722138",
     "start_time": "2016-07-24T13:00:20.714123"
    },
    "collapsed": false
   },
   "outputs": [],
   "source": [
    "# Drop the locations that don't exist in any data files\n",
    "mask = locations.location.isin(data_locations.location)\n",
    "locations = locations[mask]"
   ]
  },
  {
   "cell_type": "code",
   "execution_count": 5,
   "metadata": {
    "ExecuteTime": {
     "end_time": "2016-07-24T13:00:20.734392",
     "start_time": "2016-07-24T13:00:20.725039"
    },
    "collapsed": false
   },
   "outputs": [],
   "source": [
    "# Data that will be difficult to incorporate into the model\n",
    "mask = locations.location_type.isin(['country', 'region', 'district']).pipe(np.invert)\n",
    "locations = locations.loc[mask]"
   ]
  },
  {
   "cell_type": "code",
   "execution_count": 6,
   "metadata": {
    "ExecuteTime": {
     "end_time": "2016-07-24T13:00:20.749071",
     "start_time": "2016-07-24T13:00:20.738564"
    },
    "collapsed": false
   },
   "outputs": [],
   "source": [
    "locations = locations.dropna(axis=1, how='all')"
   ]
  },
  {
   "cell_type": "code",
   "execution_count": 7,
   "metadata": {
    "ExecuteTime": {
     "end_time": "2016-07-24T13:00:20.780607",
     "start_time": "2016-07-24T13:00:20.752338"
    },
    "collapsed": false
   },
   "outputs": [],
   "source": [
    "location_key = locations[['location', 'location_type']]\n",
    "location_key[['country', 'province', 'county', 'city']] = location_key.location.str.split(r\"\"\"-\"\"\", expand=True)"
   ]
  },
  {
   "cell_type": "code",
   "execution_count": 8,
   "metadata": {
    "ExecuteTime": {
     "end_time": "2016-07-24T13:00:20.805345",
     "start_time": "2016-07-24T13:00:20.785262"
    },
    "collapsed": false
   },
   "outputs": [],
   "source": [
    "def map_locations(x):\n",
    "    location_mapper = {'state':'province',\n",
    "                       'municipality':'city',\n",
    "                       'department':'province',\n",
    "                       'Region':'province',\n",
    "                       'Collectivity':'province',\n",
    "                       'territory':'province'\n",
    "                      }\n",
    "    if x in location_mapper.keys():\n",
    "        return location_mapper[x]\n",
    "    else:\n",
    "        return x\n",
    "    \n",
    "location_key['location_type'] = location_key.location_type.apply(lambda x: map_locations(x))"
   ]
  },
  {
   "cell_type": "code",
   "execution_count": 9,
   "metadata": {
    "ExecuteTime": {
     "end_time": "2016-07-24T13:00:21.009134",
     "start_time": "2016-07-24T13:00:20.976272"
    },
    "collapsed": false
   },
   "outputs": [],
   "source": [
    "# Fix the US Virgin Islands entries\n",
    "mask = ( location_key.county.isnull() & \n",
    "         (location_key.location_type=='county') &\n",
    "         (location_key.country=='United_States_Virgin_Islands')\n",
    "        )\n",
    "\n",
    "location_key.loc[mask, 'county'] = location_key.loc[mask, 'province']\n",
    "location_key.loc[mask, 'province'] = 'Virgin Islands'\n",
    "location_key.loc[mask, 'country'] = 'United States'\n",
    "\n",
    "\n",
    "mask = ( location_key.province.isnull() & \n",
    "         (location_key.location_type=='province'))\n",
    "location_key.loc[mask, 'province'] = 'Virgin Islands'\n",
    "location_key.loc[mask, 'country'] = 'United States'\n",
    "\n",
    "\n",
    "mask = (location_key.location=='United_States-US_Virgin_Islands')\n",
    "location_key.loc[mask, 'province'] = 'Virgin Islands'"
   ]
  },
  {
   "cell_type": "code",
   "execution_count": 10,
   "metadata": {
    "ExecuteTime": {
     "end_time": "2016-07-24T13:00:21.245175",
     "start_time": "2016-07-24T13:00:21.231885"
    },
    "collapsed": false
   },
   "outputs": [],
   "source": [
    "# Fix remaining counties (mainly in Ecuador and Panama)\n",
    "mask = ( location_key.county.isnull() & \n",
    "         (location_key.location_type=='county'))\n",
    "\n",
    "location_key.loc[mask, 'county'] = location_key.loc[mask, 'province']\n",
    "location_key.loc[mask, 'province'] = None"
   ]
  },
  {
   "cell_type": "code",
   "execution_count": 11,
   "metadata": {
    "ExecuteTime": {
     "end_time": "2016-07-24T13:00:21.454850",
     "start_time": "2016-07-24T13:00:21.437894"
    },
    "collapsed": false
   },
   "outputs": [],
   "source": [
    "# Move cities to correct column\n",
    "mask = ( location_key.city.isnull() & \n",
    "         (location_key.location_type=='city'))\n",
    "\n",
    "location_key.loc[mask, 'city'] = location_key.loc[mask, 'county']\n",
    "location_key.loc[mask, 'county'] = None"
   ]
  },
  {
   "cell_type": "code",
   "execution_count": 12,
   "metadata": {
    "ExecuteTime": {
     "end_time": "2016-07-24T13:00:21.942644",
     "start_time": "2016-07-24T13:00:21.928743"
    },
    "collapsed": false
   },
   "outputs": [],
   "source": [
    "# More fixes for cities\n",
    "mask = ( location_key.city.isnull() & \n",
    "         (location_key.location_type=='city'))\n",
    "\n",
    "location_key.loc[mask, 'city'] = location_key.loc[mask, 'province']\n",
    "location_key.loc[mask, 'province'] = None"
   ]
  },
  {
   "cell_type": "code",
   "execution_count": 13,
   "metadata": {
    "ExecuteTime": {
     "end_time": "2016-07-24T13:00:22.530160",
     "start_time": "2016-07-24T13:00:22.523053"
    },
    "collapsed": true
   },
   "outputs": [],
   "source": [
    "# Drop unknown cities\n",
    "location_key = location_key[location_key.city.isin(['Unknown','Not_Reported']).pipe(np.invert)]"
   ]
  },
  {
   "cell_type": "code",
   "execution_count": 14,
   "metadata": {
    "ExecuteTime": {
     "end_time": "2016-07-24T13:00:22.723449",
     "start_time": "2016-07-24T13:00:22.713522"
    },
    "collapsed": true
   },
   "outputs": [],
   "source": [
    "# Fix for Dade County Florida\n",
    "mask = location_key.location=='United_States-Florida-Miami-Dade_County'\n",
    "location_key.loc[mask, 'county'] = 'Dade_County'\n",
    "location_key.loc[mask, 'city'] = 'Miami'"
   ]
  },
  {
   "cell_type": "code",
   "execution_count": 15,
   "metadata": {
    "ExecuteTime": {
     "end_time": "2016-07-24T13:00:22.893399",
     "start_time": "2016-07-24T13:00:22.884011"
    },
    "collapsed": true
   },
   "outputs": [],
   "source": [
    "# Fix for Santiago Del Estero Argentina\n",
    "location_key.loc[location_key.location=='Argentina-Sgo_Del_Estero', 'province'] = 'Santiago Del Estero'\n",
    "location_key.loc[location_key.location=='Argentina-CABA', 'province'] = 'Ciudad de Buenos Aires'"
   ]
  },
  {
   "cell_type": "code",
   "execution_count": 16,
   "metadata": {
    "ExecuteTime": {
     "end_time": "2016-07-24T13:00:23.372597",
     "start_time": "2016-07-24T13:00:23.362437"
    },
    "collapsed": true
   },
   "outputs": [],
   "source": [
    "# Remove county name\n",
    "location_key['county'] = location_key.county.str.replace('_County','')\n",
    "\n",
    "location_key = location_key[location_key.county.isin(['Unknown','Not_Reported']).pipe(np.invert)]"
   ]
  },
  {
   "cell_type": "code",
   "execution_count": 17,
   "metadata": {
    "ExecuteTime": {
     "end_time": "2016-07-24T13:00:23.591819",
     "start_time": "2016-07-24T13:00:23.576324"
    },
    "collapsed": true
   },
   "outputs": [],
   "source": [
    "# Remove all underscores\n",
    "for col in ['country', 'province', 'county', 'city']:\n",
    "    location_key[col] = location_key[col].str.replace('_', ' ')"
   ]
  },
  {
   "cell_type": "code",
   "execution_count": 18,
   "metadata": {
    "ExecuteTime": {
     "end_time": "2016-07-24T13:00:26.760048",
     "start_time": "2016-07-24T13:00:26.755406"
    },
    "collapsed": false
   },
   "outputs": [],
   "source": [
    "# For checking the data 50 lines at a time\n",
    "# i=31\n",
    "# nsize = 50\n",
    "# location_key.iloc[i*nsize:(i+1)*nsize]"
   ]
  },
  {
   "cell_type": "code",
   "execution_count": 19,
   "metadata": {
    "ExecuteTime": {
     "end_time": "2016-07-24T12:44:45.491710",
     "start_time": "2016-07-24T12:44:09.824527"
    },
    "collapsed": true
   },
   "outputs": [],
   "source": [
    "save_it(location_key, '00_cleaned_city_names')"
   ]
  }
 ],
 "metadata": {
  "kernelspec": {
   "display_name": "Python 2",
   "language": "python",
   "name": "python2"
  },
  "language_info": {
   "codemirror_mode": {
    "name": "ipython",
    "version": 2
   },
   "file_extension": ".py",
   "mimetype": "text/x-python",
   "name": "python",
   "nbconvert_exporter": "python",
   "pygments_lexer": "ipython2",
   "version": "2.7.12"
  }
 },
 "nbformat": 4,
 "nbformat_minor": 0
}
