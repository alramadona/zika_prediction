{
 "cells": [
  {
   "cell_type": "code",
   "execution_count": 350,
   "metadata": {
    "ExecuteTime": {
     "end_time": "2016-07-23T13:00:46.141025",
     "start_time": "2016-07-23T13:00:46.002386"
    },
    "collapsed": true
   },
   "outputs": [],
   "source": [
    "import pandas as pd\n",
    "import numpy as np\n",
    "from glob import glob\n",
    "import dill"
   ]
  },
  {
   "cell_type": "markdown",
   "metadata": {},
   "source": [
    "## Clean location information\n",
    "\n",
    "Import and clean all of the \"Places\" csv files from the [GitHub repo](https://github.com/cdcepi/zika), which is the `zika` directory below."
   ]
  },
  {
   "cell_type": "code",
   "execution_count": 312,
   "metadata": {
    "ExecuteTime": {
     "end_time": "2016-07-23T12:43:40.179939",
     "start_time": "2016-07-23T12:43:40.112963"
    },
    "collapsed": false
   },
   "outputs": [],
   "source": [
    "location_files = glob('../zika/*/*Places.csv')\n",
    "locations = pd.concat([pd.read_csv(x) for x in location_files], axis=0).reset_index(drop=True)"
   ]
  },
  {
   "cell_type": "code",
   "execution_count": 313,
   "metadata": {
    "ExecuteTime": {
     "end_time": "2016-07-23T12:43:40.897521",
     "start_time": "2016-07-23T12:43:40.890390"
    },
    "collapsed": false
   },
   "outputs": [],
   "source": [
    "# Data that will be difficult to incorporate into the model\n",
    "mask = locations.location_type.isin(['country', 'region', 'district']).pipe(np.invert)\n",
    "locations = locations.loc[mask]"
   ]
  },
  {
   "cell_type": "code",
   "execution_count": 314,
   "metadata": {
    "ExecuteTime": {
     "end_time": "2016-07-23T12:43:41.443787",
     "start_time": "2016-07-23T12:43:41.434325"
    },
    "collapsed": false
   },
   "outputs": [],
   "source": [
    "locations = locations.dropna(axis=1, how='all')"
   ]
  },
  {
   "cell_type": "code",
   "execution_count": 315,
   "metadata": {
    "ExecuteTime": {
     "end_time": "2016-07-23T12:43:43.810309",
     "start_time": "2016-07-23T12:43:43.602878"
    },
    "collapsed": false
   },
   "outputs": [],
   "source": [
    "location_key = locations[['location', 'location_type']]\n",
    "location_key[['country', 'province', 'county', 'city']] = location_key.location.str.split(r\"\"\"-\"\"\", expand=True)"
   ]
  },
  {
   "cell_type": "code",
   "execution_count": 316,
   "metadata": {
    "ExecuteTime": {
     "end_time": "2016-07-23T12:43:43.958100",
     "start_time": "2016-07-23T12:43:43.900597"
    },
    "collapsed": false
   },
   "outputs": [
    {
     "name": "stderr",
     "output_type": "stream",
     "text": [
      "/Volumes/Files/miniconda/envs/scienv2/lib/python2.7/site-packages/ipykernel/__main__.py:14: SettingWithCopyWarning: \n",
      "A value is trying to be set on a copy of a slice from a DataFrame.\n",
      "Try using .loc[row_indexer,col_indexer] = value instead\n",
      "\n",
      "See the caveats in the documentation: http://pandas.pydata.org/pandas-docs/stable/indexing.html#indexing-view-versus-copy\n"
     ]
    }
   ],
   "source": [
    "def map_locations(x):\n",
    "    location_mapper = {'state':'province',\n",
    "                       'municipality':'city',\n",
    "                       'department':'province',\n",
    "                       'Region':'province',\n",
    "                       'Collectivity':'province',\n",
    "                       'territory':'province'\n",
    "                      }\n",
    "    if x in location_mapper.keys():\n",
    "        return location_mapper[x]\n",
    "    else:\n",
    "        return x\n",
    "    \n",
    "location_key['location_type'] = location_key.location_type.apply(lambda x: map_locations(x))"
   ]
  },
  {
   "cell_type": "code",
   "execution_count": 317,
   "metadata": {
    "ExecuteTime": {
     "end_time": "2016-07-23T12:43:44.927501",
     "start_time": "2016-07-23T12:43:44.561256"
    },
    "collapsed": false
   },
   "outputs": [
    {
     "name": "stderr",
     "output_type": "stream",
     "text": [
      "/Volumes/Files/miniconda/envs/scienv2/lib/python2.7/site-packages/ipykernel/__main__.py:7: SettingWithCopyWarning: \n",
      "A value is trying to be set on a copy of a slice from a DataFrame\n",
      "\n",
      "See the caveats in the documentation: http://pandas.pydata.org/pandas-docs/stable/indexing.html#indexing-view-versus-copy\n",
      "/Volumes/Files/miniconda/envs/scienv2/lib/python2.7/site-packages/ipykernel/__main__.py:8: SettingWithCopyWarning: \n",
      "A value is trying to be set on a copy of a slice from a DataFrame\n",
      "\n",
      "See the caveats in the documentation: http://pandas.pydata.org/pandas-docs/stable/indexing.html#indexing-view-versus-copy\n",
      "/Volumes/Files/miniconda/envs/scienv2/lib/python2.7/site-packages/ipykernel/__main__.py:9: SettingWithCopyWarning: \n",
      "A value is trying to be set on a copy of a slice from a DataFrame\n",
      "\n",
      "See the caveats in the documentation: http://pandas.pydata.org/pandas-docs/stable/indexing.html#indexing-view-versus-copy\n",
      "/Volumes/Files/miniconda/envs/scienv2/lib/python2.7/site-packages/ipykernel/__main__.py:14: SettingWithCopyWarning: \n",
      "A value is trying to be set on a copy of a slice from a DataFrame\n",
      "\n",
      "See the caveats in the documentation: http://pandas.pydata.org/pandas-docs/stable/indexing.html#indexing-view-versus-copy\n",
      "/Volumes/Files/miniconda/envs/scienv2/lib/python2.7/site-packages/ipykernel/__main__.py:15: SettingWithCopyWarning: \n",
      "A value is trying to be set on a copy of a slice from a DataFrame\n",
      "\n",
      "See the caveats in the documentation: http://pandas.pydata.org/pandas-docs/stable/indexing.html#indexing-view-versus-copy\n"
     ]
    }
   ],
   "source": [
    "# Fix the US Virgin Islands entries\n",
    "mask = ( location_key.county.isnull() & \n",
    "         (location_key.location_type=='county') &\n",
    "         (location_key.country=='United_States_Virgin_Islands')\n",
    "        )\n",
    "\n",
    "location_key.loc[mask, 'county'] = location_key.loc[mask, 'province']\n",
    "location_key.loc[mask, 'province'] = 'Virgin Islands'\n",
    "location_key.loc[mask, 'country'] = 'United States'\n",
    "\n",
    "\n",
    "mask = ( location_key.province.isnull() & \n",
    "         (location_key.location_type=='province'))\n",
    "location_key.loc[mask, 'province'] = 'Virgin Islands'\n",
    "location_key.loc[mask, 'country'] = 'United States'"
   ]
  },
  {
   "cell_type": "code",
   "execution_count": 318,
   "metadata": {
    "ExecuteTime": {
     "end_time": "2016-07-23T12:43:45.204525",
     "start_time": "2016-07-23T12:43:45.039014"
    },
    "collapsed": false
   },
   "outputs": [
    {
     "name": "stderr",
     "output_type": "stream",
     "text": [
      "/Volumes/Files/miniconda/envs/scienv2/lib/python2.7/site-packages/ipykernel/__main__.py:5: SettingWithCopyWarning: \n",
      "A value is trying to be set on a copy of a slice from a DataFrame\n",
      "\n",
      "See the caveats in the documentation: http://pandas.pydata.org/pandas-docs/stable/indexing.html#indexing-view-versus-copy\n",
      "/Volumes/Files/miniconda/envs/scienv2/lib/python2.7/site-packages/ipykernel/__main__.py:6: SettingWithCopyWarning: \n",
      "A value is trying to be set on a copy of a slice from a DataFrame\n",
      "\n",
      "See the caveats in the documentation: http://pandas.pydata.org/pandas-docs/stable/indexing.html#indexing-view-versus-copy\n"
     ]
    }
   ],
   "source": [
    "# Fix remaining counties (mainly in Ecuador and Panama)\n",
    "mask = ( location_key.county.isnull() & \n",
    "         (location_key.location_type=='county'))\n",
    "\n",
    "location_key.loc[mask, 'county'] = location_key.loc[mask, 'province']\n",
    "location_key.loc[mask, 'province'] = None"
   ]
  },
  {
   "cell_type": "code",
   "execution_count": 319,
   "metadata": {
    "ExecuteTime": {
     "end_time": "2016-07-23T12:43:47.537583",
     "start_time": "2016-07-23T12:43:47.380235"
    },
    "collapsed": false
   },
   "outputs": [
    {
     "name": "stderr",
     "output_type": "stream",
     "text": [
      "/Volumes/Files/miniconda/envs/scienv2/lib/python2.7/site-packages/ipykernel/__main__.py:4: SettingWithCopyWarning: \n",
      "A value is trying to be set on a copy of a slice from a DataFrame\n",
      "\n",
      "See the caveats in the documentation: http://pandas.pydata.org/pandas-docs/stable/indexing.html#indexing-view-versus-copy\n",
      "/Volumes/Files/miniconda/envs/scienv2/lib/python2.7/site-packages/ipykernel/__main__.py:5: SettingWithCopyWarning: \n",
      "A value is trying to be set on a copy of a slice from a DataFrame\n",
      "\n",
      "See the caveats in the documentation: http://pandas.pydata.org/pandas-docs/stable/indexing.html#indexing-view-versus-copy\n"
     ]
    }
   ],
   "source": [
    "# Move cities to correct column\n",
    "mask = ( location_key.city.isnull() & \n",
    "         (location_key.location_type=='city'))\n",
    "\n",
    "location_key.loc[mask, 'city'] = location_key.loc[mask, 'county']\n",
    "location_key.loc[mask, 'county'] = None"
   ]
  },
  {
   "cell_type": "code",
   "execution_count": 320,
   "metadata": {
    "ExecuteTime": {
     "end_time": "2016-07-23T12:43:47.924336",
     "start_time": "2016-07-23T12:43:47.763653"
    },
    "collapsed": false
   },
   "outputs": [
    {
     "name": "stderr",
     "output_type": "stream",
     "text": [
      "/Volumes/Files/miniconda/envs/scienv2/lib/python2.7/site-packages/ipykernel/__main__.py:4: SettingWithCopyWarning: \n",
      "A value is trying to be set on a copy of a slice from a DataFrame\n",
      "\n",
      "See the caveats in the documentation: http://pandas.pydata.org/pandas-docs/stable/indexing.html#indexing-view-versus-copy\n",
      "/Volumes/Files/miniconda/envs/scienv2/lib/python2.7/site-packages/ipykernel/__main__.py:5: SettingWithCopyWarning: \n",
      "A value is trying to be set on a copy of a slice from a DataFrame\n",
      "\n",
      "See the caveats in the documentation: http://pandas.pydata.org/pandas-docs/stable/indexing.html#indexing-view-versus-copy\n"
     ]
    }
   ],
   "source": [
    "# More fixes for cities\n",
    "mask = ( location_key.city.isnull() & \n",
    "         (location_key.location_type=='city'))\n",
    "\n",
    "location_key.loc[mask, 'city'] = location_key.loc[mask, 'province']\n",
    "location_key.loc[mask, 'province'] = None"
   ]
  },
  {
   "cell_type": "code",
   "execution_count": 329,
   "metadata": {
    "ExecuteTime": {
     "end_time": "2016-07-23T12:49:47.233080",
     "start_time": "2016-07-23T12:49:47.217385"
    },
    "collapsed": true
   },
   "outputs": [],
   "source": [
    "# Drop unknown cities\n",
    "location_key = location_key[location_key.city.isin(['Unknown','Not_Reported']).pipe(np.invert)]"
   ]
  },
  {
   "cell_type": "code",
   "execution_count": 325,
   "metadata": {
    "ExecuteTime": {
     "end_time": "2016-07-23T12:46:11.271102",
     "start_time": "2016-07-23T12:46:11.219386"
    },
    "collapsed": true
   },
   "outputs": [],
   "source": [
    "# Fix for Dade County Florida\n",
    "mask = location_key.location=='United_States-Florida-Miami-Dade_County'\n",
    "location_key.loc[mask, 'county'] = 'Dade_County'\n",
    "location_key.loc[mask, 'city'] = 'Miami'"
   ]
  },
  {
   "cell_type": "code",
   "execution_count": 340,
   "metadata": {
    "ExecuteTime": {
     "end_time": "2016-07-23T12:56:40.593394",
     "start_time": "2016-07-23T12:56:40.583300"
    },
    "collapsed": true
   },
   "outputs": [],
   "source": [
    "# Fix for Santiago Del Estero Argentina\n",
    "location_key.loc[location_key.location=='Argentina-Sgo_Del_Estero', 'province'] = 'Santiago Del Estero'\n",
    "location_key.loc[location_key.location=='Argentina-CABA', 'province'] = 'Ciudad de Buenos Aires'"
   ]
  },
  {
   "cell_type": "code",
   "execution_count": 341,
   "metadata": {
    "ExecuteTime": {
     "end_time": "2016-07-23T12:56:43.687023",
     "start_time": "2016-07-23T12:56:43.677230"
    },
    "collapsed": true
   },
   "outputs": [],
   "source": [
    "# Remove county name\n",
    "location_key['county'] = location_key.county.str.replace('_County','')\n",
    "\n",
    "location_key = location_key[location_key.county.isin(['Unknown','Not_Reported']).pipe(np.invert)]"
   ]
  },
  {
   "cell_type": "code",
   "execution_count": 342,
   "metadata": {
    "ExecuteTime": {
     "end_time": "2016-07-23T12:56:45.468946",
     "start_time": "2016-07-23T12:56:45.454222"
    },
    "collapsed": true
   },
   "outputs": [],
   "source": [
    "# Remove all underscores\n",
    "for col in ['country', 'province', 'county', 'city']:\n",
    "    location_key[col] = location_key[col].str.replace('_', ' ')"
   ]
  },
  {
   "cell_type": "code",
   "execution_count": 349,
   "metadata": {
    "ExecuteTime": {
     "end_time": "2016-07-23T12:59:41.313485",
     "start_time": "2016-07-23T12:59:41.308502"
    },
    "collapsed": false
   },
   "outputs": [],
   "source": [
    "# For checking the data 50 lines at a time\n",
    "# i=31\n",
    "# nsize = 50\n",
    "# location_key.iloc[i*nsize:(i+1)*nsize]"
   ]
  },
  {
   "cell_type": "code",
   "execution_count": 359,
   "metadata": {
    "ExecuteTime": {
     "end_time": "2016-07-23T13:29:24.380109",
     "start_time": "2016-07-23T13:29:24.354299"
    },
    "collapsed": false
   },
   "outputs": [],
   "source": [
    "location_key.to_csv('../csv/00_cleaned_city_names.csv', sep=',', index=False)"
   ]
  },
  {
   "cell_type": "code",
   "execution_count": 358,
   "metadata": {
    "ExecuteTime": {
     "end_time": "2016-07-23T13:07:31.027832",
     "start_time": "2016-07-23T13:07:30.939726"
    },
    "collapsed": true
   },
   "outputs": [],
   "source": [
    "with open('../pkl/00_cleaned_city_names.pkl', 'w') as fh:\n",
    "    dill.dump(location_key, fh)"
   ]
  }
 ],
 "metadata": {
  "kernelspec": {
   "display_name": "Python 2",
   "language": "python",
   "name": "python2"
  },
  "language_info": {
   "codemirror_mode": {
    "name": "ipython",
    "version": 2
   },
   "file_extension": ".py",
   "mimetype": "text/x-python",
   "name": "python",
   "nbconvert_exporter": "python",
   "pygments_lexer": "ipython2",
   "version": "2.7.12"
  }
 },
 "nbformat": 4,
 "nbformat_minor": 0
}
