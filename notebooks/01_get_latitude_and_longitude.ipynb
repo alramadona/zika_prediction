{
 "cells": [
  {
   "cell_type": "code",
   "execution_count": 7,
   "metadata": {
    "ExecuteTime": {
     "end_time": "2016-07-23T15:02:59.760958",
     "start_time": "2016-07-23T15:02:59.753657"
    },
    "collapsed": true
   },
   "outputs": [],
   "source": [
    "import pandas as pd\n",
    "import numpy as np\n",
    "import requests\n",
    "import json\n",
    "from api_keys import GOOGLE_API_KEY, POSTGRES_PWD\n",
    "import time\n",
    "import dill"
   ]
  },
  {
   "cell_type": "code",
   "execution_count": 8,
   "metadata": {
    "ExecuteTime": {
     "end_time": "2016-07-23T15:03:00.269083",
     "start_time": "2016-07-23T15:03:00.216302"
    },
    "collapsed": false
   },
   "outputs": [],
   "source": [
    "with open('../pkl/00_cleaned_city_names.pkl', 'r') as fh:\n",
    "    location_key = dill.load(fh)"
   ]
  },
  {
   "cell_type": "code",
   "execution_count": 9,
   "metadata": {
    "ExecuteTime": {
     "end_time": "2016-07-23T15:03:00.734457",
     "start_time": "2016-07-23T15:03:00.704791"
    },
    "collapsed": false
   },
   "outputs": [
    {
     "data": {
      "text/html": [
       "<div>\n",
       "<table border=\"1\" class=\"dataframe\">\n",
       "  <thead>\n",
       "    <tr style=\"text-align: right;\">\n",
       "      <th></th>\n",
       "      <th>location</th>\n",
       "      <th>location_type</th>\n",
       "      <th>country</th>\n",
       "      <th>province</th>\n",
       "      <th>county</th>\n",
       "      <th>city</th>\n",
       "    </tr>\n",
       "  </thead>\n",
       "  <tbody>\n",
       "    <tr>\n",
       "      <th>0</th>\n",
       "      <td>Argentina-Buenos_Aires</td>\n",
       "      <td>province</td>\n",
       "      <td>Argentina</td>\n",
       "      <td>Buenos Aires</td>\n",
       "      <td>None</td>\n",
       "      <td>None</td>\n",
       "    </tr>\n",
       "    <tr>\n",
       "      <th>1</th>\n",
       "      <td>Argentina-CABA</td>\n",
       "      <td>province</td>\n",
       "      <td>Argentina</td>\n",
       "      <td>Ciudad de Buenos Aires</td>\n",
       "      <td>None</td>\n",
       "      <td>None</td>\n",
       "    </tr>\n",
       "  </tbody>\n",
       "</table>\n",
       "</div>"
      ],
      "text/plain": [
       "                 location location_type    country                province  \\\n",
       "0  Argentina-Buenos_Aires      province  Argentina            Buenos Aires   \n",
       "1          Argentina-CABA      province  Argentina  Ciudad de Buenos Aires   \n",
       "\n",
       "  county  city  \n",
       "0   None  None  \n",
       "1   None  None  "
      ]
     },
     "execution_count": 9,
     "metadata": {},
     "output_type": "execute_result"
    }
   ],
   "source": [
    "location_key.head(2)"
   ]
  },
  {
   "cell_type": "code",
   "execution_count": 10,
   "metadata": {
    "ExecuteTime": {
     "end_time": "2016-07-23T15:03:01.355950",
     "start_time": "2016-07-23T15:03:01.344209"
    },
    "collapsed": true
   },
   "outputs": [],
   "source": [
    "def get_latitude_longitude(df_row):\n",
    "    subtype = df_row.location_type\n",
    "    second_str = df_row[subtype].replace(' ', '+')\n",
    "    country_str = df_row.country.replace(' ', '+')\n",
    "    \n",
    "    url = 'https://maps.googleapis.com/maps/api/geocode/json?address=+{},+{}&key={}'.format(second_str, \n",
    "                                                                                            country_str, \n",
    "                                                                                            GOOGLE_API_KEY)\n",
    "    \n",
    "    try:\n",
    "        response = requests.get(url).text\n",
    "        lat_lng = json.loads(response)['results'][0]['geometry']['location']\n",
    "        lat_lng_df = pd.Series({'lat':lat_lng['lat'], 'lng':lat_lng['lng']})\n",
    "    except:\n",
    "        lat_lng_df = pd.Series({'lat':np.NaN, 'lng':np.NaN})\n",
    "        \n",
    "    time.sleep(1)\n",
    "    return lat_lng_df"
   ]
  },
  {
   "cell_type": "code",
   "execution_count": null,
   "metadata": {
    "ExecuteTime": {
     "start_time": "2016-07-23T19:03:12.586Z"
    },
    "collapsed": false
   },
   "outputs": [],
   "source": [
    "location_key[['latitude','longitude']] = location_key.apply(lambda x: get_latitude_longitude(x), axis=1)"
   ]
  },
  {
   "cell_type": "code",
   "execution_count": null,
   "metadata": {
    "ExecuteTime": {
     "start_time": "2016-07-23T19:04:11.311Z"
    },
    "collapsed": true
   },
   "outputs": [],
   "source": [
    "location_key_out = location_key[['location','latitude','longitude']]"
   ]
  },
  {
   "cell_type": "code",
   "execution_count": null,
   "metadata": {
    "ExecuteTime": {
     "start_time": "2016-07-23T19:04:20.113Z"
    },
    "collapsed": true
   },
   "outputs": [],
   "source": [
    "location_key_out.to_csv('../csv/01_latitude_longitude.csv', sep=',', index=False)"
   ]
  },
  {
   "cell_type": "code",
   "execution_count": null,
   "metadata": {
    "ExecuteTime": {
     "start_time": "2016-07-23T19:04:40.833Z"
    },
    "collapsed": true
   },
   "outputs": [],
   "source": [
    "with open('../pkl/01_latitude_longitude.pkl', 'w') as fh:\n",
    "    dill.dump(location_key_out, fh)"
   ]
  },
  {
   "cell_type": "code",
   "execution_count": null,
   "metadata": {
    "ExecuteTime": {
     "start_time": "2016-07-23T19:05:13.295Z"
    },
    "collapsed": true
   },
   "outputs": [],
   "source": [
    "from api_keys import GOOGLE_API_KEY, POSTGRES_PWD"
   ]
  },
  {
   "cell_type": "code",
   "execution_count": null,
   "metadata": {
    "ExecuteTime": {
     "start_time": "2016-07-23T19:05:27.875Z"
    },
    "collapsed": true
   },
   "outputs": [],
   "source": [
    "postgres_str = 'postgresql://mlgill:{}@127.0.0.1:12345/mcnulty'.format(POSTGRES_PWD)\n",
    "engine = create_engine(postgres_str)\n",
    "location_key.to_sql('01_latitude_longitude', engine, if_exists='replace')"
   ]
  }
 ],
 "metadata": {
  "kernelspec": {
   "display_name": "Python 2",
   "language": "python",
   "name": "python2"
  },
  "language_info": {
   "codemirror_mode": {
    "name": "ipython",
    "version": 2
   },
   "file_extension": ".py",
   "mimetype": "text/x-python",
   "name": "python",
   "nbconvert_exporter": "python",
   "pygments_lexer": "ipython2",
   "version": "2.7.12"
  }
 },
 "nbformat": 4,
 "nbformat_minor": 0
}
