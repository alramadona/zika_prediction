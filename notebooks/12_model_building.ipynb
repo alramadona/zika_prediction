{
 "cells": [
  {
   "cell_type": "code",
   "execution_count": null,
   "metadata": {
    "ExecuteTime": {
     "start_time": "2016-08-03T09:30:10.573Z"
    },
    "collapsed": false
   },
   "outputs": [],
   "source": [
    "import pandas as pd\n",
    "import numpy as np\n",
    "import dill\n",
    "\n",
    "from imblearn.pipeline import make_pipeline\n",
    "from imblearn.ensemble import EasyEnsemble, BalanceCascade\n",
    "from imblearn.over_sampling import ADASYN\n",
    "\n",
    "from sklearn.preprocessing import Normalizer\n",
    "from sklearn.cross_validation import train_test_split, StratifiedShuffleSplit, KFold\n",
    "from sklearn.linear_model import LogisticRegressionCV\n",
    "from sklearn.ensemble import RandomForestClassifier, AdaBoostClassifier\n",
    "from sklearn.tree import DecisionTreeClassifier\n",
    "from sklearn.svm import SVC, LinearSVC\n",
    "from sklearn.grid_search import GridSearchCV\n",
    "from sklearn.metrics import confusion_matrix, f1_score, roc_auc_score, roc_curve, auc, accuracy_score\n",
    "\n",
    "import matplotlib.pyplot as plt\n",
    "import seaborn as sns\n",
    "\n",
    "sns.set_context('talk')\n",
    "sns.set_palette('dark')\n",
    "sns.set_style('white')\n",
    "\n",
    "%matplotlib inline"
   ]
  },
  {
   "cell_type": "markdown",
   "metadata": {},
   "source": [
    "## Combine data\n",
    "\n",
    "First read and normalize the features."
   ]
  },
  {
   "cell_type": "code",
   "execution_count": 25,
   "metadata": {
    "ExecuteTime": {
     "end_time": "2016-08-01T05:06:29.399906",
     "start_time": "2016-08-01T05:06:28.658440"
    },
    "collapsed": false
   },
   "outputs": [],
   "source": [
    "features = pd.read_pickle('../pkl/11_features_engineered.pkl').dropna()\n",
    "\n",
    "feat_cols = [x for x in features.columns if x not in ['date','location']]\n",
    "\n",
    "features[feat_cols] = Normalizer().fit_transform(features[feat_cols])"
   ]
  },
  {
   "cell_type": "markdown",
   "metadata": {},
   "source": [
    "Import the predictors."
   ]
  },
  {
   "cell_type": "code",
   "execution_count": 27,
   "metadata": {
    "ExecuteTime": {
     "end_time": "2016-08-01T05:07:03.485293",
     "start_time": "2016-08-01T05:07:03.464834"
    },
    "collapsed": true
   },
   "outputs": [],
   "source": [
    "framework_b_first = pd.read_pickle('../pkl/10_class_balancing_framework_b_first.pkl')\n",
    "framework_b_max   = pd.read_pickle('../pkl/10_class_balancing_framework_b_max.pkl')\n",
    "\n",
    "framework_a_first = pd.read_pickle('../pkl/10_class_balancing_framework_a_first.pkl')\n",
    "framework_a_max   = pd.read_pickle('../pkl/10_class_balancing_framework_a_first.pkl')"
   ]
  },
  {
   "cell_type": "code",
   "execution_count": 28,
   "metadata": {
    "ExecuteTime": {
     "end_time": "2016-08-01T05:07:04.225866",
     "start_time": "2016-08-01T05:07:04.216540"
    },
    "collapsed": false
   },
   "outputs": [
    {
     "data": {
      "text/plain": [
       "location             object\n",
       "date         datetime64[ns]\n",
       "zika_bool             int64\n",
       "dtype: object"
      ]
     },
     "execution_count": 28,
     "metadata": {},
     "output_type": "execute_result"
    }
   ],
   "source": [
    "framework_b_first.dtypes"
   ]
  },
  {
   "cell_type": "code",
   "execution_count": 29,
   "metadata": {
    "ExecuteTime": {
     "end_time": "2016-08-01T05:07:08.895598",
     "start_time": "2016-08-01T05:07:08.827565"
    },
    "collapsed": false
   },
   "outputs": [
    {
     "name": "stdout",
     "output_type": "stream",
     "text": [
      "(1044, 3) 0\n",
      "(658, 27) 0\n",
      "1    331\n",
      "0    327\n",
      "Name: zika_bool, dtype: int64\n"
     ]
    }
   ],
   "source": [
    "print framework_b_first.shape, framework_b_first.isnull().sum().max()\n",
    "\n",
    "fwd_b_first = pd.merge(framework_b_first, \n",
    "                       features, \n",
    "                       on=['date','location'], how='left').dropna()\n",
    "\n",
    "print fwd_b_first.shape, fwd_b_first.isnull().sum().max()\n",
    "\n",
    "print fwd_b_first.zika_bool.value_counts()"
   ]
  },
  {
   "cell_type": "code",
   "execution_count": 30,
   "metadata": {
    "ExecuteTime": {
     "end_time": "2016-08-01T05:07:09.972469",
     "start_time": "2016-08-01T05:07:09.968953"
    },
    "collapsed": false
   },
   "outputs": [],
   "source": [
    "#mask = framework_b_first.location.isin(features.location).pipe(np.invert)\n",
    "#framework_b_first.loc[mask, 'location']"
   ]
  },
  {
   "cell_type": "code",
   "execution_count": 31,
   "metadata": {
    "ExecuteTime": {
     "end_time": "2016-08-01T05:07:10.945864",
     "start_time": "2016-08-01T05:07:10.882720"
    },
    "collapsed": false
   },
   "outputs": [
    {
     "name": "stdout",
     "output_type": "stream",
     "text": [
      "(1044, 3) 0\n",
      "(657, 27) 0\n",
      "1    330\n",
      "0    327\n",
      "Name: zika_bool, dtype: int64\n"
     ]
    }
   ],
   "source": [
    "print framework_b_max.shape, framework_b_max.isnull().sum().max()\n",
    "\n",
    "fwd_b_max = pd.merge(framework_b_max, \n",
    "                       features, \n",
    "                       on=['date','location'], how='left').dropna()\n",
    "\n",
    "print fwd_b_max.shape, fwd_b_max.isnull().sum().max()\n",
    "\n",
    "print fwd_b_max.zika_bool.value_counts()"
   ]
  },
  {
   "cell_type": "code",
   "execution_count": 32,
   "metadata": {
    "ExecuteTime": {
     "end_time": "2016-08-01T05:07:12.635141",
     "start_time": "2016-08-01T05:07:12.568442"
    },
    "collapsed": false
   },
   "outputs": [
    {
     "name": "stdout",
     "output_type": "stream",
     "text": [
      "(1605, 3) 0\n",
      "(1143, 27) 0\n",
      "1    949\n",
      "0    194\n",
      "Name: zika_bool, dtype: int64\n"
     ]
    }
   ],
   "source": [
    "print framework_a_first.shape, framework_a_first.isnull().sum().max()\n",
    "\n",
    "fwd_a_first = pd.merge(framework_a_first, \n",
    "                       features, \n",
    "                       on=['date','location'], how='left').dropna()\n",
    "\n",
    "print fwd_a_first.shape, fwd_a_first.isnull().sum().max()\n",
    "\n",
    "print fwd_a_first.zika_bool.value_counts()"
   ]
  },
  {
   "cell_type": "code",
   "execution_count": 33,
   "metadata": {
    "ExecuteTime": {
     "end_time": "2016-08-01T05:07:14.480160",
     "start_time": "2016-08-01T05:07:14.417279"
    },
    "collapsed": false
   },
   "outputs": [
    {
     "name": "stdout",
     "output_type": "stream",
     "text": [
      "(1605, 3) 0\n",
      "(1143, 27) 0\n",
      "1    949\n",
      "0    194\n",
      "Name: zika_bool, dtype: int64\n"
     ]
    }
   ],
   "source": [
    "print framework_a_max.shape, framework_a_max.isnull().sum().max()\n",
    "\n",
    "fwd_a_max = pd.merge(framework_a_max, \n",
    "                       features, \n",
    "                       on=['date','location'], how='left').dropna()\n",
    "\n",
    "print fwd_a_max.shape, fwd_a_max.isnull().sum().max()\n",
    "\n",
    "print fwd_a_max.zika_bool.value_counts()"
   ]
  },
  {
   "cell_type": "markdown",
   "metadata": {},
   "source": [
    "Split the data into train and test portions."
   ]
  },
  {
   "cell_type": "code",
   "execution_count": 47,
   "metadata": {
    "ExecuteTime": {
     "end_time": "2016-08-01T05:33:43.388960",
     "start_time": "2016-08-01T05:33:43.366164"
    },
    "collapsed": true
   },
   "outputs": [],
   "source": [
    "fbm_train, fbm_test = train_test_split(fwd_b_max,   test_size=0.30, random_state=42)\n",
    "fbf_train, fbf_test = train_test_split(fwd_b_first, test_size=0.30, random_state=42)\n",
    "fam_train, fam_test = train_test_split(fwd_a_max,   test_size=0.30, random_state=42)\n",
    "faf_train, faf_test = train_test_split(fwd_a_first, test_size=0.30, random_state=42)"
   ]
  },
  {
   "cell_type": "markdown",
   "metadata": {},
   "source": [
    "## Logistic regression"
   ]
  },
  {
   "cell_type": "code",
   "execution_count": 79,
   "metadata": {
    "ExecuteTime": {
     "end_time": "2016-08-01T08:47:44.496437",
     "start_time": "2016-08-01T08:47:15.712415"
    },
    "collapsed": false
   },
   "outputs": [],
   "source": [
    "logistic_list = list()\n",
    "\n",
    "for train,test,label in zip([fbm_train, fbf_train, fam_train, faf_train],\n",
    "                            [fbm_test,  fbf_test,  fam_test,  faf_test],\n",
    "                            ['Framework B, Max', 'Framework B, First',\n",
    "                             'Framework A, Max', 'Framework A, First']):\n",
    "    \n",
    "    Ytest = test['zika_bool']\n",
    "    \n",
    "    for penalty in ['l1','l2']:\n",
    "        if penalty=='l1':\n",
    "            LR = LogisticRegressionCV(Cs=10, penalty='l1', solver='liblinear')\n",
    "        else:\n",
    "            LR = LogisticRegressionCV(Cs=10, penalty='l2')\n",
    "\n",
    "        LR.fit(train[feat_cols], train['zika_bool'])\n",
    "        Ypred = LR.predict(test[feat_cols])\n",
    "        \n",
    "        cm = confusion_matrix(Ytest, Ypred)\n",
    "        f1 = f1_score(Ytest, Ypred)\n",
    "        accuracy = accuracy_score(Ytest, Ypred)\n",
    "        auc = roc_auc_score(Ytest, Ypred)\n",
    "        xdata, ydata, _ = roc_curve(Ytest, Ypred)\n",
    "        #xdata, ydata, _ = roc_curve(train['zika_bool'], LR.predict(train[feat_cols]))\n",
    "        \n",
    "        df = pd.Series({'data':label, 'penalty':penalty,\n",
    "                        'cm': cm, 'f1': f1, \n",
    "                        'accuracy':accuracy, 'auc':auc,\n",
    "                        'roc_x': xdata, 'roc_y': ydata, 'model':LR})\n",
    "        \n",
    "        logistic_list.append(df)\n",
    "\n"
   ]
  },
  {
   "cell_type": "code",
   "execution_count": 80,
   "metadata": {
    "ExecuteTime": {
     "end_time": "2016-08-01T08:47:44.544137",
     "start_time": "2016-08-01T08:47:44.498780"
    },
    "collapsed": false
   },
   "outputs": [
    {
     "data": {
      "text/html": [
       "<div>\n",
       "<table border=\"1\" class=\"dataframe\">\n",
       "  <thead>\n",
       "    <tr style=\"text-align: right;\">\n",
       "      <th></th>\n",
       "      <th></th>\n",
       "      <th>accuracy</th>\n",
       "      <th>f1</th>\n",
       "      <th>auc</th>\n",
       "      <th>cm</th>\n",
       "    </tr>\n",
       "    <tr>\n",
       "      <th>data</th>\n",
       "      <th>penalty</th>\n",
       "      <th></th>\n",
       "      <th></th>\n",
       "      <th></th>\n",
       "      <th></th>\n",
       "    </tr>\n",
       "  </thead>\n",
       "  <tbody>\n",
       "    <tr>\n",
       "      <th rowspan=\"2\" valign=\"top\">Framework B, Max</th>\n",
       "      <th>l1</th>\n",
       "      <td>0.878788</td>\n",
       "      <td>0.875</td>\n",
       "      <td>0.878676</td>\n",
       "      <td>[[90, 12], [12, 84]]</td>\n",
       "    </tr>\n",
       "    <tr>\n",
       "      <th>l2</th>\n",
       "      <td>0.838384</td>\n",
       "      <td>0.835052</td>\n",
       "      <td>0.838542</td>\n",
       "      <td>[[85, 17], [15, 81]]</td>\n",
       "    </tr>\n",
       "    <tr>\n",
       "      <th rowspan=\"2\" valign=\"top\">Framework B, First</th>\n",
       "      <th>l1</th>\n",
       "      <td>0.762626</td>\n",
       "      <td>0.763819</td>\n",
       "      <td>0.763669</td>\n",
       "      <td>[[75, 20], [27, 76]]</td>\n",
       "    </tr>\n",
       "    <tr>\n",
       "      <th>l2</th>\n",
       "      <td>0.80303</td>\n",
       "      <td>0.815166</td>\n",
       "      <td>0.801686</td>\n",
       "      <td>[[73, 22], [17, 86]]</td>\n",
       "    </tr>\n",
       "    <tr>\n",
       "      <th rowspan=\"2\" valign=\"top\">Framework A, Max</th>\n",
       "      <th>l1</th>\n",
       "      <td>0.862974</td>\n",
       "      <td>0.919932</td>\n",
       "      <td>0.686996</td>\n",
       "      <td>[[26, 38], [9, 270]]</td>\n",
       "    </tr>\n",
       "    <tr>\n",
       "      <th>l2</th>\n",
       "      <td>0.868805</td>\n",
       "      <td>0.923339</td>\n",
       "      <td>0.696601</td>\n",
       "      <td>[[27, 37], [8, 271]]</td>\n",
       "    </tr>\n",
       "    <tr>\n",
       "      <th rowspan=\"2\" valign=\"top\">Framework A, First</th>\n",
       "      <th>l1</th>\n",
       "      <td>0.862974</td>\n",
       "      <td>0.919932</td>\n",
       "      <td>0.686996</td>\n",
       "      <td>[[26, 38], [9, 270]]</td>\n",
       "    </tr>\n",
       "    <tr>\n",
       "      <th>l2</th>\n",
       "      <td>0.868805</td>\n",
       "      <td>0.923339</td>\n",
       "      <td>0.696601</td>\n",
       "      <td>[[27, 37], [8, 271]]</td>\n",
       "    </tr>\n",
       "  </tbody>\n",
       "</table>\n",
       "</div>"
      ],
      "text/plain": [
       "                            accuracy        f1       auc                    cm\n",
       "data               penalty                                                    \n",
       "Framework B, Max   l1       0.878788     0.875  0.878676  [[90, 12], [12, 84]]\n",
       "                   l2       0.838384  0.835052  0.838542  [[85, 17], [15, 81]]\n",
       "Framework B, First l1       0.762626  0.763819  0.763669  [[75, 20], [27, 76]]\n",
       "                   l2        0.80303  0.815166  0.801686  [[73, 22], [17, 86]]\n",
       "Framework A, Max   l1       0.862974  0.919932  0.686996  [[26, 38], [9, 270]]\n",
       "                   l2       0.868805  0.923339  0.696601  [[27, 37], [8, 271]]\n",
       "Framework A, First l1       0.862974  0.919932  0.686996  [[26, 38], [9, 270]]\n",
       "                   l2       0.868805  0.923339  0.696601  [[27, 37], [8, 271]]"
      ]
     },
     "execution_count": 80,
     "metadata": {},
     "output_type": "execute_result"
    }
   ],
   "source": [
    "logistic_results = (pd.concat(logistic_list, axis=1).T\n",
    "                    .set_index(['data','penalty']))\n",
    "logistic_results[['accuracy','f1','auc', 'cm']]"
   ]
  },
  {
   "cell_type": "code",
   "execution_count": 81,
   "metadata": {
    "ExecuteTime": {
     "end_time": "2016-08-01T08:47:45.051738",
     "start_time": "2016-08-01T08:47:44.547272"
    },
    "collapsed": false
   },
   "outputs": [
    {
     "data": {
      "image/png": "[encoded data removed]",
      "text/plain": [
       "<matplotlib.figure.Figure at 0x11ae533d0>"
      ]
     },
     "metadata": {},
     "output_type": "display_data"
    }
   ],
   "source": [
    "f = plt.figure()\n",
    "f.set_size_inches(7,5)\n",
    "ax = plt.axes()\n",
    "\n",
    "colors = sns.color_palette()\n",
    "\n",
    "for idx,dat in logistic_results.iterrows():\n",
    "    label = ' '.join(idx)\n",
    "    xdata = dat.roc_x\n",
    "    ydata = dat.roc_y\n",
    "    ax.plot(xdata, ydata, label=label)\n",
    "\n",
    "ax.legend(loc=0)\n",
    "\n",
    "_ = ax.set(xlabel='False Positive Rate', \n",
    "       ylabel='True Positive Rate',\n",
    "       title='ROC Curve')\n",
    "\n",
    "plt.tight_layout()"
   ]
  },
  {
   "cell_type": "markdown",
   "metadata": {},
   "source": [
    "## Random Forest Classifier"
   ]
  },
  {
   "cell_type": "code",
   "execution_count": 156,
   "metadata": {
    "ExecuteTime": {
     "end_time": "2016-08-01T14:31:29.204955",
     "start_time": "2016-08-01T14:31:22.408543"
    },
    "collapsed": false
   },
   "outputs": [
    {
     "name": "stderr",
     "output_type": "stream",
     "text": [
      "[Parallel(n_jobs=-1)]: Done  42 tasks      | elapsed:    0.0s\n",
      "[Parallel(n_jobs=-1)]: Done 192 tasks      | elapsed:    0.2s\n",
      "[Parallel(n_jobs=-1)]: Done 300 out of 300 | elapsed:    0.4s finished\n",
      "[Parallel(n_jobs=4)]: Done  42 tasks      | elapsed:    0.0s\n",
      "[Parallel(n_jobs=4)]: Done 192 tasks      | elapsed:    0.1s\n",
      "[Parallel(n_jobs=4)]: Done 300 out of 300 | elapsed:    0.1s finished\n",
      "[Parallel(n_jobs=-1)]: Done  42 tasks      | elapsed:    0.0s\n",
      "[Parallel(n_jobs=-1)]: Done 192 tasks      | elapsed:    0.2s\n",
      "[Parallel(n_jobs=-1)]: Done 300 out of 300 | elapsed:    0.3s finished\n",
      "[Parallel(n_jobs=4)]: Done  42 tasks      | elapsed:    0.0s\n",
      "[Parallel(n_jobs=4)]: Done 192 tasks      | elapsed:    0.1s\n",
      "[Parallel(n_jobs=4)]: Done 300 out of 300 | elapsed:    0.1s finished\n",
      "[Parallel(n_jobs=-1)]: Done  42 tasks      | elapsed:    0.1s\n",
      "[Parallel(n_jobs=-1)]: Done 192 tasks      | elapsed:    0.2s\n",
      "[Parallel(n_jobs=-1)]: Done 300 out of 300 | elapsed:    0.3s finished\n",
      "[Parallel(n_jobs=4)]: Done  42 tasks      | elapsed:    0.0s\n",
      "[Parallel(n_jobs=4)]: Done 192 tasks      | elapsed:    0.1s\n",
      "[Parallel(n_jobs=4)]: Done 300 out of 300 | elapsed:    0.1s finished\n",
      "[Parallel(n_jobs=-1)]: Done  42 tasks      | elapsed:    0.0s\n",
      "[Parallel(n_jobs=-1)]: Done 192 tasks      | elapsed:    0.2s\n",
      "[Parallel(n_jobs=-1)]: Done 300 out of 300 | elapsed:    0.3s finished\n",
      "[Parallel(n_jobs=4)]: Done  42 tasks      | elapsed:    0.0s\n",
      "[Parallel(n_jobs=4)]: Done 192 tasks      | elapsed:    0.1s\n",
      "[Parallel(n_jobs=4)]: Done 300 out of 300 | elapsed:    0.1s finished\n"
     ]
    }
   ],
   "source": [
    "random_forest_list = list()\n",
    "\n",
    "for train,test,label in zip([fbm_train, fbf_train, fam_train, faf_train],\n",
    "                            [fbm_test,  fbf_test,  fam_test,  faf_test],\n",
    "                            ['Framework B, Max', 'Framework B, First',\n",
    "                             'Framework A, Max', 'Framework A, First']):\n",
    "    \n",
    "    Ytest = test['zika_bool']\n",
    "    \n",
    "    RF = RandomForestClassifier(n_estimators=300, max_depth=8, n_jobs=-1, \n",
    "                                random_state=42, verbose=1, oob_score=True)\n",
    "\n",
    "    RF.fit(train[feat_cols], train['zika_bool'])\n",
    "    Ypred = RF.predict(test[feat_cols])\n",
    "\n",
    "    cm = confusion_matrix(Ytest, Ypred)\n",
    "    f1 = f1_score(Ytest, Ypred)\n",
    "    accuracy = accuracy_score(Ytest, Ypred)\n",
    "    auc = roc_auc_score(Ytest, Ypred)\n",
    "    xdata, ydata, _ = roc_curve(Ytest, Ypred)\n",
    "\n",
    "    df = pd.Series({'data':label,\n",
    "                    'cm': cm, 'f1': f1, \n",
    "                    'accuracy':accuracy, 'auc':auc,\n",
    "                    'roc_x': xdata, 'roc_y': ydata, 'model':RF})\n",
    "\n",
    "    random_forest_list.append(df)\n",
    "\n",
    "\n"
   ]
  },
  {
   "cell_type": "code",
   "execution_count": 157,
   "metadata": {
    "ExecuteTime": {
     "end_time": "2016-08-01T14:31:35.838790",
     "start_time": "2016-08-01T14:31:35.798689"
    },
    "collapsed": false
   },
   "outputs": [
    {
     "data": {
      "text/html": [
       "<div>\n",
       "<table border=\"1\" class=\"dataframe\">\n",
       "  <thead>\n",
       "    <tr style=\"text-align: right;\">\n",
       "      <th></th>\n",
       "      <th>accuracy</th>\n",
       "      <th>f1</th>\n",
       "      <th>auc</th>\n",
       "      <th>cm</th>\n",
       "    </tr>\n",
       "    <tr>\n",
       "      <th>data</th>\n",
       "      <th></th>\n",
       "      <th></th>\n",
       "      <th></th>\n",
       "      <th></th>\n",
       "    </tr>\n",
       "  </thead>\n",
       "  <tbody>\n",
       "    <tr>\n",
       "      <th>Framework B, Max</th>\n",
       "      <td>0.878788</td>\n",
       "      <td>0.878788</td>\n",
       "      <td>0.879596</td>\n",
       "      <td>[[87, 15], [9, 87]]</td>\n",
       "    </tr>\n",
       "    <tr>\n",
       "      <th>Framework B, First</th>\n",
       "      <td>0.90404</td>\n",
       "      <td>0.909953</td>\n",
       "      <td>0.902862</td>\n",
       "      <td>[[83, 12], [7, 96]]</td>\n",
       "    </tr>\n",
       "    <tr>\n",
       "      <th>Framework A, Max</th>\n",
       "      <td>0.886297</td>\n",
       "      <td>0.933333</td>\n",
       "      <td>0.731435</td>\n",
       "      <td>[[31, 33], [6, 273]]</td>\n",
       "    </tr>\n",
       "    <tr>\n",
       "      <th>Framework A, First</th>\n",
       "      <td>0.886297</td>\n",
       "      <td>0.933333</td>\n",
       "      <td>0.731435</td>\n",
       "      <td>[[31, 33], [6, 273]]</td>\n",
       "    </tr>\n",
       "  </tbody>\n",
       "</table>\n",
       "</div>"
      ],
      "text/plain": [
       "                    accuracy        f1       auc                    cm\n",
       "data                                                                  \n",
       "Framework B, Max    0.878788  0.878788  0.879596   [[87, 15], [9, 87]]\n",
       "Framework B, First   0.90404  0.909953  0.902862   [[83, 12], [7, 96]]\n",
       "Framework A, Max    0.886297  0.933333  0.731435  [[31, 33], [6, 273]]\n",
       "Framework A, First  0.886297  0.933333  0.731435  [[31, 33], [6, 273]]"
      ]
     },
     "execution_count": 157,
     "metadata": {},
     "output_type": "execute_result"
    }
   ],
   "source": [
    "random_forest_results = (pd.concat(random_forest_list, axis=1).T\n",
    "                         .set_index('data'))\n",
    "random_forest_results[['accuracy','f1','auc', 'cm']]"
   ]
  },
  {
   "cell_type": "code",
   "execution_count": 158,
   "metadata": {
    "ExecuteTime": {
     "end_time": "2016-08-01T14:32:05.630903",
     "start_time": "2016-08-01T14:32:05.253377"
    },
    "collapsed": false
   },
   "outputs": [
    {
     "data": {
      "image/png": "[encoded data removed]",
      "text/plain": [
       "<matplotlib.figure.Figure at 0x11abcefd0>"
      ]
     },
     "metadata": {},
     "output_type": "display_data"
    }
   ],
   "source": [
    "f = plt.figure()\n",
    "f.set_size_inches(7,5)\n",
    "ax = plt.axes()\n",
    "\n",
    "colors = sns.color_palette()\n",
    "\n",
    "for idx,dat in random_forest_results.iterrows():\n",
    "    label = idx\n",
    "    xdata = dat.roc_x\n",
    "    ydata = dat.roc_y\n",
    "    ax.plot(xdata, ydata, label=label)\n",
    "\n",
    "ax.legend(loc=0)\n",
    "\n",
    "_ = ax.set(xlabel='False Positive Rate', \n",
    "       ylabel='True Positive Rate',\n",
    "       title='ROC Curve')\n",
    "\n",
    "plt.tight_layout()"
   ]
  },
  {
   "cell_type": "markdown",
   "metadata": {},
   "source": [
    "## Linear SVM"
   ]
  },
  {
   "cell_type": "code",
   "execution_count": 94,
   "metadata": {
    "ExecuteTime": {
     "end_time": "2016-08-01T10:02:08.248391",
     "start_time": "2016-08-01T10:02:06.172927"
    },
    "collapsed": false
   },
   "outputs": [],
   "source": [
    "svm_list = list()\n",
    "\n",
    "for train,test,label in zip([fbm_train, fbf_train, fam_train, faf_train],\n",
    "                            [fbm_test,  fbf_test,  fam_test,  faf_test],\n",
    "                            ['Framework B, Max', 'Framework B, First',\n",
    "                             'Framework A, Max', 'Framework A, First']):\n",
    "    \n",
    "    for penalty in ['l1','l2']:\n",
    "        dual=True\n",
    "        if penalty == 'l1':\n",
    "            dual=False\n",
    "        \n",
    "        max_f1 = 0\n",
    "        for C in [1000, 100, 10, 1, 0.1, 0.01, 0.001]:\n",
    "    \n",
    "            Ytest = test['zika_bool']\n",
    "\n",
    "            SVM = LinearSVC(penalty=penalty, loss='squared_hinge', C=C, dual=dual)\n",
    "\n",
    "            SVM.fit(train[feat_cols], train['zika_bool'])\n",
    "            Ypred = SVM.predict(test[feat_cols])\n",
    "\n",
    "            cm = confusion_matrix(Ytest, Ypred)\n",
    "            f1 = f1_score(Ytest, Ypred)\n",
    "            accuracy = accuracy_score(Ytest, Ypred)\n",
    "            auc = roc_auc_score(Ytest, Ypred)\n",
    "            xdata, ydata, _ = roc_curve(Ytest, Ypred)\n",
    "            \n",
    "            if f1 > max_f1:\n",
    "                df = pd.Series({'data':label, 'penalty':penalty, 'C':C,\n",
    "                                'cm': cm, 'f1': f1, \n",
    "                                'accuracy':accuracy, 'auc':auc,\n",
    "                                'roc_x': xdata, 'roc_y': ydata, 'model':RF})\n",
    "\n",
    "        svm_list.append(df)"
   ]
  },
  {
   "cell_type": "code",
   "execution_count": 95,
   "metadata": {
    "ExecuteTime": {
     "end_time": "2016-08-01T10:02:11.844653",
     "start_time": "2016-08-01T10:02:11.773205"
    },
    "collapsed": false
   },
   "outputs": [
    {
     "data": {
      "text/html": [
       "<div>\n",
       "<table border=\"1\" class=\"dataframe\">\n",
       "  <thead>\n",
       "    <tr style=\"text-align: right;\">\n",
       "      <th></th>\n",
       "      <th></th>\n",
       "      <th></th>\n",
       "      <th>accuracy</th>\n",
       "      <th>f1</th>\n",
       "      <th>auc</th>\n",
       "      <th>cm</th>\n",
       "    </tr>\n",
       "    <tr>\n",
       "      <th>data</th>\n",
       "      <th>penalty</th>\n",
       "      <th>C</th>\n",
       "      <th></th>\n",
       "      <th></th>\n",
       "      <th></th>\n",
       "      <th></th>\n",
       "    </tr>\n",
       "  </thead>\n",
       "  <tbody>\n",
       "    <tr>\n",
       "      <th rowspan=\"2\" valign=\"top\">Framework B, Max</th>\n",
       "      <th>l1</th>\n",
       "      <th>0.100</th>\n",
       "      <td>0.484848</td>\n",
       "      <td>0.653061</td>\n",
       "      <td>0.5</td>\n",
       "      <td>[[0, 102], [0, 96]]</td>\n",
       "    </tr>\n",
       "    <tr>\n",
       "      <th>l2</th>\n",
       "      <th>0.001</th>\n",
       "      <td>0.484848</td>\n",
       "      <td>0.653061</td>\n",
       "      <td>0.5</td>\n",
       "      <td>[[0, 102], [0, 96]]</td>\n",
       "    </tr>\n",
       "    <tr>\n",
       "      <th rowspan=\"2\" valign=\"top\">Framework B, First</th>\n",
       "      <th>l1</th>\n",
       "      <th>1.000</th>\n",
       "      <td>0.691919</td>\n",
       "      <td>0.705314</td>\n",
       "      <td>0.691211</td>\n",
       "      <td>[[64, 31], [30, 73]]</td>\n",
       "    </tr>\n",
       "    <tr>\n",
       "      <th>l2</th>\n",
       "      <th>0.100</th>\n",
       "      <td>0.479798</td>\n",
       "      <td>0.466321</td>\n",
       "      <td>0.481604</td>\n",
       "      <td>[[50, 45], [58, 45]]</td>\n",
       "    </tr>\n",
       "    <tr>\n",
       "      <th rowspan=\"2\" valign=\"top\">Framework A, Max</th>\n",
       "      <th>l1</th>\n",
       "      <th>0.001</th>\n",
       "      <td>0.813411</td>\n",
       "      <td>0.897106</td>\n",
       "      <td>0.5</td>\n",
       "      <td>[[0, 64], [0, 279]]</td>\n",
       "    </tr>\n",
       "    <tr>\n",
       "      <th>l2</th>\n",
       "      <th>0.001</th>\n",
       "      <td>0.813411</td>\n",
       "      <td>0.897106</td>\n",
       "      <td>0.5</td>\n",
       "      <td>[[0, 64], [0, 279]]</td>\n",
       "    </tr>\n",
       "    <tr>\n",
       "      <th rowspan=\"2\" valign=\"top\">Framework A, First</th>\n",
       "      <th>l1</th>\n",
       "      <th>0.001</th>\n",
       "      <td>0.813411</td>\n",
       "      <td>0.897106</td>\n",
       "      <td>0.5</td>\n",
       "      <td>[[0, 64], [0, 279]]</td>\n",
       "    </tr>\n",
       "    <tr>\n",
       "      <th>l2</th>\n",
       "      <th>0.001</th>\n",
       "      <td>0.813411</td>\n",
       "      <td>0.897106</td>\n",
       "      <td>0.5</td>\n",
       "      <td>[[0, 64], [0, 279]]</td>\n",
       "    </tr>\n",
       "  </tbody>\n",
       "</table>\n",
       "</div>"
      ],
      "text/plain": [
       "                                  accuracy        f1       auc  \\\n",
       "data               penalty C                                     \n",
       "Framework B, Max   l1      0.100  0.484848  0.653061       0.5   \n",
       "                   l2      0.001  0.484848  0.653061       0.5   \n",
       "Framework B, First l1      1.000  0.691919  0.705314  0.691211   \n",
       "                   l2      0.100  0.479798  0.466321  0.481604   \n",
       "Framework A, Max   l1      0.001  0.813411  0.897106       0.5   \n",
       "                   l2      0.001  0.813411  0.897106       0.5   \n",
       "Framework A, First l1      0.001  0.813411  0.897106       0.5   \n",
       "                   l2      0.001  0.813411  0.897106       0.5   \n",
       "\n",
       "                                                    cm  \n",
       "data               penalty C                            \n",
       "Framework B, Max   l1      0.100   [[0, 102], [0, 96]]  \n",
       "                   l2      0.001   [[0, 102], [0, 96]]  \n",
       "Framework B, First l1      1.000  [[64, 31], [30, 73]]  \n",
       "                   l2      0.100  [[50, 45], [58, 45]]  \n",
       "Framework A, Max   l1      0.001   [[0, 64], [0, 279]]  \n",
       "                   l2      0.001   [[0, 64], [0, 279]]  \n",
       "Framework A, First l1      0.001   [[0, 64], [0, 279]]  \n",
       "                   l2      0.001   [[0, 64], [0, 279]]  "
      ]
     },
     "execution_count": 95,
     "metadata": {},
     "output_type": "execute_result"
    }
   ],
   "source": [
    "svm_results = (pd.concat(svm_list, axis=1).T\n",
    "                         .set_index(['data','penalty','C']))\n",
    "svm_results[['accuracy','f1','auc', 'cm']]"
   ]
  },
  {
   "cell_type": "markdown",
   "metadata": {},
   "source": [
    "## SVM with RBF"
   ]
  },
  {
   "cell_type": "code",
   "execution_count": 111,
   "metadata": {
    "ExecuteTime": {
     "end_time": "2016-08-01T13:12:41.028794",
     "start_time": "2016-08-01T12:50:27.142769"
    },
    "collapsed": false,
    "scrolled": true
   },
   "outputs": [
    {
     "name": "stdout",
     "output_type": "stream",
     "text": [
      "('Framework B, Max', {'C': 1000000.0, 'gamma': 0.10000000000000001}, 0.81045751633986929)\n",
      "('Framework B, First', {'C': 10000000.0, 'gamma': 1.0}, 0.80869565217391304)\n"
     ]
    },
    {
     "ename": "KeyboardInterrupt",
     "evalue": "",
     "output_type": "error",
     "traceback": [
      "\u001b[0;31m---------------------------------------------------------------------------\u001b[0m",
      "\u001b[0;31mKeyboardInterrupt\u001b[0m                         Traceback (most recent call last)",
      "\u001b[0;32m<ipython-input-111-cc0a6670aade>\u001b[0m in \u001b[0;36m<module>\u001b[0;34m()\u001b[0m\n\u001b[1;32m     12\u001b[0m     \u001b[0;31m#cv = StratifiedShuffleSplit(train[feat_cols], n_iter=3, test_size=0.3, random_state=42)\u001b[0m\u001b[0;34m\u001b[0m\u001b[0;34m\u001b[0m\u001b[0m\n\u001b[1;32m     13\u001b[0m     \u001b[0mgrid\u001b[0m \u001b[0;34m=\u001b[0m \u001b[0mGridSearchCV\u001b[0m\u001b[0;34m(\u001b[0m\u001b[0mSVC\u001b[0m\u001b[0;34m(\u001b[0m\u001b[0;34m)\u001b[0m\u001b[0;34m,\u001b[0m \u001b[0mparam_grid\u001b[0m\u001b[0;34m=\u001b[0m\u001b[0mparam_grid\u001b[0m\u001b[0;34m)\u001b[0m\u001b[0;34m\u001b[0m\u001b[0m\n\u001b[0;32m---> 14\u001b[0;31m     \u001b[0mgrid\u001b[0m\u001b[0;34m.\u001b[0m\u001b[0mfit\u001b[0m\u001b[0;34m(\u001b[0m\u001b[0mtrain\u001b[0m\u001b[0;34m[\u001b[0m\u001b[0mfeat_cols\u001b[0m\u001b[0;34m]\u001b[0m\u001b[0;34m,\u001b[0m \u001b[0mtrain\u001b[0m\u001b[0;34m[\u001b[0m\u001b[0;34m'zika_bool'\u001b[0m\u001b[0;34m]\u001b[0m\u001b[0;34m)\u001b[0m\u001b[0;34m\u001b[0m\u001b[0m\n\u001b[0m\u001b[1;32m     15\u001b[0m \u001b[0;34m\u001b[0m\u001b[0m\n\u001b[1;32m     16\u001b[0m     \u001b[0;32mprint\u001b[0m\u001b[0;34m(\u001b[0m\u001b[0mlabel\u001b[0m\u001b[0;34m,\u001b[0m \u001b[0mgrid\u001b[0m\u001b[0;34m.\u001b[0m\u001b[0mbest_params_\u001b[0m\u001b[0;34m,\u001b[0m \u001b[0mgrid\u001b[0m\u001b[0;34m.\u001b[0m\u001b[0mbest_score_\u001b[0m\u001b[0;34m)\u001b[0m\u001b[0;34m\u001b[0m\u001b[0m\n",
      "\u001b[0;32m/Volumes/Files/miniconda/envs/scienv2/lib/python2.7/site-packages/sklearn/grid_search.pyc\u001b[0m in \u001b[0;36mfit\u001b[0;34m(self, X, y)\u001b[0m\n\u001b[1;32m    802\u001b[0m \u001b[0;34m\u001b[0m\u001b[0m\n\u001b[1;32m    803\u001b[0m         \"\"\"\n\u001b[0;32m--> 804\u001b[0;31m         \u001b[0;32mreturn\u001b[0m \u001b[0mself\u001b[0m\u001b[0;34m.\u001b[0m\u001b[0m_fit\u001b[0m\u001b[0;34m(\u001b[0m\u001b[0mX\u001b[0m\u001b[0;34m,\u001b[0m \u001b[0my\u001b[0m\u001b[0;34m,\u001b[0m \u001b[0mParameterGrid\u001b[0m\u001b[0;34m(\u001b[0m\u001b[0mself\u001b[0m\u001b[0;34m.\u001b[0m\u001b[0mparam_grid\u001b[0m\u001b[0;34m)\u001b[0m\u001b[0;34m)\u001b[0m\u001b[0;34m\u001b[0m\u001b[0m\n\u001b[0m\u001b[1;32m    805\u001b[0m \u001b[0;34m\u001b[0m\u001b[0m\n\u001b[1;32m    806\u001b[0m \u001b[0;34m\u001b[0m\u001b[0m\n",
      "\u001b[0;32m/Volumes/Files/miniconda/envs/scienv2/lib/python2.7/site-packages/sklearn/grid_search.pyc\u001b[0m in \u001b[0;36m_fit\u001b[0;34m(self, X, y, parameter_iterable)\u001b[0m\n\u001b[1;32m    551\u001b[0m                                     \u001b[0mself\u001b[0m\u001b[0;34m.\u001b[0m\u001b[0mfit_params\u001b[0m\u001b[0;34m,\u001b[0m \u001b[0mreturn_parameters\u001b[0m\u001b[0;34m=\u001b[0m\u001b[0mTrue\u001b[0m\u001b[0;34m,\u001b[0m\u001b[0;34m\u001b[0m\u001b[0m\n\u001b[1;32m    552\u001b[0m                                     error_score=self.error_score)\n\u001b[0;32m--> 553\u001b[0;31m                 \u001b[0;32mfor\u001b[0m \u001b[0mparameters\u001b[0m \u001b[0;32min\u001b[0m \u001b[0mparameter_iterable\u001b[0m\u001b[0;34m\u001b[0m\u001b[0m\n\u001b[0m\u001b[1;32m    554\u001b[0m                 for train, test in cv)\n\u001b[1;32m    555\u001b[0m \u001b[0;34m\u001b[0m\u001b[0m\n",
      "\u001b[0;32m/Volumes/Files/miniconda/envs/scienv2/lib/python2.7/site-packages/sklearn/externals/joblib/parallel.pyc\u001b[0m in \u001b[0;36m__call__\u001b[0;34m(self, iterable)\u001b[0m\n\u001b[1;32m    798\u001b[0m             \u001b[0;31m# was dispatched. In particular this covers the edge\u001b[0m\u001b[0;34m\u001b[0m\u001b[0;34m\u001b[0m\u001b[0m\n\u001b[1;32m    799\u001b[0m             \u001b[0;31m# case of Parallel used with an exhausted iterator.\u001b[0m\u001b[0;34m\u001b[0m\u001b[0;34m\u001b[0m\u001b[0m\n\u001b[0;32m--> 800\u001b[0;31m             \u001b[0;32mwhile\u001b[0m \u001b[0mself\u001b[0m\u001b[0;34m.\u001b[0m\u001b[0mdispatch_one_batch\u001b[0m\u001b[0;34m(\u001b[0m\u001b[0miterator\u001b[0m\u001b[0;34m)\u001b[0m\u001b[0;34m:\u001b[0m\u001b[0;34m\u001b[0m\u001b[0m\n\u001b[0m\u001b[1;32m    801\u001b[0m                 \u001b[0mself\u001b[0m\u001b[0;34m.\u001b[0m\u001b[0m_iterating\u001b[0m \u001b[0;34m=\u001b[0m \u001b[0mTrue\u001b[0m\u001b[0;34m\u001b[0m\u001b[0m\n\u001b[1;32m    802\u001b[0m             \u001b[0;32melse\u001b[0m\u001b[0;34m:\u001b[0m\u001b[0;34m\u001b[0m\u001b[0m\n",
      "\u001b[0;32m/Volumes/Files/miniconda/envs/scienv2/lib/python2.7/site-packages/sklearn/externals/joblib/parallel.pyc\u001b[0m in \u001b[0;36mdispatch_one_batch\u001b[0;34m(self, iterator)\u001b[0m\n\u001b[1;32m    656\u001b[0m                 \u001b[0;32mreturn\u001b[0m \u001b[0mFalse\u001b[0m\u001b[0;34m\u001b[0m\u001b[0m\n\u001b[1;32m    657\u001b[0m             \u001b[0;32melse\u001b[0m\u001b[0;34m:\u001b[0m\u001b[0;34m\u001b[0m\u001b[0m\n\u001b[0;32m--> 658\u001b[0;31m                 \u001b[0mself\u001b[0m\u001b[0;34m.\u001b[0m\u001b[0m_dispatch\u001b[0m\u001b[0;34m(\u001b[0m\u001b[0mtasks\u001b[0m\u001b[0;34m)\u001b[0m\u001b[0;34m\u001b[0m\u001b[0m\n\u001b[0m\u001b[1;32m    659\u001b[0m                 \u001b[0;32mreturn\u001b[0m \u001b[0mTrue\u001b[0m\u001b[0;34m\u001b[0m\u001b[0m\n\u001b[1;32m    660\u001b[0m \u001b[0;34m\u001b[0m\u001b[0m\n",
      "\u001b[0;32m/Volumes/Files/miniconda/envs/scienv2/lib/python2.7/site-packages/sklearn/externals/joblib/parallel.pyc\u001b[0m in \u001b[0;36m_dispatch\u001b[0;34m(self, batch)\u001b[0m\n\u001b[1;32m    564\u001b[0m \u001b[0;34m\u001b[0m\u001b[0m\n\u001b[1;32m    565\u001b[0m         \u001b[0;32mif\u001b[0m \u001b[0mself\u001b[0m\u001b[0;34m.\u001b[0m\u001b[0m_pool\u001b[0m \u001b[0;32mis\u001b[0m \u001b[0mNone\u001b[0m\u001b[0;34m:\u001b[0m\u001b[0;34m\u001b[0m\u001b[0m\n\u001b[0;32m--> 566\u001b[0;31m             \u001b[0mjob\u001b[0m \u001b[0;34m=\u001b[0m \u001b[0mImmediateComputeBatch\u001b[0m\u001b[0;34m(\u001b[0m\u001b[0mbatch\u001b[0m\u001b[0;34m)\u001b[0m\u001b[0;34m\u001b[0m\u001b[0m\n\u001b[0m\u001b[1;32m    567\u001b[0m             \u001b[0mself\u001b[0m\u001b[0;34m.\u001b[0m\u001b[0m_jobs\u001b[0m\u001b[0;34m.\u001b[0m\u001b[0mappend\u001b[0m\u001b[0;34m(\u001b[0m\u001b[0mjob\u001b[0m\u001b[0;34m)\u001b[0m\u001b[0;34m\u001b[0m\u001b[0m\n\u001b[1;32m    568\u001b[0m             \u001b[0mself\u001b[0m\u001b[0;34m.\u001b[0m\u001b[0mn_dispatched_batches\u001b[0m \u001b[0;34m+=\u001b[0m \u001b[0;36m1\u001b[0m\u001b[0;34m\u001b[0m\u001b[0m\n",
      "\u001b[0;32m/Volumes/Files/miniconda/envs/scienv2/lib/python2.7/site-packages/sklearn/externals/joblib/parallel.pyc\u001b[0m in \u001b[0;36m__init__\u001b[0;34m(self, batch)\u001b[0m\n\u001b[1;32m    178\u001b[0m         \u001b[0;31m# Don't delay the application, to avoid keeping the input\u001b[0m\u001b[0;34m\u001b[0m\u001b[0;34m\u001b[0m\u001b[0m\n\u001b[1;32m    179\u001b[0m         \u001b[0;31m# arguments in memory\u001b[0m\u001b[0;34m\u001b[0m\u001b[0;34m\u001b[0m\u001b[0m\n\u001b[0;32m--> 180\u001b[0;31m         \u001b[0mself\u001b[0m\u001b[0;34m.\u001b[0m\u001b[0mresults\u001b[0m \u001b[0;34m=\u001b[0m \u001b[0mbatch\u001b[0m\u001b[0;34m(\u001b[0m\u001b[0;34m)\u001b[0m\u001b[0;34m\u001b[0m\u001b[0m\n\u001b[0m\u001b[1;32m    181\u001b[0m \u001b[0;34m\u001b[0m\u001b[0m\n\u001b[1;32m    182\u001b[0m     \u001b[0;32mdef\u001b[0m \u001b[0mget\u001b[0m\u001b[0;34m(\u001b[0m\u001b[0mself\u001b[0m\u001b[0;34m)\u001b[0m\u001b[0;34m:\u001b[0m\u001b[0;34m\u001b[0m\u001b[0m\n",
      "\u001b[0;32m/Volumes/Files/miniconda/envs/scienv2/lib/python2.7/site-packages/sklearn/externals/joblib/parallel.pyc\u001b[0m in \u001b[0;36m__call__\u001b[0;34m(self)\u001b[0m\n\u001b[1;32m     70\u001b[0m \u001b[0;34m\u001b[0m\u001b[0m\n\u001b[1;32m     71\u001b[0m     \u001b[0;32mdef\u001b[0m \u001b[0m__call__\u001b[0m\u001b[0;34m(\u001b[0m\u001b[0mself\u001b[0m\u001b[0;34m)\u001b[0m\u001b[0;34m:\u001b[0m\u001b[0;34m\u001b[0m\u001b[0m\n\u001b[0;32m---> 72\u001b[0;31m         \u001b[0;32mreturn\u001b[0m \u001b[0;34m[\u001b[0m\u001b[0mfunc\u001b[0m\u001b[0;34m(\u001b[0m\u001b[0;34m*\u001b[0m\u001b[0margs\u001b[0m\u001b[0;34m,\u001b[0m \u001b[0;34m**\u001b[0m\u001b[0mkwargs\u001b[0m\u001b[0;34m)\u001b[0m \u001b[0;32mfor\u001b[0m \u001b[0mfunc\u001b[0m\u001b[0;34m,\u001b[0m \u001b[0margs\u001b[0m\u001b[0;34m,\u001b[0m \u001b[0mkwargs\u001b[0m \u001b[0;32min\u001b[0m \u001b[0mself\u001b[0m\u001b[0;34m.\u001b[0m\u001b[0mitems\u001b[0m\u001b[0;34m]\u001b[0m\u001b[0;34m\u001b[0m\u001b[0m\n\u001b[0m\u001b[1;32m     73\u001b[0m \u001b[0;34m\u001b[0m\u001b[0m\n\u001b[1;32m     74\u001b[0m     \u001b[0;32mdef\u001b[0m \u001b[0m__len__\u001b[0m\u001b[0;34m(\u001b[0m\u001b[0mself\u001b[0m\u001b[0;34m)\u001b[0m\u001b[0;34m:\u001b[0m\u001b[0;34m\u001b[0m\u001b[0m\n",
      "\u001b[0;32m/Volumes/Files/miniconda/envs/scienv2/lib/python2.7/site-packages/sklearn/cross_validation.pyc\u001b[0m in \u001b[0;36m_fit_and_score\u001b[0;34m(estimator, X, y, scorer, train, test, verbose, parameters, fit_params, return_train_score, return_parameters, error_score)\u001b[0m\n\u001b[1;32m   1529\u001b[0m             \u001b[0mestimator\u001b[0m\u001b[0;34m.\u001b[0m\u001b[0mfit\u001b[0m\u001b[0;34m(\u001b[0m\u001b[0mX_train\u001b[0m\u001b[0;34m,\u001b[0m \u001b[0;34m**\u001b[0m\u001b[0mfit_params\u001b[0m\u001b[0;34m)\u001b[0m\u001b[0;34m\u001b[0m\u001b[0m\n\u001b[1;32m   1530\u001b[0m         \u001b[0;32melse\u001b[0m\u001b[0;34m:\u001b[0m\u001b[0;34m\u001b[0m\u001b[0m\n\u001b[0;32m-> 1531\u001b[0;31m             \u001b[0mestimator\u001b[0m\u001b[0;34m.\u001b[0m\u001b[0mfit\u001b[0m\u001b[0;34m(\u001b[0m\u001b[0mX_train\u001b[0m\u001b[0;34m,\u001b[0m \u001b[0my_train\u001b[0m\u001b[0;34m,\u001b[0m \u001b[0;34m**\u001b[0m\u001b[0mfit_params\u001b[0m\u001b[0;34m)\u001b[0m\u001b[0;34m\u001b[0m\u001b[0m\n\u001b[0m\u001b[1;32m   1532\u001b[0m \u001b[0;34m\u001b[0m\u001b[0m\n\u001b[1;32m   1533\u001b[0m     \u001b[0;32mexcept\u001b[0m \u001b[0mException\u001b[0m \u001b[0;32mas\u001b[0m \u001b[0me\u001b[0m\u001b[0;34m:\u001b[0m\u001b[0;34m\u001b[0m\u001b[0m\n",
      "\u001b[0;32m/Volumes/Files/miniconda/envs/scienv2/lib/python2.7/site-packages/sklearn/svm/base.pyc\u001b[0m in \u001b[0;36mfit\u001b[0;34m(self, X, y, sample_weight)\u001b[0m\n\u001b[1;32m    191\u001b[0m \u001b[0;34m\u001b[0m\u001b[0m\n\u001b[1;32m    192\u001b[0m         \u001b[0mseed\u001b[0m \u001b[0;34m=\u001b[0m \u001b[0mrnd\u001b[0m\u001b[0;34m.\u001b[0m\u001b[0mrandint\u001b[0m\u001b[0;34m(\u001b[0m\u001b[0mnp\u001b[0m\u001b[0;34m.\u001b[0m\u001b[0miinfo\u001b[0m\u001b[0;34m(\u001b[0m\u001b[0;34m'i'\u001b[0m\u001b[0;34m)\u001b[0m\u001b[0;34m.\u001b[0m\u001b[0mmax\u001b[0m\u001b[0;34m)\u001b[0m\u001b[0;34m\u001b[0m\u001b[0m\n\u001b[0;32m--> 193\u001b[0;31m         \u001b[0mfit\u001b[0m\u001b[0;34m(\u001b[0m\u001b[0mX\u001b[0m\u001b[0;34m,\u001b[0m \u001b[0my\u001b[0m\u001b[0;34m,\u001b[0m \u001b[0msample_weight\u001b[0m\u001b[0;34m,\u001b[0m \u001b[0msolver_type\u001b[0m\u001b[0;34m,\u001b[0m \u001b[0mkernel\u001b[0m\u001b[0;34m,\u001b[0m \u001b[0mrandom_seed\u001b[0m\u001b[0;34m=\u001b[0m\u001b[0mseed\u001b[0m\u001b[0;34m)\u001b[0m\u001b[0;34m\u001b[0m\u001b[0m\n\u001b[0m\u001b[1;32m    194\u001b[0m         \u001b[0;31m# see comment on the other call to np.iinfo in this file\u001b[0m\u001b[0;34m\u001b[0m\u001b[0;34m\u001b[0m\u001b[0m\n\u001b[1;32m    195\u001b[0m \u001b[0;34m\u001b[0m\u001b[0m\n",
      "\u001b[0;32m/Volumes/Files/miniconda/envs/scienv2/lib/python2.7/site-packages/sklearn/svm/base.pyc\u001b[0m in \u001b[0;36m_dense_fit\u001b[0;34m(self, X, y, sample_weight, solver_type, kernel, random_seed)\u001b[0m\n\u001b[1;32m    249\u001b[0m                 \u001b[0mcache_size\u001b[0m\u001b[0;34m=\u001b[0m\u001b[0mself\u001b[0m\u001b[0;34m.\u001b[0m\u001b[0mcache_size\u001b[0m\u001b[0;34m,\u001b[0m \u001b[0mcoef0\u001b[0m\u001b[0;34m=\u001b[0m\u001b[0mself\u001b[0m\u001b[0;34m.\u001b[0m\u001b[0mcoef0\u001b[0m\u001b[0;34m,\u001b[0m\u001b[0;34m\u001b[0m\u001b[0m\n\u001b[1;32m    250\u001b[0m                 \u001b[0mgamma\u001b[0m\u001b[0;34m=\u001b[0m\u001b[0mself\u001b[0m\u001b[0;34m.\u001b[0m\u001b[0m_gamma\u001b[0m\u001b[0;34m,\u001b[0m \u001b[0mepsilon\u001b[0m\u001b[0;34m=\u001b[0m\u001b[0mself\u001b[0m\u001b[0;34m.\u001b[0m\u001b[0mepsilon\u001b[0m\u001b[0;34m,\u001b[0m\u001b[0;34m\u001b[0m\u001b[0m\n\u001b[0;32m--> 251\u001b[0;31m                 max_iter=self.max_iter, random_seed=random_seed)\n\u001b[0m\u001b[1;32m    252\u001b[0m \u001b[0;34m\u001b[0m\u001b[0m\n\u001b[1;32m    253\u001b[0m         \u001b[0mself\u001b[0m\u001b[0;34m.\u001b[0m\u001b[0m_warn_from_fit_status\u001b[0m\u001b[0;34m(\u001b[0m\u001b[0;34m)\u001b[0m\u001b[0;34m\u001b[0m\u001b[0m\n",
      "\u001b[0;31mKeyboardInterrupt\u001b[0m: "
     ]
    }
   ],
   "source": [
    "C_range = np.logspace(-2, 10, 13)\n",
    "gamma_range = np.logspace(-9, 3, 13)\n",
    "param_grid = dict(gamma=gamma_range, C=C_range)\n",
    "\n",
    "for train,test,label in zip([fbm_train, fbf_train, fam_train, faf_train],\n",
    "                            [fbm_test,  fbf_test,  fam_test,  faf_test],\n",
    "                            ['Framework B, Max', 'Framework B, First',\n",
    "                             'Framework A, Max', 'Framework A, First']):\n",
    "    \n",
    "    #cv = StratifiedShuffleSplit(train[feat_cols], n_iter=3, test_size=0.3, random_state=42)\n",
    "    grid = GridSearchCV(SVC(), param_grid=param_grid)\n",
    "    grid.fit(train[feat_cols], train['zika_bool'])\n",
    "    \n",
    "    print(label, grid.best_params_, grid.best_score_)"
   ]
  },
  {
   "cell_type": "code",
   "execution_count": 114,
   "metadata": {
    "ExecuteTime": {
     "end_time": "2016-08-01T13:44:16.449811",
     "start_time": "2016-08-01T13:41:12.863153"
    },
    "collapsed": true
   },
   "outputs": [],
   "source": [
    "\n",
    "svm_rbc_list = list()\n",
    "for train,test,label in zip([fbm_train, fbf_train],\n",
    "                            [fbm_test,  fbf_test],\n",
    "                            ['Framework B, Max', 'Framework B, First']):\n",
    "    \n",
    "    if label == 'Framework B, Max':\n",
    "        C_2d_range = [500000, 1000000, 5000000]\n",
    "        gamma_2d_range = [0.05,  0.1,  0.5]\n",
    "    else:\n",
    "        C_2d_range = [5000000, 10000000, 50000000]\n",
    "        gamma_2d_range = [0.5, 1.0, 5.0]\n",
    "        \n",
    "    for C in C_2d_range:\n",
    "        for gamma in gamma_2d_range:\n",
    "            clf = SVC(C=C, gamma=gamma)\n",
    "            clf.fit(train[feat_cols], train['zika_bool'])\n",
    "\n",
    "            Ypred = clf.predict(test[feat_cols])\n",
    "            Ytest = test['zika_bool']\n",
    "\n",
    "            cm = confusion_matrix(Ytest, Ypred)\n",
    "            f1 = f1_score(Ytest, Ypred)\n",
    "            accuracy = accuracy_score(Ytest, Ypred)\n",
    "            auc = roc_auc_score(Ytest, Ypred)\n",
    "            xdata, ydata, _ = roc_curve(Ytest, Ypred)\n",
    "            \n",
    "            if f1 > max_f1:\n",
    "                df = pd.Series({'data':label, 'C':C, 'gamma':gamma,\n",
    "                                'cm': cm, 'f1': f1, \n",
    "                                'accuracy':accuracy, 'auc':auc,\n",
    "                                'roc_x': xdata, 'roc_y': ydata, 'model':clf})\n",
    "                \n",
    "            svm_rbc_list.append(df)\n"
   ]
  },
  {
   "cell_type": "code",
   "execution_count": 134,
   "metadata": {
    "ExecuteTime": {
     "end_time": "2016-08-01T13:55:40.531818",
     "start_time": "2016-08-01T13:55:40.477960"
    },
    "collapsed": false
   },
   "outputs": [
    {
     "data": {
      "text/html": [
       "<div>\n",
       "<table border=\"1\" class=\"dataframe\">\n",
       "  <thead>\n",
       "    <tr style=\"text-align: right;\">\n",
       "      <th></th>\n",
       "      <th></th>\n",
       "      <th></th>\n",
       "      <th></th>\n",
       "      <th>accuracy</th>\n",
       "      <th>f1</th>\n",
       "      <th>auc</th>\n",
       "      <th>cm</th>\n",
       "    </tr>\n",
       "    <tr>\n",
       "      <th></th>\n",
       "      <th>data</th>\n",
       "      <th>C</th>\n",
       "      <th>gamma</th>\n",
       "      <th></th>\n",
       "      <th></th>\n",
       "      <th></th>\n",
       "      <th></th>\n",
       "    </tr>\n",
       "  </thead>\n",
       "  <tbody>\n",
       "    <tr>\n",
       "      <th>0</th>\n",
       "      <th>Framework B, First</th>\n",
       "      <th>5000000</th>\n",
       "      <th>5.0</th>\n",
       "      <td>0.838384</td>\n",
       "      <td>0.836735</td>\n",
       "      <td>0.840164</td>\n",
       "      <td>[[84, 11], [21, 82]]</td>\n",
       "    </tr>\n",
       "    <tr>\n",
       "      <th>1</th>\n",
       "      <th>Framework B, Max</th>\n",
       "      <th>5000000</th>\n",
       "      <th>0.1</th>\n",
       "      <td>0.858586</td>\n",
       "      <td>0.852632</td>\n",
       "      <td>0.85815</td>\n",
       "      <td>[[89, 13], [15, 81]]</td>\n",
       "    </tr>\n",
       "  </tbody>\n",
       "</table>\n",
       "</div>"
      ],
      "text/plain": [
       "                                    accuracy        f1       auc  \\\n",
       "  data               C       gamma                                 \n",
       "0 Framework B, First 5000000 5.0    0.838384  0.836735  0.840164   \n",
       "1 Framework B, Max   5000000 0.1    0.858586  0.852632   0.85815   \n",
       "\n",
       "                                                      cm  \n",
       "  data               C       gamma                        \n",
       "0 Framework B, First 5000000 5.0    [[84, 11], [21, 82]]  \n",
       "1 Framework B, Max   5000000 0.1    [[89, 13], [15, 81]]  "
      ]
     },
     "execution_count": 134,
     "metadata": {},
     "output_type": "execute_result"
    }
   ],
   "source": [
    "svm_rbc_results = pd.concat(svm_rbc_list, axis=1).T.set_index(['data','C','gamma'])\n",
    "svm_rbc_results[['accuracy','f1','auc','cm']].groupby(level=0,as_index=False).apply(lambda x: x[x.f1==x.f1.max()])"
   ]
  },
  {
   "cell_type": "code",
   "execution_count": 133,
   "metadata": {
    "ExecuteTime": {
     "end_time": "2016-08-01T13:55:15.318017",
     "start_time": "2016-08-01T13:55:14.927044"
    },
    "collapsed": false
   },
   "outputs": [
    {
     "data": {
      "image/png": "[encoded data removed]",
      "text/plain": [
       "<matplotlib.figure.Figure at 0x11ae53dd0>"
      ]
     },
     "metadata": {},
     "output_type": "display_data"
    }
   ],
   "source": [
    "f = plt.figure()\n",
    "f.set_size_inches(7,5)\n",
    "ax = plt.axes()\n",
    "\n",
    "colors = sns.color_palette()\n",
    "\n",
    "for idx,dat in svm_rbc_results.groupby(level=0,as_index=False).apply(lambda x: x[x.f1==x.f1.max()]).iterrows():\n",
    "    label = ' '.join([str(x) for x in idx])\n",
    "    xdata = dat.roc_x\n",
    "    ydata = dat.roc_y\n",
    "    ax.plot(xdata, ydata, label=label)\n",
    "\n",
    "ax.legend(loc=0)\n",
    "\n",
    "_ = ax.set(xlabel='False Positive Rate', \n",
    "       ylabel='True Positive Rate',\n",
    "       title='ROC Curve')\n",
    "\n",
    "plt.tight_layout()"
   ]
  },
  {
   "cell_type": "markdown",
   "metadata": {},
   "source": [
    "## AdaBoost classification"
   ]
  },
  {
   "cell_type": "code",
   "execution_count": 150,
   "metadata": {
    "ExecuteTime": {
     "end_time": "2016-08-01T14:28:33.365724",
     "start_time": "2016-08-01T14:28:20.580656"
    },
    "collapsed": false
   },
   "outputs": [],
   "source": [
    "ada_list = list()\n",
    "\n",
    "for train,test,label in zip([fbm_train, fbf_train, fam_train, faf_train],\n",
    "                            [fbm_test,  fbf_test,  fam_test,  faf_test],\n",
    "                            ['Framework B, Max', 'Framework B, First',\n",
    "                             'Framework A, Max', 'Framework A, First']):\n",
    "\n",
    "    # TODO check if this is the criterion I want\n",
    "    tree = DecisionTreeClassifier(criterion='entropy', max_depth=1)\n",
    "    \n",
    "    ada = AdaBoostClassifier(base_estimator=tree, n_estimators=500,\n",
    "                            learning_rate=0.1, random_state=0)\n",
    "\n",
    "    tree = tree.fit(train[feat_cols], train['zika_bool'])\n",
    "    ada = ada.fit(train[feat_cols], train['zika_bool'])\n",
    "\n",
    "    Ypred = ada.predict(test[feat_cols])\n",
    "    Ytest = test['zika_bool']\n",
    "    \n",
    "    cm = confusion_matrix(Ytest, Ypred)\n",
    "    f1 = f1_score(Ytest, Ypred)\n",
    "    accuracy = accuracy_score(Ytest, Ypred)\n",
    "    auc = roc_auc_score(Ytest, Ypred)\n",
    "    xdata, ydata, _ = roc_curve(Ytest, Ypred)\n",
    "    \n",
    "    df = pd.Series({'data':label, \n",
    "    'cm': cm, 'f1': f1, \n",
    "    'accuracy':accuracy, 'auc':auc,\n",
    "    'roc_x': xdata, 'roc_y': ydata, 'model':ada})\n",
    "    \n",
    "    ada_list.append(df)"
   ]
  },
  {
   "cell_type": "code",
   "execution_count": 151,
   "metadata": {
    "ExecuteTime": {
     "end_time": "2016-08-01T14:28:52.664022",
     "start_time": "2016-08-01T14:28:52.625820"
    },
    "collapsed": false
   },
   "outputs": [
    {
     "data": {
      "text/html": [
       "<div>\n",
       "<table border=\"1\" class=\"dataframe\">\n",
       "  <thead>\n",
       "    <tr style=\"text-align: right;\">\n",
       "      <th></th>\n",
       "      <th>accuracy</th>\n",
       "      <th>auc</th>\n",
       "      <th>f1</th>\n",
       "      <th>cm</th>\n",
       "    </tr>\n",
       "    <tr>\n",
       "      <th>data</th>\n",
       "      <th></th>\n",
       "      <th></th>\n",
       "      <th></th>\n",
       "      <th></th>\n",
       "    </tr>\n",
       "  </thead>\n",
       "  <tbody>\n",
       "    <tr>\n",
       "      <th>Framework B, Max</th>\n",
       "      <td>0.858586</td>\n",
       "      <td>0.858762</td>\n",
       "      <td>0.85567</td>\n",
       "      <td>[[87, 15], [13, 83]]</td>\n",
       "    </tr>\n",
       "    <tr>\n",
       "      <th>Framework B, First</th>\n",
       "      <td>0.863636</td>\n",
       "      <td>0.862391</td>\n",
       "      <td>0.872038</td>\n",
       "      <td>[[79, 16], [11, 92]]</td>\n",
       "    </tr>\n",
       "    <tr>\n",
       "      <th>Framework A, Max</th>\n",
       "      <td>0.897959</td>\n",
       "      <td>0.774726</td>\n",
       "      <td>0.939341</td>\n",
       "      <td>[[37, 27], [8, 271]]</td>\n",
       "    </tr>\n",
       "    <tr>\n",
       "      <th>Framework A, First</th>\n",
       "      <td>0.897959</td>\n",
       "      <td>0.774726</td>\n",
       "      <td>0.939341</td>\n",
       "      <td>[[37, 27], [8, 271]]</td>\n",
       "    </tr>\n",
       "  </tbody>\n",
       "</table>\n",
       "</div>"
      ],
      "text/plain": [
       "                    accuracy       auc        f1                    cm\n",
       "data                                                                  \n",
       "Framework B, Max    0.858586  0.858762   0.85567  [[87, 15], [13, 83]]\n",
       "Framework B, First  0.863636  0.862391  0.872038  [[79, 16], [11, 92]]\n",
       "Framework A, Max    0.897959  0.774726  0.939341  [[37, 27], [8, 271]]\n",
       "Framework A, First  0.897959  0.774726  0.939341  [[37, 27], [8, 271]]"
      ]
     },
     "execution_count": 151,
     "metadata": {},
     "output_type": "execute_result"
    }
   ],
   "source": [
    "ada_results = pd.concat(ada_list, axis=1).T.set_index('data')\n",
    "ada_results[['accuracy','auc','f1','cm']]"
   ]
  },
  {
   "cell_type": "code",
   "execution_count": 152,
   "metadata": {
    "ExecuteTime": {
     "end_time": "2016-08-01T14:29:05.540976",
     "start_time": "2016-08-01T14:29:05.115925"
    },
    "collapsed": false
   },
   "outputs": [
    {
     "data": {
      "image/png": "[encoded data removed]",
      "text/plain": [
       "<matplotlib.figure.Figure at 0x118ca7790>"
      ]
     },
     "metadata": {},
     "output_type": "display_data"
    }
   ],
   "source": [
    "f = plt.figure()\n",
    "f.set_size_inches(7,5)\n",
    "ax = plt.axes()\n",
    "\n",
    "colors = sns.color_palette()\n",
    "\n",
    "for idx,dat in ada_results.iterrows():\n",
    "    label = idx\n",
    "    xdata = dat.roc_x\n",
    "    ydata = dat.roc_y\n",
    "    ax.plot(xdata, ydata, label=label)\n",
    "\n",
    "ax.legend(loc=0)\n",
    "\n",
    "_ = ax.set(xlabel='False Positive Rate', \n",
    "       ylabel='True Positive Rate',\n",
    "       title='ROC Curve')\n",
    "\n",
    "plt.tight_layout()"
   ]
  },
  {
   "cell_type": "markdown",
   "metadata": {},
   "source": [
    "## AdaBoost plus Imbalanced Learn"
   ]
  },
  {
   "cell_type": "code",
   "execution_count": 162,
   "metadata": {
    "ExecuteTime": {
     "end_time": "2016-08-02T21:44:25.573516",
     "start_time": "2016-08-02T21:44:25.451572"
    },
    "collapsed": false
   },
   "outputs": [
    {
     "ename": "ValueError",
     "evalue": "setting an array element with a sequence.",
     "output_type": "error",
     "traceback": [
      "\u001b[0;31m---------------------------------------------------------------------------\u001b[0m",
      "\u001b[0;31mValueError\u001b[0m                                Traceback (most recent call last)",
      "\u001b[0;32m<ipython-input-162-f22ebaefcdfe>\u001b[0m in \u001b[0;36m<module>\u001b[0;34m()\u001b[0m\n\u001b[1;32m     27\u001b[0m     \u001b[0;31m# BC\u001b[0m\u001b[0;34m\u001b[0m\u001b[0;34m\u001b[0m\u001b[0m\n\u001b[1;32m     28\u001b[0m \u001b[0;34m\u001b[0m\u001b[0m\n\u001b[0;32m---> 29\u001b[0;31m     \u001b[0mpipeline_bc\u001b[0m\u001b[0;34m.\u001b[0m\u001b[0mfit\u001b[0m\u001b[0;34m(\u001b[0m\u001b[0mtrain\u001b[0m\u001b[0;34m[\u001b[0m\u001b[0mfeat_cols\u001b[0m\u001b[0;34m]\u001b[0m\u001b[0;34m,\u001b[0m \u001b[0mtrain\u001b[0m\u001b[0;34m[\u001b[0m\u001b[0;34m'zika_bool'\u001b[0m\u001b[0;34m]\u001b[0m\u001b[0;34m.\u001b[0m\u001b[0mravel\u001b[0m\u001b[0;34m(\u001b[0m\u001b[0;34m)\u001b[0m\u001b[0;34m)\u001b[0m\u001b[0;34m\u001b[0m\u001b[0m\n\u001b[0m\u001b[1;32m     30\u001b[0m     \u001b[0mYtest\u001b[0m \u001b[0;34m=\u001b[0m \u001b[0mpipeline_bc\u001b[0m\u001b[0;34m.\u001b[0m\u001b[0mpredict\u001b[0m\u001b[0;34m(\u001b[0m\u001b[0mtest\u001b[0m\u001b[0;34m[\u001b[0m\u001b[0mfeat_cols\u001b[0m\u001b[0;34m]\u001b[0m\u001b[0;34m)\u001b[0m\u001b[0;34m\u001b[0m\u001b[0m\n\u001b[1;32m     31\u001b[0m \u001b[0;34m\u001b[0m\u001b[0m\n",
      "\u001b[0;32m/Volumes/Files/miniconda/envs/scienv2/lib/python2.7/site-packages/imblearn/pipeline.pyc\u001b[0m in \u001b[0;36mfit\u001b[0;34m(self, X, y, **fit_params)\u001b[0m\n\u001b[1;32m    113\u001b[0m             \u001b[0mthe\u001b[0m \u001b[0mpipeline\u001b[0m\u001b[0;34m.\u001b[0m\u001b[0;34m\u001b[0m\u001b[0m\n\u001b[1;32m    114\u001b[0m         \"\"\"\n\u001b[0;32m--> 115\u001b[0;31m         \u001b[0mXt\u001b[0m\u001b[0;34m,\u001b[0m \u001b[0myt\u001b[0m\u001b[0;34m,\u001b[0m \u001b[0mfit_params\u001b[0m \u001b[0;34m=\u001b[0m \u001b[0mself\u001b[0m\u001b[0;34m.\u001b[0m\u001b[0m_pre_transform\u001b[0m\u001b[0;34m(\u001b[0m\u001b[0mX\u001b[0m\u001b[0;34m,\u001b[0m \u001b[0my\u001b[0m\u001b[0;34m,\u001b[0m \u001b[0;34m**\u001b[0m\u001b[0mfit_params\u001b[0m\u001b[0;34m)\u001b[0m\u001b[0;34m\u001b[0m\u001b[0m\n\u001b[0m\u001b[1;32m    116\u001b[0m         \u001b[0mself\u001b[0m\u001b[0;34m.\u001b[0m\u001b[0msteps\u001b[0m\u001b[0;34m[\u001b[0m\u001b[0;34m-\u001b[0m\u001b[0;36m1\u001b[0m\u001b[0;34m]\u001b[0m\u001b[0;34m[\u001b[0m\u001b[0;34m-\u001b[0m\u001b[0;36m1\u001b[0m\u001b[0;34m]\u001b[0m\u001b[0;34m.\u001b[0m\u001b[0mfit\u001b[0m\u001b[0;34m(\u001b[0m\u001b[0mXt\u001b[0m\u001b[0;34m,\u001b[0m \u001b[0myt\u001b[0m\u001b[0;34m,\u001b[0m \u001b[0;34m**\u001b[0m\u001b[0mfit_params\u001b[0m\u001b[0;34m)\u001b[0m\u001b[0;34m\u001b[0m\u001b[0m\n\u001b[1;32m    117\u001b[0m         \u001b[0;32mreturn\u001b[0m \u001b[0mself\u001b[0m\u001b[0;34m\u001b[0m\u001b[0m\n",
      "\u001b[0;32m/Volumes/Files/miniconda/envs/scienv2/lib/python2.7/site-packages/imblearn/pipeline.pyc\u001b[0m in \u001b[0;36m_pre_transform\u001b[0;34m(self, X, y, **fit_params)\u001b[0m\n\u001b[1;32m     92\u001b[0m         \u001b[0;32mfor\u001b[0m \u001b[0mname\u001b[0m\u001b[0;34m,\u001b[0m \u001b[0mtransform\u001b[0m \u001b[0;32min\u001b[0m \u001b[0mself\u001b[0m\u001b[0;34m.\u001b[0m\u001b[0msteps\u001b[0m\u001b[0;34m[\u001b[0m\u001b[0;34m:\u001b[0m\u001b[0;34m-\u001b[0m\u001b[0;36m1\u001b[0m\u001b[0;34m]\u001b[0m\u001b[0;34m:\u001b[0m\u001b[0;34m\u001b[0m\u001b[0m\n\u001b[1;32m     93\u001b[0m             \u001b[0;32mif\u001b[0m \u001b[0mhasattr\u001b[0m\u001b[0;34m(\u001b[0m\u001b[0mtransform\u001b[0m\u001b[0;34m,\u001b[0m \u001b[0;34m\"fit_transform\"\u001b[0m\u001b[0;34m)\u001b[0m\u001b[0;34m:\u001b[0m\u001b[0;34m\u001b[0m\u001b[0m\n\u001b[0;32m---> 94\u001b[0;31m                 \u001b[0mXt\u001b[0m \u001b[0;34m=\u001b[0m \u001b[0mtransform\u001b[0m\u001b[0;34m.\u001b[0m\u001b[0mfit_transform\u001b[0m\u001b[0;34m(\u001b[0m\u001b[0mXt\u001b[0m\u001b[0;34m,\u001b[0m \u001b[0myt\u001b[0m\u001b[0;34m,\u001b[0m \u001b[0;34m**\u001b[0m\u001b[0mfit_params_steps\u001b[0m\u001b[0;34m[\u001b[0m\u001b[0mname\u001b[0m\u001b[0;34m]\u001b[0m\u001b[0;34m)\u001b[0m\u001b[0;34m\u001b[0m\u001b[0m\n\u001b[0m\u001b[1;32m     95\u001b[0m             \u001b[0;32melif\u001b[0m \u001b[0mhasattr\u001b[0m\u001b[0;34m(\u001b[0m\u001b[0mtransform\u001b[0m\u001b[0;34m,\u001b[0m \u001b[0;34m\"fit_sample\"\u001b[0m\u001b[0;34m)\u001b[0m\u001b[0;34m:\u001b[0m\u001b[0;34m\u001b[0m\u001b[0m\n\u001b[1;32m     96\u001b[0m                 \u001b[0mXt\u001b[0m\u001b[0;34m,\u001b[0m \u001b[0myt\u001b[0m \u001b[0;34m=\u001b[0m \u001b[0mtransform\u001b[0m\u001b[0;34m.\u001b[0m\u001b[0mfit_sample\u001b[0m\u001b[0;34m(\u001b[0m\u001b[0mXt\u001b[0m\u001b[0;34m,\u001b[0m \u001b[0myt\u001b[0m\u001b[0;34m,\u001b[0m \u001b[0;34m**\u001b[0m\u001b[0mfit_params_steps\u001b[0m\u001b[0;34m[\u001b[0m\u001b[0mname\u001b[0m\u001b[0;34m]\u001b[0m\u001b[0;34m)\u001b[0m\u001b[0;34m\u001b[0m\u001b[0m\n",
      "\u001b[0;32m/Volumes/Files/miniconda/envs/scienv2/lib/python2.7/site-packages/sklearn/base.pyc\u001b[0m in \u001b[0;36mfit_transform\u001b[0;34m(self, X, y, **fit_params)\u001b[0m\n\u001b[1;32m    456\u001b[0m         \u001b[0;32melse\u001b[0m\u001b[0;34m:\u001b[0m\u001b[0;34m\u001b[0m\u001b[0m\n\u001b[1;32m    457\u001b[0m             \u001b[0;31m# fit method of arity 2 (supervised transformation)\u001b[0m\u001b[0;34m\u001b[0m\u001b[0;34m\u001b[0m\u001b[0m\n\u001b[0;32m--> 458\u001b[0;31m             \u001b[0;32mreturn\u001b[0m \u001b[0mself\u001b[0m\u001b[0;34m.\u001b[0m\u001b[0mfit\u001b[0m\u001b[0;34m(\u001b[0m\u001b[0mX\u001b[0m\u001b[0;34m,\u001b[0m \u001b[0my\u001b[0m\u001b[0;34m,\u001b[0m \u001b[0;34m**\u001b[0m\u001b[0mfit_params\u001b[0m\u001b[0;34m)\u001b[0m\u001b[0;34m.\u001b[0m\u001b[0mtransform\u001b[0m\u001b[0;34m(\u001b[0m\u001b[0mX\u001b[0m\u001b[0;34m)\u001b[0m\u001b[0;34m\u001b[0m\u001b[0m\n\u001b[0m\u001b[1;32m    459\u001b[0m \u001b[0;34m\u001b[0m\u001b[0m\n\u001b[1;32m    460\u001b[0m \u001b[0;34m\u001b[0m\u001b[0m\n",
      "\u001b[0;32m/Volumes/Files/miniconda/envs/scienv2/lib/python2.7/site-packages/sklearn/tree/tree.pyc\u001b[0m in \u001b[0;36mfit\u001b[0;34m(self, X, y, sample_weight, check_input, X_idx_sorted)\u001b[0m\n\u001b[1;32m    152\u001b[0m         \u001b[0mrandom_state\u001b[0m \u001b[0;34m=\u001b[0m \u001b[0mcheck_random_state\u001b[0m\u001b[0;34m(\u001b[0m\u001b[0mself\u001b[0m\u001b[0;34m.\u001b[0m\u001b[0mrandom_state\u001b[0m\u001b[0;34m)\u001b[0m\u001b[0;34m\u001b[0m\u001b[0m\n\u001b[1;32m    153\u001b[0m         \u001b[0;32mif\u001b[0m \u001b[0mcheck_input\u001b[0m\u001b[0;34m:\u001b[0m\u001b[0;34m\u001b[0m\u001b[0m\n\u001b[0;32m--> 154\u001b[0;31m             \u001b[0mX\u001b[0m \u001b[0;34m=\u001b[0m \u001b[0mcheck_array\u001b[0m\u001b[0;34m(\u001b[0m\u001b[0mX\u001b[0m\u001b[0;34m,\u001b[0m \u001b[0mdtype\u001b[0m\u001b[0;34m=\u001b[0m\u001b[0mDTYPE\u001b[0m\u001b[0;34m,\u001b[0m \u001b[0maccept_sparse\u001b[0m\u001b[0;34m=\u001b[0m\u001b[0;34m\"csc\"\u001b[0m\u001b[0;34m)\u001b[0m\u001b[0;34m\u001b[0m\u001b[0m\n\u001b[0m\u001b[1;32m    155\u001b[0m             \u001b[0;32mif\u001b[0m \u001b[0missparse\u001b[0m\u001b[0;34m(\u001b[0m\u001b[0mX\u001b[0m\u001b[0;34m)\u001b[0m\u001b[0;34m:\u001b[0m\u001b[0;34m\u001b[0m\u001b[0m\n\u001b[1;32m    156\u001b[0m                 \u001b[0mX\u001b[0m\u001b[0;34m.\u001b[0m\u001b[0msort_indices\u001b[0m\u001b[0;34m(\u001b[0m\u001b[0;34m)\u001b[0m\u001b[0;34m\u001b[0m\u001b[0m\n",
      "\u001b[0;32m/Volumes/Files/miniconda/envs/scienv2/lib/python2.7/site-packages/sklearn/utils/validation.pyc\u001b[0m in \u001b[0;36mcheck_array\u001b[0;34m(array, accept_sparse, dtype, order, copy, force_all_finite, ensure_2d, allow_nd, ensure_min_samples, ensure_min_features, warn_on_dtype, estimator)\u001b[0m\n\u001b[1;32m    371\u001b[0m                                       force_all_finite)\n\u001b[1;32m    372\u001b[0m     \u001b[0;32melse\u001b[0m\u001b[0;34m:\u001b[0m\u001b[0;34m\u001b[0m\u001b[0m\n\u001b[0;32m--> 373\u001b[0;31m         \u001b[0marray\u001b[0m \u001b[0;34m=\u001b[0m \u001b[0mnp\u001b[0m\u001b[0;34m.\u001b[0m\u001b[0marray\u001b[0m\u001b[0;34m(\u001b[0m\u001b[0marray\u001b[0m\u001b[0;34m,\u001b[0m \u001b[0mdtype\u001b[0m\u001b[0;34m=\u001b[0m\u001b[0mdtype\u001b[0m\u001b[0;34m,\u001b[0m \u001b[0morder\u001b[0m\u001b[0;34m=\u001b[0m\u001b[0morder\u001b[0m\u001b[0;34m,\u001b[0m \u001b[0mcopy\u001b[0m\u001b[0;34m=\u001b[0m\u001b[0mcopy\u001b[0m\u001b[0;34m)\u001b[0m\u001b[0;34m\u001b[0m\u001b[0m\n\u001b[0m\u001b[1;32m    374\u001b[0m \u001b[0;34m\u001b[0m\u001b[0m\n\u001b[1;32m    375\u001b[0m         \u001b[0;32mif\u001b[0m \u001b[0mensure_2d\u001b[0m\u001b[0;34m:\u001b[0m\u001b[0;34m\u001b[0m\u001b[0m\n",
      "\u001b[0;31mValueError\u001b[0m: setting an array element with a sequence."
     ]
    }
   ],
   "source": [
    "ada_imb_list = list()\n",
    "\n",
    "# TODO check if this is the criterion I want\n",
    "\n",
    "\n",
    "\n",
    "\n",
    "\n",
    "\n",
    "for train,test,label in zip([fbm_train, fbf_train, fam_train, faf_train],\n",
    "                            [fbm_test,  fbf_test,  fam_test,  faf_test],\n",
    "                            ['Framework B, Max', 'Framework B, First',\n",
    "                             'Framework A, Max', 'Framework A, First']):\n",
    "    \n",
    "    bc = BalanceCascade()\n",
    "\n",
    "    ee = EasyEnsemble()\n",
    "\n",
    "    tree = DecisionTreeClassifier(criterion='entropy', max_depth=1)\n",
    "\n",
    "    ada = AdaBoostClassifier(base_estimator=tree, n_estimators=500,\n",
    "                            learning_rate=0.1, random_state=0)\n",
    "    \n",
    "    pipeline_bc = make_pipeline(bc, tree, ada)\n",
    "    pipeline_ee = make_pipeline(ee, tree, ada)\n",
    "    \n",
    "    # BC\n",
    "    \n",
    "    pipeline_bc.fit(train[feat_cols], train['zika_bool'].ravel())\n",
    "    Ytest = pipeline_bc.predict(test[feat_cols])\n",
    "    \n",
    "    cm = confusion_matrix(Ytest, Ypred)\n",
    "    f1 = f1_score(Ytest, Ypred)\n",
    "    accuracy = accuracy_score(Ytest, Ypred)\n",
    "    auc = roc_auc_score(Ytest, Ypred)\n",
    "    xdata, ydata, _ = roc_curve(Ytest, Ypred)\n",
    "    \n",
    "    df = pd.Series({'data':label, \n",
    "                    'cm': cm, 'f1': f1, \n",
    "                    'accuracy':accuracy, 'auc':auc,\n",
    "                    'roc_x': xdata, 'roc_y': ydata, 'model':ada, 'type':'bc'})\n",
    "    \n",
    "    ada_imb_list.append(df)\n",
    "    \n",
    "    # EE\n",
    "    \n",
    "    pipeline_ee.fit(train[feat_cols], train['zika_bool'].ravel())\n",
    "    Ytest = pipeline_ee.predict(test[feat_cols])\n",
    "    \n",
    "    \n",
    "    cm = confusion_matrix(Ytest, Ypred)\n",
    "    f1 = f1_score(Ytest, Ypred)\n",
    "    accuracy = accuracy_score(Ytest, Ypred)\n",
    "    auc = roc_auc_score(Ytest, Ypred)\n",
    "    xdata, ydata, _ = roc_curve(Ytest, Ypred)\n",
    "    \n",
    "    df = pd.Series({'data':label, \n",
    "                    'cm': cm, 'f1': f1, \n",
    "                    'accuracy':accuracy, 'auc':auc,\n",
    "                    'roc_x': xdata, 'roc_y': ydata, 'model':ada, 'type':'ee'})\n",
    "    \n",
    "    ada_imb_list.append(df)"
   ]
  },
  {
   "cell_type": "code",
   "execution_count": null,
   "metadata": {
    "collapsed": true
   },
   "outputs": [],
   "source": []
  }
 ],
 "metadata": {
  "kernelspec": {
   "display_name": "Python 2",
   "language": "python",
   "name": "python2"
  },
  "language_info": {
   "codemirror_mode": {
    "name": "ipython",
    "version": 2
   },
   "file_extension": ".py",
   "mimetype": "text/x-python",
   "name": "python",
   "nbconvert_exporter": "python",
   "pygments_lexer": "ipython2",
   "version": "2.7.12"
  }
 },
 "nbformat": 4,
 "nbformat_minor": 0
}
