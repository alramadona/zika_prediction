{
 "cells": [
  {
   "cell_type": "code",
   "execution_count": 49,
   "metadata": {
    "ExecuteTime": {
     "end_time": "2016-07-25T22:27:10.520698",
     "start_time": "2016-07-25T22:27:10.499233"
    },
    "collapsed": true
   },
   "outputs": [],
   "source": [
    "import pandas as pd\n",
    "import numpy as np\n",
    "import re\n",
    "import time\n",
    "import dill\n",
    "from glob import glob\n",
    "from csv_pkl_sql import save_it"
   ]
  },
  {
   "cell_type": "markdown",
   "metadata": {},
   "source": [
    "## Import infection data"
   ]
  },
  {
   "cell_type": "code",
   "execution_count": 50,
   "metadata": {
    "ExecuteTime": {
     "end_time": "2016-07-25T22:27:11.454883",
     "start_time": "2016-07-25T22:27:11.404188"
    },
    "collapsed": false
   },
   "outputs": [
    {
     "data": {
      "text/html": [
       "<div>\n",
       "<table border=\"1\" class=\"dataframe\">\n",
       "  <thead>\n",
       "    <tr style=\"text-align: right;\">\n",
       "      <th></th>\n",
       "      <th>report_date</th>\n",
       "      <th>location</th>\n",
       "      <th>location_type</th>\n",
       "      <th>data_field</th>\n",
       "      <th>data_field_code</th>\n",
       "      <th>value</th>\n",
       "      <th>unit</th>\n",
       "    </tr>\n",
       "  </thead>\n",
       "  <tbody>\n",
       "    <tr>\n",
       "      <th>0</th>\n",
       "      <td>2016-03-19</td>\n",
       "      <td>Argentina-Buenos_Aires</td>\n",
       "      <td>province</td>\n",
       "      <td>cumulative_confirmed_local_cases</td>\n",
       "      <td>AR0001</td>\n",
       "      <td>0</td>\n",
       "      <td>cases</td>\n",
       "    </tr>\n",
       "  </tbody>\n",
       "</table>\n",
       "</div>"
      ],
      "text/plain": [
       "  report_date                location location_type  \\\n",
       "0  2016-03-19  Argentina-Buenos_Aires      province   \n",
       "\n",
       "                         data_field data_field_code value   unit  \n",
       "0  cumulative_confirmed_local_cases          AR0001     0  cases  "
      ]
     },
     "execution_count": 50,
     "metadata": {},
     "output_type": "execute_result"
    }
   ],
   "source": [
    "data.head(1)"
   ]
  },
  {
   "cell_type": "code",
   "execution_count": 51,
   "metadata": {
    "ExecuteTime": {
     "end_time": "2016-07-25T22:27:21.036235",
     "start_time": "2016-07-25T22:27:19.827869"
    },
    "collapsed": false
   },
   "outputs": [],
   "source": [
    "data_file_locations = glob('../zika/*/*/data/*.csv')\n",
    "data = pd.concat([pd.read_csv(x)\n",
    "                            for x in data_file_locations], axis=0).reset_index(drop=True)\n",
    "\n",
    "data.drop(['time_period','time_period_type'], axis=1, inplace=True)\n",
    "\n",
    "data['report_date'] = data.report_date.str.replace('_','-')       \n",
    "data['report_date'] = pd.to_datetime(data.report_date)\n",
    "\n",
    "# save_it(data, '03_infection_data_initial_import')"
   ]
  },
  {
   "cell_type": "code",
   "execution_count": 52,
   "metadata": {
    "ExecuteTime": {
     "end_time": "2016-07-25T22:27:22.394429",
     "start_time": "2016-07-25T22:27:22.365503"
    },
    "collapsed": false
   },
   "outputs": [
    {
     "data": {
      "text/plain": [
       "((37513, 7), (107940, 7))"
      ]
     },
     "execution_count": 52,
     "metadata": {},
     "output_type": "execute_result"
    }
   ],
   "source": [
    "data.query(\"value>0\").shape, data.shape"
   ]
  },
  {
   "cell_type": "code",
   "execution_count": 9,
   "metadata": {
    "ExecuteTime": {
     "end_time": "2016-07-24T22:06:45.101220",
     "start_time": "2016-07-24T22:06:45.070359"
    },
    "collapsed": false
   },
   "outputs": [
    {
     "data": {
      "text/plain": [
       "array(['cumulative_confirmed_local_cases',\n",
       "       'cumulative_probable_local_cases',\n",
       "       'cumulative_confirmed_imported_cases',\n",
       "       'cumulative_probable_imported_cases',\n",
       "       'cumulative_cases_under_study', 'cumulative_cases_discarded',\n",
       "       'microcephaly_under_investigation', 'microcephaly_confirmed',\n",
       "       'microcephaly_not', 'municipality_microcephaly',\n",
       "       'microcephaly_fatal_under_investigation',\n",
       "       'microcephaly_fatal_confirmed', 'microcephaly_fatal_not',\n",
       "       'municipality_microcephaly_suspected', 'zika_reported',\n",
       "       'zika_confirmed_laboratory', 'zika_confirmed_clinic',\n",
       "       'zika_suspected', 'zika_suspected_clinic',\n",
       "       'total_zika_new_suspected', 'total_zika_new_confirmed_pcr',\n",
       "       'zika_new_confirmed_pcr_f', 'zika_new_confirmed_pcr_m',\n",
       "       'efe_reported', 'zika_suspected_cumulative',\n",
       "       'zika_suspected_pregnant_cumulative',\n",
       "       'zika_confirmed_pcr_cumulative', 'zika_suspected_pregnant',\n",
       "       'gbs_reported', 'gbs_zika_confirmed', 'gbs_zika_confirmed_pregnant',\n",
       "       'gbs_confirmed_cumulative', 'gbs_reported_cumulative',\n",
       "       'microcephaly_confirmed_cumulative', 'microcephaly_suspected',\n",
       "       'microcephaly_suspected_cumulative',\n",
       "       'zika_confirmed_pregnant_cumulative', 'zika_suspected_4weeks',\n",
       "       'gbs_reported_4weeks', 'microcephaly_suspected_4weeks',\n",
       "       'total_zika_suspected_cumulative',\n",
       "       'total_zika_confirmed_cumulative',\n",
       "       'total_zika_confirmed_autochthonous',\n",
       "       'total_zika_confirmed_imported', 'total_zika_confirmed_pregnant',\n",
       "       'total_zika_confirmed_ages_0-11mo_F',\n",
       "       'total_zika_confirmed_ages_0-11mo_M',\n",
       "       'total_zika_confirmed_ages_1-4yrs_F',\n",
       "       'total_zika_confirmed_ages_1-4yrs_M',\n",
       "       'total_zika_confirmed_ages_5-9yrs_F',\n",
       "       'total_zika_confirmed_ages_5-9yrs_M',\n",
       "       'total_zika_confirmed_ages_10-14yrs_F',\n",
       "       'total_zika_confirmed_ages_10-14yrs_M',\n",
       "       'total_zika_confirmed_ages_15-19yrs_F',\n",
       "       'total_zika_confirmed_ages_15-19yrs_M',\n",
       "       'total_zika_confirmed_ages_20-49yrs_F',\n",
       "       'total_zika_confirmed_ages_20-49yrs_M',\n",
       "       'total_zika_confirmed_ages_50-64yrs_F',\n",
       "       'total_zika_confirmed_ages_50-64yrs_M',\n",
       "       'total_zika_confirmed_ages_over65_F',\n",
       "       'total_zika_confirmed_ages_over65_M',\n",
       "       'total_zika_confirmed_Not-Aplicable', 'cumulative_suspected_total',\n",
       "       'cumulative_suspected_pregnant', 'cumulative_suspected_age_under_1',\n",
       "       'cumulative_suspected_age_1-4', 'cumulative_suspected_age_5-9',\n",
       "       'cumulative_suspected_age_10-19', 'cumulative_suspected_age_20-29',\n",
       "       'cumulative_suspected_age_30-39', 'cumulative_suspected_age_40-49',\n",
       "       'cumulative_suspected_age_50-59',\n",
       "       'cumulative_suspected_age_60_plus', 'weekly_hospitalized',\n",
       "       'cumulative_confirmed', 'total_zika_suspected',\n",
       "       'total_zika_suspected_M', 'total_zika_suspected_F',\n",
       "       'total_zika_confirmed', 'total_zika_confirmed_F',\n",
       "       'total_zika_confirmed_M',\n",
       "       'total_zika_confirmed_pregnant_cumulative',\n",
       "       'total_zika_new_suspected_cumulative', 'weekly_zika_confirmed',\n",
       "       'yearly_cumulative_female', 'yearly_cumulative_male',\n",
       "       'normal_birth_confirmed_zika', 'Zika_confirmed_laboratory_2015',\n",
       "       'Zika_confirmed_laboratory_2016', 'Zika_confirmed_F',\n",
       "       'Zika_confirmed_M', 'confirmed_age_under_1', 'confirmed_age_1-4',\n",
       "       'confirmed_age_5-9', 'confirmed_age_10-14', 'confirmed_age_15-19',\n",
       "       'confirmed_age_20-24', 'confirmed_age_25-34', 'confirmed_age_35-49',\n",
       "       'confirmed_age_50-59', 'confirmed_age_60-64',\n",
       "       'confirmed_age_60_plus', 'weekly_Zika_confirmed_asymptomatic',\n",
       "       'weekly_Zika_confirmed_pending', 'weekly_Zika_confirmed_local',\n",
       "       'weekly_Zika_confirmed_imported', 'Zika_positive_pregnant',\n",
       "       'Zika_negative_pregnant', 'zika_confirmed_2weeks',\n",
       "       'zika_confirmed_cumulative_2016', 'flavi_confirmed_cumulative_2016',\n",
       "       'zika_confirmed_cumulative_2015-2016',\n",
       "       'zika_confirmed_pregnant_cumulative_2015-2016',\n",
       "       'zika_confirmed_pregnant_symptomatic_cumulative_2015-2016',\n",
       "       'zika_confirmed_pregnant_asymptomatic_cumulative_2015-2016',\n",
       "       'GBS_reported_cumulative_2015-2016', 'arbovirus_suspected_2weeks',\n",
       "       'arbovirus_suspected_cumulative_2015', 'zika_confirmed_4weeks',\n",
       "       'arbovirus_suspected_cumulative_2016', 'arbovirus_suspected_4weeks',\n",
       "       'GBS_reported_cumulative_2015-2016_zika',\n",
       "       'GBS_reported_cumulative_2015-2016_flavi',\n",
       "       'congenital_developmental_defects_reported_cummulative_2015-2016',\n",
       "       'congenital_developmental_defects_reported_cumulative_2015-2016',\n",
       "       'zika_reported_travel', 'zika_reported_local',\n",
       "       'yearly_reported_travel_cases', 'zika_lab_positive', 'zika_not',\n",
       "       'zika_pending', 'confirmed_age_under20', 'confirmed_age_20to39',\n",
       "       'confirmed_age_40to59', 'confirmed_age_over59', 'confirmed_age_unk',\n",
       "       'confirmed_male', 'confirmed_female', 'confirmed_fever',\n",
       "       'confirmed_acute_fever', 'confirmed_arthralgia',\n",
       "       'confirmed_arthritis', 'confirmed_rash', 'confirmed_conjunctivitis',\n",
       "       'confirmed_eyepain', 'confirmed_headache', 'confirmed_malaise',\n",
       "       'zika_no_specimen'], dtype=object)"
      ]
     },
     "execution_count": 9,
     "metadata": {},
     "output_type": "execute_result"
    }
   ],
   "source": [
    "data_locations.data_field.unique()"
   ]
  }
 ],
 "metadata": {
  "kernelspec": {
   "display_name": "Python 2",
   "language": "python",
   "name": "python2"
  },
  "language_info": {
   "codemirror_mode": {
    "name": "ipython",
    "version": 2
   },
   "file_extension": ".py",
   "mimetype": "text/x-python",
   "name": "python",
   "nbconvert_exporter": "python",
   "pygments_lexer": "ipython2",
   "version": "2.7.12"
  }
 },
 "nbformat": 4,
 "nbformat_minor": 0
}
