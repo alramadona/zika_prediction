{
 "cells": [
  {
   "cell_type": "code",
   "execution_count": 39,
   "metadata": {
    "ExecuteTime": {
     "end_time": "2016-07-31T16:45:45.388926",
     "start_time": "2016-07-31T16:45:45.170775"
    },
    "collapsed": true
   },
   "outputs": [],
   "source": [
    "import pandas as pd\n",
    "import numpy as np\n",
    "import re\n",
    "import time\n",
    "from glob import glob\n",
    "from csv_pkl_sql import save_it\n",
    "\n",
    "import matplotlib.pyplot as plt\n",
    "\n",
    "%matplotlib inline"
   ]
  },
  {
   "cell_type": "markdown",
   "metadata": {},
   "source": [
    "# Import infection data"
   ]
  },
  {
   "cell_type": "code",
   "execution_count": 40,
   "metadata": {
    "ExecuteTime": {
     "end_time": "2016-07-31T16:45:47.670235",
     "start_time": "2016-07-31T16:45:45.934963"
    },
    "collapsed": false
   },
   "outputs": [],
   "source": [
    "data_file_locations = glob('../zika/*/*/data/*.csv')\n",
    "data = pd.concat([pd.read_csv(x)\n",
    "                            for x in data_file_locations], axis=0).reset_index(drop=True)\n",
    "\n",
    "data.drop(['time_period','time_period_type'], axis=1, inplace=True)\n",
    "\n",
    "data['report_date'] = data.report_date.str.replace('_','-')       \n",
    "data['report_date'] = pd.to_datetime(data.report_date)\n",
    "\n",
    "#save_it(data, '03_infection_data_initial_import')"
   ]
  },
  {
   "cell_type": "code",
   "execution_count": 41,
   "metadata": {
    "ExecuteTime": {
     "end_time": "2016-07-31T16:45:47.723647",
     "start_time": "2016-07-31T16:45:47.672415"
    },
    "collapsed": false
   },
   "outputs": [
    {
     "data": {
      "text/html": [
       "<div>\n",
       "<table border=\"1\" class=\"dataframe\">\n",
       "  <thead>\n",
       "    <tr style=\"text-align: right;\">\n",
       "      <th></th>\n",
       "      <th>report_date</th>\n",
       "      <th>location</th>\n",
       "      <th>location_type</th>\n",
       "      <th>data_field</th>\n",
       "      <th>data_field_code</th>\n",
       "      <th>value</th>\n",
       "      <th>unit</th>\n",
       "    </tr>\n",
       "  </thead>\n",
       "  <tbody>\n",
       "    <tr>\n",
       "      <th>0</th>\n",
       "      <td>2016-03-19</td>\n",
       "      <td>Argentina-Buenos_Aires</td>\n",
       "      <td>province</td>\n",
       "      <td>cumulative_confirmed_local_cases</td>\n",
       "      <td>AR0001</td>\n",
       "      <td>0</td>\n",
       "      <td>cases</td>\n",
       "    </tr>\n",
       "  </tbody>\n",
       "</table>\n",
       "</div>"
      ],
      "text/plain": [
       "  report_date                location location_type  \\\n",
       "0  2016-03-19  Argentina-Buenos_Aires      province   \n",
       "\n",
       "                         data_field data_field_code value   unit  \n",
       "0  cumulative_confirmed_local_cases          AR0001     0  cases  "
      ]
     },
     "execution_count": 41,
     "metadata": {},
     "output_type": "execute_result"
    }
   ],
   "source": [
    "data.head(1)"
   ]
  },
  {
   "cell_type": "code",
   "execution_count": 42,
   "metadata": {
    "ExecuteTime": {
     "end_time": "2016-07-31T16:45:47.760439",
     "start_time": "2016-07-31T16:45:47.728533"
    },
    "collapsed": false
   },
   "outputs": [],
   "source": [
    "# drop municipalities\n",
    "data = data.loc[data.unit!='municipalities']"
   ]
  },
  {
   "cell_type": "code",
   "execution_count": 43,
   "metadata": {
    "ExecuteTime": {
     "end_time": "2016-07-31T16:45:48.050899",
     "start_time": "2016-07-31T16:45:48.038326"
    },
    "collapsed": false
   },
   "outputs": [
    {
     "data": {
      "text/plain": [
       "(106847, 7)"
      ]
     },
     "execution_count": 43,
     "metadata": {},
     "output_type": "execute_result"
    }
   ],
   "source": [
    "data.shape"
   ]
  },
  {
   "cell_type": "code",
   "execution_count": 44,
   "metadata": {
    "ExecuteTime": {
     "end_time": "2016-07-31T16:45:48.528492",
     "start_time": "2016-07-31T16:45:48.508655"
    },
    "collapsed": true
   },
   "outputs": [],
   "source": [
    "data = (data[['report_date', 'location', 'value', 'data_field']]\n",
    "             .rename(columns={'report_date':'date','value':'zika_cases'}))"
   ]
  },
  {
   "cell_type": "code",
   "execution_count": 45,
   "metadata": {
    "ExecuteTime": {
     "end_time": "2016-07-31T16:45:48.877457",
     "start_time": "2016-07-31T16:45:48.786630"
    },
    "collapsed": false
   },
   "outputs": [
    {
     "name": "stdout",
     "output_type": "stream",
     "text": [
      "(2414, '125*5')\n",
      "(2783, '149*5')\n",
      "(5192, '5*')\n"
     ]
    }
   ],
   "source": [
    "for x in data.zika_cases.iteritems():\n",
    "    try:\n",
    "        float(x[1])\n",
    "    except:\n",
    "        print(x)"
   ]
  },
  {
   "cell_type": "code",
   "execution_count": 46,
   "metadata": {
    "ExecuteTime": {
     "end_time": "2016-07-31T16:45:49.215153",
     "start_time": "2016-07-31T16:45:49.164212"
    },
    "collapsed": true
   },
   "outputs": [],
   "source": [
    "data.loc[2414, 'zika_cases'] = 0\n",
    "data.loc[2783, 'zika_cases'] = 0\n",
    "data.loc[5192, 'zika_cases'] = 0\n",
    "data['zika_cases'] = data.zika_cases.fillna(0)\n",
    "data['zika_cases'] = data.zika_cases.astype(int)"
   ]
  },
  {
   "cell_type": "code",
   "execution_count": 47,
   "metadata": {
    "ExecuteTime": {
     "end_time": "2016-07-31T16:45:49.893513",
     "start_time": "2016-07-31T16:45:49.873191"
    },
    "collapsed": false
   },
   "outputs": [
    {
     "data": {
      "text/plain": [
       "((36407, 4), (106847, 4))"
      ]
     },
     "execution_count": 47,
     "metadata": {},
     "output_type": "execute_result"
    }
   ],
   "source": [
    "data.query(\"zika_cases>0\").shape, data.shape"
   ]
  },
  {
   "cell_type": "code",
   "execution_count": 48,
   "metadata": {
    "ExecuteTime": {
     "end_time": "2016-07-31T16:45:50.210907",
     "start_time": "2016-07-31T16:45:50.188054"
    },
    "collapsed": false
   },
   "outputs": [
    {
     "name": "stdout",
     "output_type": "stream",
     "text": [
      "(1473, 52673, 5195700)\n"
     ]
    }
   ],
   "source": [
    "# Remove data that don't appear to be directly associated with Zika\n",
    "excluded_fields = ['cumulative_cases_discarded',\n",
    "'microcephaly_not',\n",
    "'gbs_reported',\n",
    "'zika_not',\n",
    "'confirmed_acute_fever',\n",
    "'confirmed_arthralgia',\n",
    "'confirmed_arthritis', \n",
    "'confirmed_rash', \n",
    "'confirmed_conjunctivitis',\n",
    "'confirmed_eyepain', \n",
    "'confirmed_headache', \n",
    "'confirmed_malaise']\n",
    "\n",
    "mask = data.data_field.isin(excluded_fields)\n",
    "print(mask.sum(), data.loc[mask, 'zika_cases'].sum(), data.zika_cases.sum())"
   ]
  },
  {
   "cell_type": "code",
   "execution_count": 49,
   "metadata": {
    "ExecuteTime": {
     "end_time": "2016-07-31T16:45:50.667915",
     "start_time": "2016-07-31T16:45:50.657486"
    },
    "collapsed": false
   },
   "outputs": [],
   "source": [
    "data = data.loc[mask.pipe(np.invert)]"
   ]
  },
  {
   "cell_type": "code",
   "execution_count": 50,
   "metadata": {
    "ExecuteTime": {
     "end_time": "2016-07-31T16:45:51.614132",
     "start_time": "2016-07-31T16:45:51.606678"
    },
    "collapsed": false
   },
   "outputs": [
    {
     "data": {
      "text/plain": [
       "(105374, 5143027)"
      ]
     },
     "execution_count": 50,
     "metadata": {},
     "output_type": "execute_result"
    }
   ],
   "source": [
    "data.shape[0], data.zika_cases.sum()"
   ]
  },
  {
   "cell_type": "code",
   "execution_count": 51,
   "metadata": {
    "ExecuteTime": {
     "end_time": "2016-07-31T16:45:52.401251",
     "start_time": "2016-07-31T16:45:52.390158"
    },
    "collapsed": false
   },
   "outputs": [
    {
     "data": {
      "text/plain": [
       "date          datetime64[ns]\n",
       "location              object\n",
       "zika_cases             int64\n",
       "data_field            object\n",
       "dtype: object"
      ]
     },
     "execution_count": 51,
     "metadata": {},
     "output_type": "execute_result"
    }
   ],
   "source": [
    "data.dtypes"
   ]
  },
  {
   "cell_type": "code",
   "execution_count": 52,
   "metadata": {
    "ExecuteTime": {
     "end_time": "2016-07-31T16:45:54.351648",
     "start_time": "2016-07-31T16:45:54.341923"
    },
    "collapsed": false
   },
   "outputs": [
    {
     "data": {
      "text/plain": [
       "Timestamp('2016-07-13 00:00:00')"
      ]
     },
     "execution_count": 52,
     "metadata": {},
     "output_type": "execute_result"
    }
   ],
   "source": [
    "data.date.max()"
   ]
  },
  {
   "cell_type": "code",
   "execution_count": null,
   "metadata": {
    "ExecuteTime": {
     "start_time": "2016-07-31T20:46:22.216Z"
    },
    "collapsed": true
   },
   "outputs": [],
   "source": [
    "save_it(data, '03_infection_data_initial_import')"
   ]
  }
 ],
 "metadata": {
  "kernelspec": {
   "display_name": "Python 2",
   "language": "python",
   "name": "python2"
  },
  "language_info": {
   "codemirror_mode": {
    "name": "ipython",
    "version": 2
   },
   "file_extension": ".py",
   "mimetype": "text/x-python",
   "name": "python",
   "nbconvert_exporter": "python",
   "pygments_lexer": "ipython2",
   "version": "2.7.12"
  }
 },
 "nbformat": 4,
 "nbformat_minor": 0
}
