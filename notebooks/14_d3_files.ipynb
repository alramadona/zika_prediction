{
 "cells": [
  {
   "cell_type": "code",
   "execution_count": 1,
   "metadata": {
    "collapsed": true
   },
   "outputs": [],
   "source": [
    "import pandas as pd\n",
    "import numpy as np\n",
    "# from sklearn.preprocessing import Normalizer\n",
    "\n",
    "# from sklearn.metrics import confusion_matrix, f1_score, roc_auc_score, roc_curve\n",
    "# from sklearn.metrics import auc, accuracy_score, precision_recall_curve\n",
    "# from sklearn.metrics import precision_score, recall_score\n",
    "\n",
    "%matplotlib inline\n",
    "import matplotlib.pyplot as plt"
   ]
  },
  {
   "cell_type": "markdown",
   "metadata": {
    "collapsed": true
   },
   "source": [
    "## Load model and predict"
   ]
  },
  {
   "cell_type": "code",
   "execution_count": 2,
   "metadata": {
    "collapsed": false
   },
   "outputs": [
    {
     "name": "stdout",
     "output_type": "stream",
     "text": [
      "../pkl/13_model_tuning_ada_models_df.pkl\r\n",
      "../pkl/13_model_tuning_ada_models_dwnsampled_3.pkl\r\n",
      "../pkl/13_model_tuning_ada_models_dwnsampled_5.pkl\r\n",
      "../pkl/13_model_tuning_ada_models_inner_unbalanced.pkl\r\n",
      "../pkl/13_model_tuning_ada_models_inner_upsampled_3.pkl\r\n",
      "../pkl/13_model_tuning_ada_models_unbalanced.pkl\r\n",
      "../pkl/13_model_tuning_ada_models_upsampled_3.pkl\r\n",
      "../pkl/13_model_tuning_ada_models_upsampled_5.pkl\r\n",
      "../pkl/13_model_tuning_Xtest_ada_inner_unbalanced.pkl\r\n",
      "../pkl/13_model_tuning_Xtrain_ada_inner_unbalanced.pkl\r\n",
      "../pkl/13_model_tuning_Ypred_test_ada_inner_unbalanced.pkl\r\n",
      "../pkl/13_model_tuning_Ypred_train_ada_inner_unbalanced.pkl\r\n",
      "../pkl/13_model_tuning_Ytest_ada_inner_unbalanced.pkl\r\n",
      "../pkl/13_model_tuning_Ytrain_ada_inner_unbalanced.pkl\r\n"
     ]
    }
   ],
   "source": [
    "! ls ../pkl/*ada*.pkl"
   ]
  },
  {
   "cell_type": "code",
   "execution_count": 4,
   "metadata": {
    "collapsed": false
   },
   "outputs": [],
   "source": [
    "fwf = pd.read_pickle('../pkl/10_class_balancing_fwf.pkl')\n",
    "\n",
    "Ytrain = pd.read_pickle('../pkl/13_model_tuning_Ytrain_ada_inner_unbalanced.pkl')\n",
    "Xtrain = pd.read_pickle('../pkl/13_model_tuning_Xtrain_ada_inner_unbalanced.pkl')\n",
    "\n",
    "Ytest = pd.read_pickle('../pkl/13_model_tuning_Ytest_ada_inner_unbalanced.pkl')\n",
    "Xtest = pd.read_pickle('../pkl/13_model_tuning_Xtest_ada_inner_unbalanced.pkl')\n",
    "\n",
    "Ypred_test = pd.read_pickle('../pkl/13_model_tuning_Ypred_test_ada_inner_unbalanced.pkl')\n",
    "Ypred_train = pd.read_pickle('../pkl/13_model_tuning_Ypred_train_ada_inner_unbalanced.pkl')\n",
    "\n",
    "ada = pd.read_pickle('../pkl/13_model_tuning_ada_models_unbalanced.pkl')\n",
    "\n",
    "# feat_cols = [x for x in features.columns if x not in ['date','location']]"
   ]
  },
  {
   "cell_type": "code",
   "execution_count": 5,
   "metadata": {
    "collapsed": false
   },
   "outputs": [
    {
     "name": "stdout",
     "output_type": "stream",
     "text": [
      "(800,) (800, 26) (343,) (343, 26) (343, 1) (800, 1) (1605, 5)\n"
     ]
    }
   ],
   "source": [
    "print Ytrain.shape, Xtrain.shape, Ytest.shape, Xtest.shape, Ypred_test.shape, Ypred_train.shape, fwf.shape"
   ]
  },
  {
   "cell_type": "code",
   "execution_count": 6,
   "metadata": {
    "collapsed": false
   },
   "outputs": [
    {
     "data": {
      "text/plain": [
       "(1728, 1703, 1604)"
      ]
     },
     "execution_count": 6,
     "metadata": {},
     "output_type": "execute_result"
    }
   ],
   "source": [
    "Ytrain.index.max(), Ytest.index.max(), fwf.index.max()"
   ]
  },
  {
   "cell_type": "code",
   "execution_count": 7,
   "metadata": {
    "collapsed": false
   },
   "outputs": [
    {
     "data": {
      "text/html": [
       "<div>\n",
       "<table border=\"1\" class=\"dataframe\">\n",
       "  <thead>\n",
       "    <tr style=\"text-align: right;\">\n",
       "      <th></th>\n",
       "      <th>location</th>\n",
       "      <th>cases_first_date</th>\n",
       "      <th>cases_total</th>\n",
       "      <th>date</th>\n",
       "      <th>zika_bool</th>\n",
       "    </tr>\n",
       "  </thead>\n",
       "  <tbody>\n",
       "    <tr>\n",
       "      <th>0</th>\n",
       "      <td>Argentina-Buenos_Aires</td>\n",
       "      <td>130</td>\n",
       "      <td>3028</td>\n",
       "      <td>2016-03-19</td>\n",
       "      <td>1</td>\n",
       "    </tr>\n",
       "  </tbody>\n",
       "</table>\n",
       "</div>"
      ],
      "text/plain": [
       "                 location  cases_first_date  cases_total       date  zika_bool\n",
       "0  Argentina-Buenos_Aires               130         3028 2016-03-19          1"
      ]
     },
     "execution_count": 7,
     "metadata": {},
     "output_type": "execute_result"
    }
   ],
   "source": [
    "fwf.head(1)"
   ]
  },
  {
   "cell_type": "code",
   "execution_count": 8,
   "metadata": {
    "collapsed": false
   },
   "outputs": [
    {
     "data": {
      "text/plain": [
       "(True, True, 62)"
      ]
     },
     "execution_count": 8,
     "metadata": {},
     "output_type": "execute_result"
    }
   ],
   "source": [
    "(np.in1d(Ytrain.index,Xtrain.index).all(), \n",
    " np.in1d(Ytest.index,Xtest.index).all(), \n",
    " np.invert(np.in1d(Ytrain.index,fwf.index)).sum())"
   ]
  },
  {
   "cell_type": "code",
   "execution_count": 173,
   "metadata": {
    "collapsed": false
   },
   "outputs": [
    {
     "name": "stdout",
     "output_type": "stream",
     "text": [
      "(343, 26) (343,)\n",
      "(343, 30)\n"
     ]
    }
   ],
   "source": [
    "print Xtest.shape, Ytest.shape\n",
    "\n",
    "test = pd.merge(Xtest, Ytest.to_frame(), left_index=True, right_index=True)\n",
    "test = pd.merge(test, Ypred_test.rename(columns={'zika_bool':'zika_pred'}), \n",
    "                left_index=True, right_index=True)\n",
    "test = pd.merge(test, fwf[['location','date','cases_first_date','cases_total']], on=['location','date'], how='left')\n",
    "\n",
    "print test.shape"
   ]
  },
  {
   "cell_type": "code",
   "execution_count": 180,
   "metadata": {
    "collapsed": false
   },
   "outputs": [
    {
     "name": "stdout",
     "output_type": "stream",
     "text": [
      "(800, 26) (800,)\n",
      "(800, 30)\n"
     ]
    }
   ],
   "source": [
    "print Xtrain.shape, Ytrain.shape\n",
    "\n",
    "train = pd.merge(Xtrain, Ytrain.to_frame(), left_index=True, right_index=True)\n",
    "train = pd.merge(train, Ypred_train.rename(columns={'zika_bool':'zika_pred'}), \n",
    "                left_index=True, right_index=True)\n",
    "train = pd.merge(train, fwf[['location','date','cases_first_date','cases_total']], on=['location','date'], how='left')\n",
    "\n",
    "print train.shape"
   ]
  },
  {
   "cell_type": "code",
   "execution_count": 181,
   "metadata": {
    "collapsed": false
   },
   "outputs": [],
   "source": [
    "data = pd.concat([test, train]).reset_index(drop=True)"
   ]
  },
  {
   "cell_type": "code",
   "execution_count": 182,
   "metadata": {
    "collapsed": false
   },
   "outputs": [],
   "source": [
    "data['cm_type'] = np.NaN\n",
    "\n",
    "mask0 = (data.zika_bool.astype(bool) & data.zika_pred.astype(bool))\n",
    "data.loc[mask0, 'cm_type'] = 0\n",
    "\n",
    "mask1 = (data.zika_bool.astype(bool) & data.zika_pred.astype(bool).pipe(np.invert))\n",
    "data.loc[mask1, 'cm_type'] = 1\n",
    "\n",
    "mask2 = (data.zika_bool.astype(bool).pipe(np.invert) & data.zika_pred.astype(bool))\n",
    "data.loc[mask2, 'cm_type'] = 3\n",
    "\n",
    "mask3 = (data.zika_bool.astype(bool).pipe(np.invert) & data.zika_pred.astype(bool).pipe(np.invert))\n",
    "data.loc[mask3, 'cm_type'] = 2\n",
    "\n",
    "data['cm_type'] = data.cm_type.astype(np.int)"
   ]
  },
  {
   "cell_type": "code",
   "execution_count": 185,
   "metadata": {
    "collapsed": false
   },
   "outputs": [
    {
     "data": {
      "text/plain": [
       "array([[107,  87],\n",
       "       [ 19, 930]])"
      ]
     },
     "execution_count": 185,
     "metadata": {},
     "output_type": "execute_result"
    }
   ],
   "source": [
    "confusion_matrix(data['zika_bool'], data['zika_pred'])"
   ]
  },
  {
   "cell_type": "code",
   "execution_count": 186,
   "metadata": {
    "collapsed": false
   },
   "outputs": [
    {
     "data": {
      "text/plain": [
       "0    930\n",
       "1     19\n",
       "2    107\n",
       "3     87\n",
       "Name: cm_type, dtype: int64"
      ]
     },
     "execution_count": 186,
     "metadata": {},
     "output_type": "execute_result"
    }
   ],
   "source": [
    "data.cm_type.value_counts().sort_index()"
   ]
  },
  {
   "cell_type": "markdown",
   "metadata": {},
   "source": [
    "## Get location coordinates"
   ]
  },
  {
   "cell_type": "code",
   "execution_count": 259,
   "metadata": {
    "collapsed": false
   },
   "outputs": [
    {
     "name": "stdout",
     "output_type": "stream",
     "text": [
      "(103630, 4)\n",
      "(33405, 3)\n"
     ]
    }
   ],
   "source": [
    "location_key_orig = pd.read_pickle('../pkl/00_cleaned_city_names.pkl')\n",
    "location_key = pd.read_pickle('../pkl/01_latitude_longitude_google.pkl')\n",
    "\n",
    "# cases = pd.read_pickle('../pkl/10_class_balancing_framework_a_first.pkl')\n",
    "cases = pd.read_pickle('../pkl/03_infection_data_final.pkl')\n",
    "\n",
    "print cases.shape\n",
    "\n",
    "cases = cases[['date','location','zika_cases']].groupby(['location','date']).sum().reset_index()\n",
    "\n",
    "print cases.shape"
   ]
  },
  {
   "cell_type": "code",
   "execution_count": 260,
   "metadata": {
    "collapsed": false
   },
   "outputs": [
    {
     "data": {
      "text/html": [
       "<div>\n",
       "<table border=\"1\" class=\"dataframe\">\n",
       "  <thead>\n",
       "    <tr style=\"text-align: right;\">\n",
       "      <th></th>\n",
       "      <th>location</th>\n",
       "      <th>date</th>\n",
       "      <th>zika_cases</th>\n",
       "    </tr>\n",
       "  </thead>\n",
       "  <tbody>\n",
       "    <tr>\n",
       "      <th>0</th>\n",
       "      <td>Argentina-Buenos_Aires</td>\n",
       "      <td>2016-03-19</td>\n",
       "      <td>130</td>\n",
       "    </tr>\n",
       "    <tr>\n",
       "      <th>1</th>\n",
       "      <td>Argentina-Buenos_Aires</td>\n",
       "      <td>2016-03-26</td>\n",
       "      <td>148</td>\n",
       "    </tr>\n",
       "    <tr>\n",
       "      <th>2</th>\n",
       "      <td>Argentina-Buenos_Aires</td>\n",
       "      <td>2016-04-02</td>\n",
       "      <td>176</td>\n",
       "    </tr>\n",
       "    <tr>\n",
       "      <th>3</th>\n",
       "      <td>Argentina-Buenos_Aires</td>\n",
       "      <td>2016-04-09</td>\n",
       "      <td>181</td>\n",
       "    </tr>\n",
       "    <tr>\n",
       "      <th>4</th>\n",
       "      <td>Argentina-Buenos_Aires</td>\n",
       "      <td>2016-04-16</td>\n",
       "      <td>186</td>\n",
       "    </tr>\n",
       "  </tbody>\n",
       "</table>\n",
       "</div>"
      ],
      "text/plain": [
       "                 location       date  zika_cases\n",
       "0  Argentina-Buenos_Aires 2016-03-19         130\n",
       "1  Argentina-Buenos_Aires 2016-03-26         148\n",
       "2  Argentina-Buenos_Aires 2016-04-02         176\n",
       "3  Argentina-Buenos_Aires 2016-04-09         181\n",
       "4  Argentina-Buenos_Aires 2016-04-16         186"
      ]
     },
     "execution_count": 260,
     "metadata": {},
     "output_type": "execute_result"
    }
   ],
   "source": [
    "cases.head()"
   ]
  },
  {
   "cell_type": "code",
   "execution_count": 261,
   "metadata": {
    "collapsed": true
   },
   "outputs": [],
   "source": [
    "def join_names(df_row):\n",
    "\n",
    "    subtype = df_row.location_type\n",
    "    \n",
    "    second_str = df_row[subtype]\n",
    "    country_str = df_row.country\n",
    "    \n",
    "    return pd.Series({'country':country_str, 'city':second_str, \n",
    "                      'location':df_row.location})"
   ]
  },
  {
   "cell_type": "code",
   "execution_count": 262,
   "metadata": {
    "collapsed": false
   },
   "outputs": [],
   "source": [
    "location_key_orig = location_key_orig.apply(join_names, axis=1)"
   ]
  },
  {
   "cell_type": "code",
   "execution_count": 326,
   "metadata": {
    "collapsed": false
   },
   "outputs": [
    {
     "name": "stdout",
     "output_type": "stream",
     "text": [
      "(1606, 3) (1606, 3) (33405, 3)\n",
      "(1606, 5)\n",
      "(1271, 9)\n",
      "(24781, 10)\n"
     ]
    }
   ],
   "source": [
    "print location_key_orig.shape, location_key.shape, cases.shape\n",
    "\n",
    "combined = pd.merge(location_key_orig.drop_duplicates(), location_key, on='location', how='left')\n",
    "\n",
    "print combined.shape\n",
    "\n",
    "combined = pd.merge(data[['location','date','zika_bool','zika_pred','cm_type']], \n",
    "                    combined, on='location', how='left')\n",
    "\n",
    "print combined.shape\n",
    "\n",
    "combined = pd.merge(cases, combined.drop(['date'],axis=1), on=['location'], how='right')\n",
    "\n",
    "combined['zika_bool']\n",
    "\n",
    "print combined.shape"
   ]
  },
  {
   "cell_type": "code",
   "execution_count": 327,
   "metadata": {
    "collapsed": false
   },
   "outputs": [
    {
     "data": {
      "text/plain": [
       "location      0\n",
       "date          0\n",
       "zika_cases    0\n",
       "zika_bool     0\n",
       "zika_pred     0\n",
       "cm_type       0\n",
       "city          0\n",
       "country       0\n",
       "latitude      0\n",
       "longitude     0\n",
       "dtype: int64"
      ]
     },
     "execution_count": 327,
     "metadata": {},
     "output_type": "execute_result"
    }
   ],
   "source": [
    "combined.isnull().sum()"
   ]
  },
  {
   "cell_type": "code",
   "execution_count": 328,
   "metadata": {
    "collapsed": false
   },
   "outputs": [
    {
     "data": {
      "text/html": [
       "<div>\n",
       "<table border=\"1\" class=\"dataframe\">\n",
       "  <thead>\n",
       "    <tr style=\"text-align: right;\">\n",
       "      <th></th>\n",
       "      <th>zika_cases</th>\n",
       "    </tr>\n",
       "    <tr>\n",
       "      <th>country</th>\n",
       "      <th></th>\n",
       "    </tr>\n",
       "  </thead>\n",
       "  <tbody>\n",
       "    <tr>\n",
       "      <th>Dominican Republic</th>\n",
       "      <td>2077578</td>\n",
       "    </tr>\n",
       "    <tr>\n",
       "      <th>Colombia</th>\n",
       "      <td>1212238</td>\n",
       "    </tr>\n",
       "    <tr>\n",
       "      <th>Brazil</th>\n",
       "      <td>1030867</td>\n",
       "    </tr>\n",
       "    <tr>\n",
       "      <th>El Salvador</th>\n",
       "      <td>35368</td>\n",
       "    </tr>\n",
       "    <tr>\n",
       "      <th>Argentina</th>\n",
       "      <td>21293</td>\n",
       "    </tr>\n",
       "    <tr>\n",
       "      <th>United States</th>\n",
       "      <td>10668</td>\n",
       "    </tr>\n",
       "    <tr>\n",
       "      <th>Guatemala</th>\n",
       "      <td>5188</td>\n",
       "    </tr>\n",
       "    <tr>\n",
       "      <th>Mexico</th>\n",
       "      <td>4709</td>\n",
       "    </tr>\n",
       "    <tr>\n",
       "      <th>Ecuador</th>\n",
       "      <td>1267</td>\n",
       "    </tr>\n",
       "    <tr>\n",
       "      <th>Haiti</th>\n",
       "      <td>408</td>\n",
       "    </tr>\n",
       "    <tr>\n",
       "      <th>Panama</th>\n",
       "      <td>226</td>\n",
       "    </tr>\n",
       "    <tr>\n",
       "      <th>Nicaragua</th>\n",
       "      <td>219</td>\n",
       "    </tr>\n",
       "  </tbody>\n",
       "</table>\n",
       "</div>"
      ],
      "text/plain": [
       "                    zika_cases\n",
       "country                       \n",
       "Dominican Republic     2077578\n",
       "Colombia               1212238\n",
       "Brazil                 1030867\n",
       "El Salvador              35368\n",
       "Argentina                21293\n",
       "United States            10668\n",
       "Guatemala                 5188\n",
       "Mexico                    4709\n",
       "Ecuador                   1267\n",
       "Haiti                      408\n",
       "Panama                     226\n",
       "Nicaragua                  219"
      ]
     },
     "execution_count": 328,
     "metadata": {},
     "output_type": "execute_result"
    }
   ],
   "source": [
    "(combined[['location','country','date','zika_cases']]\n",
    " .groupby('country')\n",
    " .sum()\n",
    "  .sort_values('zika_cases',ascending=False))"
   ]
  },
  {
   "cell_type": "code",
   "execution_count": 329,
   "metadata": {
    "collapsed": false
   },
   "outputs": [],
   "source": [
    "mask = combined.country.isin(['Dominican Republic', 'Colombia'])\n",
    "combined.loc[mask, 'zika_cases'] /= 10"
   ]
  },
  {
   "cell_type": "code",
   "execution_count": 330,
   "metadata": {
    "collapsed": false,
    "scrolled": false
   },
   "outputs": [
    {
     "data": {
      "text/plain": [
       "0    1000\n",
       "Name: cm_type, dtype: int64"
      ]
     },
     "execution_count": 330,
     "metadata": {},
     "output_type": "execute_result"
    }
   ],
   "source": [
    "tmp = combined.sort_values('zika_cases',ascending=False).head(1000)\n",
    "tmp.cm_type.value_counts()"
   ]
  },
  {
   "cell_type": "code",
   "execution_count": 331,
   "metadata": {
    "collapsed": false
   },
   "outputs": [],
   "source": [
    "combined.rename(columns={'cm_type':'color'},inplace=True)\n",
    "\n",
    "combined['zika_cases'] = (combined.zika_cases * 99./combined.zika_cases.max()) + 1\n",
    "combined['location'] = combined.location.str.replace('-','_')\n",
    "\n",
    "combined = (combined\n",
    " .sort_values('date')\n",
    " \n",
    " .rename(columns={'country':'state','location':'permalink',\n",
    "                  'latitude':'lat', 'longitude':'long',\n",
    "                  'date':'created_at'})\n",
    " [['city','state','permalink','created_at','lat','long','zika_cases','color']]\n",
    " .assign(permalink=combined.location + combined.date.dt.strftime(\"_%Y%m%d\")))"
   ]
  },
  {
   "cell_type": "code",
   "execution_count": 332,
   "metadata": {
    "collapsed": false
   },
   "outputs": [],
   "source": [
    "# mask = (combined.state=='United States') & (combined.color==0)\n",
    "tmp = combined[['city','state','lat','long']].drop_duplicates()"
   ]
  },
  {
   "cell_type": "code",
   "execution_count": 320,
   "metadata": {
    "collapsed": false
   },
   "outputs": [
    {
     "name": "stdout",
     "output_type": "stream",
     "text": [
      "city        Peðol\n",
      "state    Colombia\n",
      "lat       34.5398\n",
      "long     -80.9116\n",
      "Name: 2748, dtype: object\n"
     ]
    },
    {
     "data": {
      "image/png": "[encoded data removed]",
      "text/plain": [
       "<matplotlib.figure.Figure at 0x7f9af05fdb10>"
      ]
     },
     "metadata": {},
     "output_type": "display_data"
    }
   ],
   "source": [
    "f = plt.figure()\n",
    "ax = plt.axes()\n",
    "f.set_size_inches(9,9)\n",
    "\n",
    "ax.plot(tmp.long,tmp.lat,'ro')\n",
    "ax = plt.axes()\n",
    "ax.set_ylim(20,60)\n",
    "for idx,dat in tmp.iterrows():\n",
    "    try:\n",
    "        ax.annotate(dat.city,xy=(dat.long,dat.lat),textcoords='data')\n",
    "    except:\n",
    "        print dat"
   ]
  },
  {
   "cell_type": "code",
   "execution_count": 334,
   "metadata": {
    "collapsed": false
   },
   "outputs": [],
   "source": [
    "mask = ((combined.state=='Colombia') & combined.city.str.startswith('Pe')).pipe(np.invert)\n",
    "combined = combined.loc[mask]"
   ]
  },
  {
   "cell_type": "code",
   "execution_count": 335,
   "metadata": {
    "collapsed": false
   },
   "outputs": [
    {
     "name": "stdout",
     "output_type": "stream",
     "text": [
      "city,state,permalink,created_at,lat,long,zika_cases,color\r\n",
      "Morazan,El Salvador,El_Salvador_Morazan_20151128,2015-11-28 00:00:00,13.7682,-88.1291,1.0085365065,0\r\n",
      "San Luis Potosi,Mexico,Mexico_San_Luis_Potosi_20151128,2015-11-28 00:00:00,22.1565,-100.9855,1.0,2\r\n",
      "Coahuila de Zaragoza,Mexico,Mexico_Coahuila_de_Zaragoza_20151128,2015-11-28 00:00:00,27.0587,-101.7068,1.0,0\r\n",
      "Quintana Roo,Mexico,Mexico_Quintana_Roo_20151128,2015-11-28 00:00:00,19.1817,-88.4791,1.0,1\r\n",
      "San Miguel,El Salvador,El_Salvador_San_Miguel_20151128,2015-11-28 00:00:00,13.4793,-88.1779,1.034146026,0\r\n",
      "Guanajuato,Mexico,Mexico_Guanajuato_20151128,2015-11-28 00:00:00,20.917,-101.1617,1.0,3\r\n",
      "Yucatan,Mexico,Mexico_Yucatan_20151128,2015-11-28 00:00:00,20.7099,-89.0943,1.0,0\r\n",
      "Morelos,Mexico,Mexico_Morelos_20151128,2015-11-28 00:00:00,18.6813,-99.1013,1.0,3\r\n",
      "La Libertad,El Salvador,El_Salvador_La_Libertad_20151128,2015-11-28 00:00:00,13.4907,-89.3085,1.13231585074,0\r\n"
     ]
    }
   ],
   "source": [
    "(combined.to_csv('../map/zika_places.csv', \n",
    "            sep=',', \n",
    "            index=False, \n",
    "            date_format='%Y-%m-%d %H:%M:%S'))\n",
    "! head ../map/zika_places.csv"
   ]
  },
  {
   "cell_type": "code",
   "execution_count": 275,
   "metadata": {
    "collapsed": false,
    "scrolled": true
   },
   "outputs": [
    {
     "data": {
      "text/html": [
       "<div>\n",
       "<table border=\"1\" class=\"dataframe\">\n",
       "  <thead>\n",
       "    <tr style=\"text-align: right;\">\n",
       "      <th></th>\n",
       "      <th>city</th>\n",
       "      <th>state</th>\n",
       "      <th>created_at</th>\n",
       "      <th>zika_cases</th>\n",
       "    </tr>\n",
       "  </thead>\n",
       "  <tbody>\n",
       "    <tr>\n",
       "      <th>762</th>\n",
       "      <td>Rio de Janeiro</td>\n",
       "      <td>Brazil</td>\n",
       "      <td>2016-05-28</td>\n",
       "      <td>100.000000</td>\n",
       "    </tr>\n",
       "    <tr>\n",
       "      <th>426</th>\n",
       "      <td>Bahia</td>\n",
       "      <td>Brazil</td>\n",
       "      <td>2016-05-28</td>\n",
       "      <td>99.913376</td>\n",
       "    </tr>\n",
       "    <tr>\n",
       "      <th>761</th>\n",
       "      <td>Rio de Janeiro</td>\n",
       "      <td>Brazil</td>\n",
       "      <td>2016-05-21</td>\n",
       "      <td>94.680006</td>\n",
       "    </tr>\n",
       "    <tr>\n",
       "      <th>425</th>\n",
       "      <td>Bahia</td>\n",
       "      <td>Brazil</td>\n",
       "      <td>2016-05-21</td>\n",
       "      <td>93.232748</td>\n",
       "    </tr>\n",
       "    <tr>\n",
       "      <th>424</th>\n",
       "      <td>Bahia</td>\n",
       "      <td>Brazil</td>\n",
       "      <td>2016-05-14</td>\n",
       "      <td>89.345223</td>\n",
       "    </tr>\n",
       "    <tr>\n",
       "      <th>423</th>\n",
       "      <td>Bahia</td>\n",
       "      <td>Brazil</td>\n",
       "      <td>2016-05-07</td>\n",
       "      <td>89.258599</td>\n",
       "    </tr>\n",
       "    <tr>\n",
       "      <th>422</th>\n",
       "      <td>Bahia</td>\n",
       "      <td>Brazil</td>\n",
       "      <td>2016-04-30</td>\n",
       "      <td>83.849869</td>\n",
       "    </tr>\n",
       "    <tr>\n",
       "      <th>760</th>\n",
       "      <td>Rio de Janeiro</td>\n",
       "      <td>Brazil</td>\n",
       "      <td>2016-05-14</td>\n",
       "      <td>83.448440</td>\n",
       "    </tr>\n",
       "    <tr>\n",
       "      <th>759</th>\n",
       "      <td>Rio de Janeiro</td>\n",
       "      <td>Brazil</td>\n",
       "      <td>2016-05-07</td>\n",
       "      <td>83.412522</td>\n",
       "    </tr>\n",
       "    <tr>\n",
       "      <th>421</th>\n",
       "      <td>Bahia</td>\n",
       "      <td>Brazil</td>\n",
       "      <td>2016-04-23</td>\n",
       "      <td>76.807955</td>\n",
       "    </tr>\n",
       "    <tr>\n",
       "      <th>758</th>\n",
       "      <td>Rio de Janeiro</td>\n",
       "      <td>Brazil</td>\n",
       "      <td>2016-04-30</td>\n",
       "      <td>71.016810</td>\n",
       "    </tr>\n",
       "    <tr>\n",
       "      <th>757</th>\n",
       "      <td>Rio de Janeiro</td>\n",
       "      <td>Brazil</td>\n",
       "      <td>2016-04-23</td>\n",
       "      <td>70.993570</td>\n",
       "    </tr>\n",
       "    <tr>\n",
       "      <th>754</th>\n",
       "      <td>Rio de Janeiro</td>\n",
       "      <td>Brazil</td>\n",
       "      <td>2016-04-02</td>\n",
       "      <td>57.475969</td>\n",
       "    </tr>\n",
       "    <tr>\n",
       "      <th>418</th>\n",
       "      <td>Bahia</td>\n",
       "      <td>Brazil</td>\n",
       "      <td>2016-04-02</td>\n",
       "      <td>56.810442</td>\n",
       "    </tr>\n",
       "    <tr>\n",
       "      <th>552</th>\n",
       "      <td>Mato Grosso</td>\n",
       "      <td>Brazil</td>\n",
       "      <td>2016-05-28</td>\n",
       "      <td>43.842165</td>\n",
       "    </tr>\n",
       "    <tr>\n",
       "      <th>548</th>\n",
       "      <td>Mato Grosso</td>\n",
       "      <td>Brazil</td>\n",
       "      <td>2016-04-30</td>\n",
       "      <td>40.810318</td>\n",
       "    </tr>\n",
       "    <tr>\n",
       "      <th>550</th>\n",
       "      <td>Mato Grosso</td>\n",
       "      <td>Brazil</td>\n",
       "      <td>2016-05-14</td>\n",
       "      <td>40.791303</td>\n",
       "    </tr>\n",
       "    <tr>\n",
       "      <th>549</th>\n",
       "      <td>Mato Grosso</td>\n",
       "      <td>Brazil</td>\n",
       "      <td>2016-05-07</td>\n",
       "      <td>40.784965</td>\n",
       "    </tr>\n",
       "    <tr>\n",
       "      <th>551</th>\n",
       "      <td>Mato Grosso</td>\n",
       "      <td>Brazil</td>\n",
       "      <td>2016-05-21</td>\n",
       "      <td>40.784965</td>\n",
       "    </tr>\n",
       "    <tr>\n",
       "      <th>547</th>\n",
       "      <td>Mato Grosso</td>\n",
       "      <td>Brazil</td>\n",
       "      <td>2016-04-23</td>\n",
       "      <td>39.035578</td>\n",
       "    </tr>\n",
       "    <tr>\n",
       "      <th>544</th>\n",
       "      <td>Mato Grosso</td>\n",
       "      <td>Brazil</td>\n",
       "      <td>2016-04-02</td>\n",
       "      <td>36.198108</td>\n",
       "    </tr>\n",
       "    <tr>\n",
       "      <th>594</th>\n",
       "      <td>Minas Gerais</td>\n",
       "      <td>Brazil</td>\n",
       "      <td>2016-05-28</td>\n",
       "      <td>28.418832</td>\n",
       "    </tr>\n",
       "    <tr>\n",
       "      <th>593</th>\n",
       "      <td>Minas Gerais</td>\n",
       "      <td>Brazil</td>\n",
       "      <td>2016-05-21</td>\n",
       "      <td>26.772972</td>\n",
       "    </tr>\n",
       "    <tr>\n",
       "      <th>592</th>\n",
       "      <td>Minas Gerais</td>\n",
       "      <td>Brazil</td>\n",
       "      <td>2016-05-14</td>\n",
       "      <td>25.845459</td>\n",
       "    </tr>\n",
       "    <tr>\n",
       "      <th>591</th>\n",
       "      <td>Minas Gerais</td>\n",
       "      <td>Brazil</td>\n",
       "      <td>2016-05-07</td>\n",
       "      <td>25.839121</td>\n",
       "    </tr>\n",
       "    <tr>\n",
       "      <th>590</th>\n",
       "      <td>Minas Gerais</td>\n",
       "      <td>Brazil</td>\n",
       "      <td>2016-04-30</td>\n",
       "      <td>24.393976</td>\n",
       "    </tr>\n",
       "    <tr>\n",
       "      <th>589</th>\n",
       "      <td>Minas Gerais</td>\n",
       "      <td>Brazil</td>\n",
       "      <td>2016-04-23</td>\n",
       "      <td>22.536838</td>\n",
       "    </tr>\n",
       "    <tr>\n",
       "      <th>23058</th>\n",
       "      <td>La Libertad</td>\n",
       "      <td>El Salvador</td>\n",
       "      <td>2016-04-23</td>\n",
       "      <td>17.546439</td>\n",
       "    </tr>\n",
       "    <tr>\n",
       "      <th>586</th>\n",
       "      <td>Minas Gerais</td>\n",
       "      <td>Brazil</td>\n",
       "      <td>2016-04-02</td>\n",
       "      <td>16.200594</td>\n",
       "    </tr>\n",
       "    <tr>\n",
       "      <th>825</th>\n",
       "      <td>Sao Paulo</td>\n",
       "      <td>Brazil</td>\n",
       "      <td>2016-05-28</td>\n",
       "      <td>12.368002</td>\n",
       "    </tr>\n",
       "    <tr>\n",
       "      <th>...</th>\n",
       "      <td>...</td>\n",
       "      <td>...</td>\n",
       "      <td>...</td>\n",
       "      <td>...</td>\n",
       "    </tr>\n",
       "    <tr>\n",
       "      <th>400</th>\n",
       "      <td>Amazonas</td>\n",
       "      <td>Brazil</td>\n",
       "      <td>2016-04-23</td>\n",
       "      <td>6.606436</td>\n",
       "    </tr>\n",
       "    <tr>\n",
       "      <th>488</th>\n",
       "      <td>Espirito Santo</td>\n",
       "      <td>Brazil</td>\n",
       "      <td>2016-05-21</td>\n",
       "      <td>6.604323</td>\n",
       "    </tr>\n",
       "    <tr>\n",
       "      <th>719</th>\n",
       "      <td>Rio Grande do Norte</td>\n",
       "      <td>Brazil</td>\n",
       "      <td>2016-05-21</td>\n",
       "      <td>6.593759</td>\n",
       "    </tr>\n",
       "    <tr>\n",
       "      <th>527</th>\n",
       "      <td>Maranhao</td>\n",
       "      <td>Brazil</td>\n",
       "      <td>2016-04-30</td>\n",
       "      <td>6.570519</td>\n",
       "    </tr>\n",
       "    <tr>\n",
       "      <th>718</th>\n",
       "      <td>Rio Grande do Norte</td>\n",
       "      <td>Brazil</td>\n",
       "      <td>2016-05-14</td>\n",
       "      <td>6.526150</td>\n",
       "    </tr>\n",
       "    <tr>\n",
       "      <th>23158</th>\n",
       "      <td>San Vicente</td>\n",
       "      <td>El Salvador</td>\n",
       "      <td>2016-04-23</td>\n",
       "      <td>6.517699</td>\n",
       "    </tr>\n",
       "    <tr>\n",
       "      <th>717</th>\n",
       "      <td>Rio Grande do Norte</td>\n",
       "      <td>Brazil</td>\n",
       "      <td>2016-05-07</td>\n",
       "      <td>6.486007</td>\n",
       "    </tr>\n",
       "    <tr>\n",
       "      <th>526</th>\n",
       "      <td>Maranhao</td>\n",
       "      <td>Brazil</td>\n",
       "      <td>2016-04-23</td>\n",
       "      <td>6.390932</td>\n",
       "    </tr>\n",
       "    <tr>\n",
       "      <th>615</th>\n",
       "      <td>Para</td>\n",
       "      <td>Brazil</td>\n",
       "      <td>2016-05-28</td>\n",
       "      <td>6.346563</td>\n",
       "    </tr>\n",
       "    <tr>\n",
       "      <th>656</th>\n",
       "      <td>Parana</td>\n",
       "      <td>Brazil</td>\n",
       "      <td>2016-05-21</td>\n",
       "      <td>6.335999</td>\n",
       "    </tr>\n",
       "    <tr>\n",
       "      <th>358</th>\n",
       "      <td>Alagoas</td>\n",
       "      <td>Brazil</td>\n",
       "      <td>2016-04-23</td>\n",
       "      <td>6.327548</td>\n",
       "    </tr>\n",
       "    <tr>\n",
       "      <th>716</th>\n",
       "      <td>Rio Grande do Norte</td>\n",
       "      <td>Brazil</td>\n",
       "      <td>2016-04-30</td>\n",
       "      <td>6.308533</td>\n",
       "    </tr>\n",
       "    <tr>\n",
       "      <th>655</th>\n",
       "      <td>Parana</td>\n",
       "      <td>Brazil</td>\n",
       "      <td>2016-05-14</td>\n",
       "      <td>6.293744</td>\n",
       "    </tr>\n",
       "    <tr>\n",
       "      <th>654</th>\n",
       "      <td>Parana</td>\n",
       "      <td>Brazil</td>\n",
       "      <td>2016-05-07</td>\n",
       "      <td>6.285293</td>\n",
       "    </tr>\n",
       "    <tr>\n",
       "      <th>487</th>\n",
       "      <td>Espirito Santo</td>\n",
       "      <td>Brazil</td>\n",
       "      <td>2016-05-14</td>\n",
       "      <td>6.262052</td>\n",
       "    </tr>\n",
       "    <tr>\n",
       "      <th>486</th>\n",
       "      <td>Espirito Santo</td>\n",
       "      <td>Brazil</td>\n",
       "      <td>2016-05-07</td>\n",
       "      <td>6.255714</td>\n",
       "    </tr>\n",
       "    <tr>\n",
       "      <th>657</th>\n",
       "      <td>Parana</td>\n",
       "      <td>Brazil</td>\n",
       "      <td>2016-05-28</td>\n",
       "      <td>6.243037</td>\n",
       "    </tr>\n",
       "    <tr>\n",
       "      <th>485</th>\n",
       "      <td>Espirito Santo</td>\n",
       "      <td>Brazil</td>\n",
       "      <td>2016-04-30</td>\n",
       "      <td>6.226135</td>\n",
       "    </tr>\n",
       "    <tr>\n",
       "      <th>505</th>\n",
       "      <td>Goias</td>\n",
       "      <td>Brazil</td>\n",
       "      <td>2016-04-23</td>\n",
       "      <td>6.217684</td>\n",
       "    </tr>\n",
       "    <tr>\n",
       "      <th>653</th>\n",
       "      <td>Parana</td>\n",
       "      <td>Brazil</td>\n",
       "      <td>2016-04-30</td>\n",
       "      <td>6.164864</td>\n",
       "    </tr>\n",
       "    <tr>\n",
       "      <th>484</th>\n",
       "      <td>Espirito Santo</td>\n",
       "      <td>Brazil</td>\n",
       "      <td>2016-04-23</td>\n",
       "      <td>6.006405</td>\n",
       "    </tr>\n",
       "    <tr>\n",
       "      <th>652</th>\n",
       "      <td>Parana</td>\n",
       "      <td>Brazil</td>\n",
       "      <td>2016-04-23</td>\n",
       "      <td>5.913442</td>\n",
       "    </tr>\n",
       "    <tr>\n",
       "      <th>715</th>\n",
       "      <td>Rio Grande do Norte</td>\n",
       "      <td>Brazil</td>\n",
       "      <td>2016-04-23</td>\n",
       "      <td>5.885976</td>\n",
       "    </tr>\n",
       "    <tr>\n",
       "      <th>670</th>\n",
       "      <td>Pernambuco</td>\n",
       "      <td>Brazil</td>\n",
       "      <td>2016-04-02</td>\n",
       "      <td>5.659908</td>\n",
       "    </tr>\n",
       "    <tr>\n",
       "      <th>817</th>\n",
       "      <td>Sao Paulo</td>\n",
       "      <td>Brazil</td>\n",
       "      <td>2016-04-02</td>\n",
       "      <td>5.509900</td>\n",
       "    </tr>\n",
       "    <tr>\n",
       "      <th>614</th>\n",
       "      <td>Para</td>\n",
       "      <td>Brazil</td>\n",
       "      <td>2016-05-21</td>\n",
       "      <td>5.397923</td>\n",
       "    </tr>\n",
       "    <tr>\n",
       "      <th>355</th>\n",
       "      <td>Alagoas</td>\n",
       "      <td>Brazil</td>\n",
       "      <td>2016-04-02</td>\n",
       "      <td>5.389472</td>\n",
       "    </tr>\n",
       "    <tr>\n",
       "      <th>446</th>\n",
       "      <td>Ceara</td>\n",
       "      <td>Brazil</td>\n",
       "      <td>2016-05-21</td>\n",
       "      <td>5.328201</td>\n",
       "    </tr>\n",
       "    <tr>\n",
       "      <th>628</th>\n",
       "      <td>Paraiba</td>\n",
       "      <td>Brazil</td>\n",
       "      <td>2016-04-02</td>\n",
       "      <td>5.309186</td>\n",
       "    </tr>\n",
       "    <tr>\n",
       "      <th>649</th>\n",
       "      <td>Parana</td>\n",
       "      <td>Brazil</td>\n",
       "      <td>2016-04-02</td>\n",
       "      <td>5.260592</td>\n",
       "    </tr>\n",
       "  </tbody>\n",
       "</table>\n",
       "<p>100 rows × 4 columns</p>\n",
       "</div>"
      ],
      "text/plain": [
       "                      city        state created_at  zika_cases\n",
       "762         Rio de Janeiro       Brazil 2016-05-28  100.000000\n",
       "426                  Bahia       Brazil 2016-05-28   99.913376\n",
       "761         Rio de Janeiro       Brazil 2016-05-21   94.680006\n",
       "425                  Bahia       Brazil 2016-05-21   93.232748\n",
       "424                  Bahia       Brazil 2016-05-14   89.345223\n",
       "423                  Bahia       Brazil 2016-05-07   89.258599\n",
       "422                  Bahia       Brazil 2016-04-30   83.849869\n",
       "760         Rio de Janeiro       Brazil 2016-05-14   83.448440\n",
       "759         Rio de Janeiro       Brazil 2016-05-07   83.412522\n",
       "421                  Bahia       Brazil 2016-04-23   76.807955\n",
       "758         Rio de Janeiro       Brazil 2016-04-30   71.016810\n",
       "757         Rio de Janeiro       Brazil 2016-04-23   70.993570\n",
       "754         Rio de Janeiro       Brazil 2016-04-02   57.475969\n",
       "418                  Bahia       Brazil 2016-04-02   56.810442\n",
       "552            Mato Grosso       Brazil 2016-05-28   43.842165\n",
       "548            Mato Grosso       Brazil 2016-04-30   40.810318\n",
       "550            Mato Grosso       Brazil 2016-05-14   40.791303\n",
       "549            Mato Grosso       Brazil 2016-05-07   40.784965\n",
       "551            Mato Grosso       Brazil 2016-05-21   40.784965\n",
       "547            Mato Grosso       Brazil 2016-04-23   39.035578\n",
       "544            Mato Grosso       Brazil 2016-04-02   36.198108\n",
       "594           Minas Gerais       Brazil 2016-05-28   28.418832\n",
       "593           Minas Gerais       Brazil 2016-05-21   26.772972\n",
       "592           Minas Gerais       Brazil 2016-05-14   25.845459\n",
       "591           Minas Gerais       Brazil 2016-05-07   25.839121\n",
       "590           Minas Gerais       Brazil 2016-04-30   24.393976\n",
       "589           Minas Gerais       Brazil 2016-04-23   22.536838\n",
       "23058          La Libertad  El Salvador 2016-04-23   17.546439\n",
       "586           Minas Gerais       Brazil 2016-04-02   16.200594\n",
       "825              Sao Paulo       Brazil 2016-05-28   12.368002\n",
       "...                    ...          ...        ...         ...\n",
       "400               Amazonas       Brazil 2016-04-23    6.606436\n",
       "488         Espirito Santo       Brazil 2016-05-21    6.604323\n",
       "719    Rio Grande do Norte       Brazil 2016-05-21    6.593759\n",
       "527               Maranhao       Brazil 2016-04-30    6.570519\n",
       "718    Rio Grande do Norte       Brazil 2016-05-14    6.526150\n",
       "23158          San Vicente  El Salvador 2016-04-23    6.517699\n",
       "717    Rio Grande do Norte       Brazil 2016-05-07    6.486007\n",
       "526               Maranhao       Brazil 2016-04-23    6.390932\n",
       "615                   Para       Brazil 2016-05-28    6.346563\n",
       "656                 Parana       Brazil 2016-05-21    6.335999\n",
       "358                Alagoas       Brazil 2016-04-23    6.327548\n",
       "716    Rio Grande do Norte       Brazil 2016-04-30    6.308533\n",
       "655                 Parana       Brazil 2016-05-14    6.293744\n",
       "654                 Parana       Brazil 2016-05-07    6.285293\n",
       "487         Espirito Santo       Brazil 2016-05-14    6.262052\n",
       "486         Espirito Santo       Brazil 2016-05-07    6.255714\n",
       "657                 Parana       Brazil 2016-05-28    6.243037\n",
       "485         Espirito Santo       Brazil 2016-04-30    6.226135\n",
       "505                  Goias       Brazil 2016-04-23    6.217684\n",
       "653                 Parana       Brazil 2016-04-30    6.164864\n",
       "484         Espirito Santo       Brazil 2016-04-23    6.006405\n",
       "652                 Parana       Brazil 2016-04-23    5.913442\n",
       "715    Rio Grande do Norte       Brazil 2016-04-23    5.885976\n",
       "670             Pernambuco       Brazil 2016-04-02    5.659908\n",
       "817              Sao Paulo       Brazil 2016-04-02    5.509900\n",
       "614                   Para       Brazil 2016-05-21    5.397923\n",
       "355                Alagoas       Brazil 2016-04-02    5.389472\n",
       "446                  Ceara       Brazil 2016-05-21    5.328201\n",
       "628                Paraiba       Brazil 2016-04-02    5.309186\n",
       "649                 Parana       Brazil 2016-04-02    5.260592\n",
       "\n",
       "[100 rows x 4 columns]"
      ]
     },
     "execution_count": 275,
     "metadata": {},
     "output_type": "execute_result"
    }
   ],
   "source": [
    "combined.sort_values('zika_cases',ascending=False)[['city','state','created_at','zika_cases']].head(100)"
   ]
  }
 ],
 "metadata": {
  "anaconda-cloud": {},
  "kernelspec": {
   "display_name": "Python [default]",
   "language": "python",
   "name": "python2"
  },
  "language_info": {
   "codemirror_mode": {
    "name": "ipython",
    "version": 2
   },
   "file_extension": ".py",
   "mimetype": "text/x-python",
   "name": "python",
   "nbconvert_exporter": "python",
   "pygments_lexer": "ipython2",
   "version": "2.7.12"
  }
 },
 "nbformat": 4,
 "nbformat_minor": 0
}
