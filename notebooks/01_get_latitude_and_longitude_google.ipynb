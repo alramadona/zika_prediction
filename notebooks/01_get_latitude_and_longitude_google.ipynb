{
 "cells": [
  {
   "cell_type": "code",
   "execution_count": 2,
   "metadata": {
    "ExecuteTime": {
     "end_time": "2016-07-25T20:58:42.834113",
     "start_time": "2016-07-25T20:58:41.602329"
    },
    "collapsed": true
   },
   "outputs": [],
   "source": [
    "import pandas as pd\n",
    "import numpy as np\n",
    "import requests\n",
    "import json\n",
    "import re\n",
    "import time\n",
    "import dill\n",
    "\n",
    "from selenium import webdriver\n",
    "from selenium.webdriver.chrome.options import Options\n",
    "\n",
    "from api_keys import GOOGLE_API_KEY\n",
    "from csv_pkl_sql import save_it, pkl_it\n",
    "\n",
    "pd.options.mode.chained_assignment = None"
   ]
  },
  {
   "cell_type": "markdown",
   "metadata": {},
   "source": [
    "# Get latitude and longitude for locations"
   ]
  },
  {
   "cell_type": "code",
   "execution_count": 3,
   "metadata": {
    "ExecuteTime": {
     "end_time": "2016-07-25T20:58:42.883764",
     "start_time": "2016-07-25T20:58:42.836072"
    },
    "collapsed": false
   },
   "outputs": [],
   "source": [
    "with open('../pkl/00_cleaned_city_names.pkl', 'r') as fh:\n",
    "    location_key = dill.load(fh)"
   ]
  },
  {
   "cell_type": "code",
   "execution_count": 4,
   "metadata": {
    "ExecuteTime": {
     "end_time": "2016-07-25T20:58:42.926742",
     "start_time": "2016-07-25T20:58:42.886372"
    },
    "collapsed": false
   },
   "outputs": [
    {
     "data": {
      "text/html": [
       "<div>\n",
       "<table border=\"1\" class=\"dataframe\">\n",
       "  <thead>\n",
       "    <tr style=\"text-align: right;\">\n",
       "      <th></th>\n",
       "      <th>location</th>\n",
       "      <th>location_type</th>\n",
       "      <th>country</th>\n",
       "      <th>province</th>\n",
       "      <th>county</th>\n",
       "      <th>city</th>\n",
       "    </tr>\n",
       "  </thead>\n",
       "  <tbody>\n",
       "    <tr>\n",
       "      <th>0</th>\n",
       "      <td>Argentina-Buenos_Aires</td>\n",
       "      <td>province</td>\n",
       "      <td>Argentina</td>\n",
       "      <td>Buenos Aires</td>\n",
       "      <td>None</td>\n",
       "      <td>None</td>\n",
       "    </tr>\n",
       "    <tr>\n",
       "      <th>1</th>\n",
       "      <td>Argentina-CABA</td>\n",
       "      <td>province</td>\n",
       "      <td>Argentina</td>\n",
       "      <td>Ciudad de Buenos Aires</td>\n",
       "      <td>None</td>\n",
       "      <td>None</td>\n",
       "    </tr>\n",
       "  </tbody>\n",
       "</table>\n",
       "</div>"
      ],
      "text/plain": [
       "                 location location_type    country                province  \\\n",
       "0  Argentina-Buenos_Aires      province  Argentina            Buenos Aires   \n",
       "1          Argentina-CABA      province  Argentina  Ciudad de Buenos Aires   \n",
       "\n",
       "  county  city  \n",
       "0   None  None  \n",
       "1   None  None  "
      ]
     },
     "execution_count": 4,
     "metadata": {},
     "output_type": "execute_result"
    }
   ],
   "source": [
    "location_key.head(2)"
   ]
  },
  {
   "cell_type": "markdown",
   "metadata": {},
   "source": [
    "## First try Google Maps API"
   ]
  },
  {
   "cell_type": "code",
   "execution_count": 5,
   "metadata": {
    "ExecuteTime": {
     "end_time": "2016-07-25T20:58:43.050308",
     "start_time": "2016-07-25T20:58:43.032280"
    },
    "collapsed": true
   },
   "outputs": [],
   "source": [
    "def get_latitude_longitude(df_row):\n",
    "    subtype = df_row.location_type\n",
    "    second_str = df_row[subtype].replace(' ', '+')\n",
    "    country_str = df_row.country.replace(' ', '+')\n",
    "    \n",
    "    url = 'https://maps.googleapis.com/maps/api/geocode/json?address=+{},+{}&key={}'.format(second_str, \n",
    "                                                                                            country_str, \n",
    "                                                                                            GOOGLE_API_KEY)\n",
    "    \n",
    "    try:\n",
    "        response = requests.get(url).text\n",
    "        lat_lng = json.loads(response)['results'][0]['geometry']['location']\n",
    "        lat_lng_df = pd.Series({'lat':lat_lng['lat'], 'lng':lat_lng['lng']})\n",
    "    except:\n",
    "        lat_lng_df = pd.Series({'lat':np.NaN, 'lng':np.NaN})\n",
    "        \n",
    "    time.sleep(1)\n",
    "    return lat_lng_df"
   ]
  },
  {
   "cell_type": "code",
   "execution_count": 11,
   "metadata": {
    "ExecuteTime": {
     "end_time": "2016-07-23T15:35:03.253767",
     "start_time": "2016-07-23T15:03:12.592388"
    },
    "collapsed": false
   },
   "outputs": [],
   "source": [
    "location_key[['latitude','longitude']] = location_key.apply(lambda x: get_latitude_longitude(x), axis=1)"
   ]
  },
  {
   "cell_type": "markdown",
   "metadata": {},
   "source": [
    "## Then scrape Google's first search hit\n",
    "We tried to play nice. Now bring out the big guns for the non-matches."
   ]
  },
  {
   "cell_type": "code",
   "execution_count": 129,
   "metadata": {
    "ExecuteTime": {
     "end_time": "2016-07-24T15:39:06.856607",
     "start_time": "2016-07-24T15:39:06.835030"
    },
    "collapsed": false
   },
   "outputs": [],
   "source": [
    "def google_search_scrape(df_row, driver_list=driver_list):\n",
    "    \n",
    "    # If both are floats, it's because they're NaNs--thus we need to scrape\n",
    "    if isinstance(df_row.latitude_s, float) & isinstance(df_row.longitude_s, float):\n",
    "    \n",
    "        # Randomized driver selected from a list where each is running through\n",
    "        # different ports\n",
    "        driver = np.random.choice(driver_list)\n",
    "\n",
    "        subtype = df_row.location_type\n",
    "        second_str = df_row[subtype].replace(' ', '+')\n",
    "        country_str = df_row.country.replace(' ', '+')\n",
    "        total_str = country_str + '+' + second_str\n",
    "\n",
    "        url = 'https://www.google.com/search?client=safari&rls=en&q={}&ie=UTF-8&oe=UTF-8#q={}+latitude+longitude'.format(total_str, total_str)\n",
    "        try:\n",
    "            driver.get(url)\n",
    "            time.sleep(3)\n",
    "            text = driver.find_element_by_class_name('kp-header').text\n",
    "            time.sleep(5)\n",
    "            text_array = re.split(r\"\"\", \"\"\", text)\n",
    "        except:\n",
    "            print(total_str)\n",
    "            text_array = [np.NaN, np.NaN]\n",
    "            \n",
    "    else:\n",
    "        # Alread have this data so return existing values\n",
    "        text_array = [df_row.latitude_s, df_row.longitude_s]\n",
    "        \n",
    "    return pd.Series({'latitude_s':text_array[0], 'longitude_s':text_array[1]})"
   ]
  },
  {
   "cell_type": "code",
   "execution_count": 97,
   "metadata": {
    "ExecuteTime": {
     "end_time": "2016-07-24T15:16:27.637572",
     "start_time": "2016-07-24T15:16:27.627617"
    },
    "collapsed": false
   },
   "outputs": [],
   "source": [
    "location_key_scrape = location_key[(location_key.latitude.isnull()|location_key.longitude.isnull())]\n",
    "location_key_scrape['latitude_s'] = ''\n",
    "location_key_scrape['longitude_s'] = ''"
   ]
  },
  {
   "cell_type": "code",
   "execution_count": 111,
   "metadata": {
    "ExecuteTime": {
     "end_time": "2016-07-24T15:27:04.587385",
     "start_time": "2016-07-24T15:27:04.583509"
    },
    "collapsed": false
   },
   "outputs": [],
   "source": [
    "# location_key_scrape[['latitude_s','longitude_s']] = (scrape_results.loc[scrape_results!='']\n",
    "#                                                      .str.split(r\"\"\", \"\"\", expand=True)\n",
    "#                                                      )"
   ]
  },
  {
   "cell_type": "code",
   "execution_count": 131,
   "metadata": {
    "ExecuteTime": {
     "end_time": "2016-07-24T17:36:13.163835",
     "start_time": "2016-07-24T15:39:30.709854"
    },
    "collapsed": false,
    "scrolled": false
   },
   "outputs": [
    {
     "name": "stdout",
     "output_type": "stream",
     "text": [
      "Colombia+Puerto+Rico\n",
      "Colombia+Colon\n",
      "Colombia+Magsi\n",
      "Colombia+La+Playa\n",
      "Colombia+Salazar\n",
      "Colombia+Santiago\n",
      "Colombia+Toledo\n",
      "Colombia+Albania\n",
      "Colombia+Cabrera\n",
      "Colombia+Cerrito\n",
      "Colombia+Galan\n",
      "Colombia+Gsepsa\n",
      "Colombia+Jordan\n",
      "Colombia+La+Paz\n",
      "Colombia+Alvarado\n",
      "Colombia+Ortega\n",
      "Colombia+San+Antonio\n",
      "Colombia+Suarez\n",
      "Colombia+Dagua\n",
      "Colombia+Palmira\n",
      "Colombia+Trinidad\n",
      "Colombia+Colon\n",
      "Colombia+Leguizamo\n",
      "Colombia+Santiago\n",
      "Colombia+Mapiripana\n",
      "Colombia+Desconocido\n",
      "Colombia+Usaquen+Los+Cedros\n",
      "Colombia+Usaquen+Santa+Barbara\n",
      "Colombia+Barrios+Unidos+Los+Andes\n",
      "Colombia+Barrios+Unidos+12+De+Octubre\n",
      "Colombia+San+Cristobal+Sociego\n",
      "Colombia+Puente+Aranda+San+Rafael\n",
      "Colombia+Kennedy+Americas\n",
      "Colombia+Kennedy+Kennedy+Central\n",
      "Colombia+Tunjuelito+Tunjuelito\n",
      "Colombia+Ciudad+Bolivar+San+Francisco\n",
      "Colombia+Bosa+Bosa+Central\n",
      "Colombia+Bosa+Tintal+Sur\n",
      "Colombia+La+Candelaria+La+Candelaria\n",
      "Colombia+Chapinero+Chico+Lago\n",
      "Colombia+Teusaquillo+Teusaquillo\n",
      "Colombia+Teusaquillo+La+Esmeralda\n",
      "Colombia+Teusaquillo+Quinta+Paredes\n",
      "Colombia+Teusaquillo+Ciudad+Salitre+Oriental\n",
      "Dominican+Republic+Compostela\n",
      "Dominican+Republic+Jimani+de+Independencia\n",
      "Dominican+Republic+Caballeros\n",
      "Dominican+Republic+Rodriguez\n",
      "Dominican+Republic+Extranjera\n",
      "Dominican+Republic+Other\n",
      "Ecuador+Mejia\n",
      "El+Salvador+Cabanas\n",
      "El+Salvador+Guatemala\n",
      "El+Salvador+Honduras\n",
      "Guatemala+Nor+Oriente\n",
      "Guatemala+Peten+Norte\n",
      "Guatemala+Sur\n",
      "Guatemala+Nor+Occidente\n",
      "Guatemala+Peten+Sur+Oriental\n",
      "Guatemala+Peten+Sur+Occidental\n",
      "Guatemala+Central\n",
      "Haiti+Desssalines+Marchand\n",
      "Nicaragua+Other\n",
      "Panama+Acuatupu\n",
      "Panama+Mulatupu\n",
      "Panama+Ogobsucum\n",
      "Panama+Achutupu\n",
      "Panama+Pto+Obaldia\n",
      "Panama+Playon+Chico\n",
      "Panama+Nargana\n",
      "Panama+Rio+Azucar\n",
      "Panama+Rio+Sidra\n",
      "Panama+Carti+Sugdup\n",
      "Panama+Ailitupu\n",
      "Panama+Nalugena\n",
      "Panama+Wichubhula\n",
      "Panama+Soledad+Miriam\n",
      "Panama+Naranjo+Chico\n",
      "Panama+Calidonia\n",
      "Panama+Clayton\n",
      "Panama+Las+Garzas\n",
      "Panama+Guadalupe\n",
      "Panama+Ernesto+Cordoba\n",
      "Panama+Salamanca\n",
      "Panama+San+Juan\n",
      "Panama+Villas+del+Golf\n",
      "Panama+San+Jose\n",
      "Panama+Condado+del+Rey\n",
      "Panama+Villa+Lucre\n",
      "Panama+Brisas+del+Golf\n",
      "Panama+Ojo+de+Agua\n",
      "Panama+Villa+Guadalupe\n",
      "Panama+La+Villa\n",
      "Panama+Sin+Especificar\n",
      "Panama+Metro\n",
      "Panama+P+Oeste\n",
      "United+States+US+Virgin+Islands\n",
      "United+States+Bay\n",
      "United+States+Clay\n",
      "United+States+Gulf\n",
      "United+States+Highlands\n",
      "United+States+Lake\n",
      "United+States+Saint+Thomas\n",
      "United+States+Saint+Croix\n"
     ]
    }
   ],
   "source": [
    "# ssh -ND 8081 nestanmr\n",
    "# ssh -ND 8082 backupsy\n",
    "# ssh -ND 8083 aws\n",
    "# ssh -ND 8084 vultr\n",
    "\n",
    "port_list = [8081, 8082, 8083, 8084]\n",
    "\n",
    "chrome_options1 = Options().add_argument(\"--proxy-server=socks5://127.0.0.1:\" + str(port_list[0]))\n",
    "chrome_options2 = Options().add_argument(\"--proxy-server=socks5://127.0.0.1:\" + str(port_list[1]))\n",
    "chrome_options3 = Options().add_argument(\"--proxy-server=socks5://127.0.0.1:\" + str(port_list[2]))\n",
    "chrome_options4 = Options().add_argument(\"--proxy-server=socks5://127.0.0.1:\" + str(port_list[3]))\n",
    "\n",
    "driver1 = webdriver.Chrome('/Volumes/Files/homebrew/bin/chromedriver', chrome_options=chrome_options1)\n",
    "driver2 = webdriver.Chrome('/Volumes/Files/homebrew/bin/chromedriver', chrome_options=chrome_options2)\n",
    "driver3 = webdriver.Chrome('/Volumes/Files/homebrew/bin/chromedriver', chrome_options=chrome_options3)\n",
    "driver4 = webdriver.Chrome('/Volumes/Files/homebrew/bin/chromedriver', chrome_options=chrome_options4)\n",
    "\n",
    "driver_list = [driver1, driver2, driver3, driver4]\n",
    "location_key_scrape[['latitude_s','longitude_s']] = location_key_scrape.apply(lambda x: google_search_scrape(x, driver_list), axis=1)"
   ]
  },
  {
   "cell_type": "code",
   "execution_count": 149,
   "metadata": {
    "ExecuteTime": {
     "end_time": "2016-07-24T20:51:07.113146",
     "start_time": "2016-07-24T20:51:06.934322"
    },
    "collapsed": false
   },
   "outputs": [],
   "source": [
    "# Save a temporary checkpoint of this dataframe\n",
    "pkl_it(location_key_scrape, '01_latitude_longitude_checkpoint_location_key_scrape')\n",
    "pkl_it(location_key, '01_latitude_longitude_checkpoint_location_key')"
   ]
  },
  {
   "cell_type": "code",
   "execution_count": 195,
   "metadata": {
    "ExecuteTime": {
     "end_time": "2016-07-24T21:52:59.361268",
     "start_time": "2016-07-24T21:52:59.308165"
    },
    "collapsed": false
   },
   "outputs": [
    {
     "name": "stderr",
     "output_type": "stream",
     "text": [
      "/Volumes/Files/miniconda/envs/scienv2/lib/python2.7/site-packages/ipykernel/__main__.py:7: FutureWarning: currently extract(expand=None) means expand=False (return Index/Series/DataFrame) but in a future version of pandas this will be changed to expand=True (return DataFrame)\n",
      "/Volumes/Files/miniconda/envs/scienv2/lib/python2.7/site-packages/ipykernel/__main__.py:11: FutureWarning: currently extract(expand=None) means expand=False (return Index/Series/DataFrame) but in a future version of pandas this will be changed to expand=True (return DataFrame)\n"
     ]
    }
   ],
   "source": [
    "# Convert the latitude and longitude strings to floats\n",
    "\n",
    "location_key_scrape['latitude_s'] = location_key_scrape.latitude_s.str.strip()\n",
    "location_key_scrape['longitude_s'] = location_key_scrape.longitude_s.str.strip()\n",
    "\n",
    "location_key_scrape['latitude'] = (location_key_scrape.latitude_s\n",
    "                                   .str.extract(r\"\"\"([0-9.-]+)\"\"\")\n",
    "                                   .astype(float))\n",
    "\n",
    "location_key_scrape['longitude'] = (location_key_scrape.longitude_s\n",
    "                                    .str.extract(r\"\"\"([0-9.-]+)\"\"\")\n",
    "                                    .astype(float))\n",
    "\n",
    "mask = (location_key_scrape.latitude_s.str[-1]=='S')\n",
    "location_key_scrape.loc[mask, 'latitude'] *= -1.0\n",
    "\n",
    "mask = (location_key_scrape.longitude_s.str[-1]=='W')\n",
    "location_key_scrape.loc[mask, 'longitude'] *= -1.0"
   ]
  },
  {
   "cell_type": "code",
   "execution_count": 196,
   "metadata": {
    "ExecuteTime": {
     "end_time": "2016-07-24T21:52:59.983105",
     "start_time": "2016-07-24T21:52:59.949241"
    },
    "collapsed": false,
    "scrolled": false
   },
   "outputs": [],
   "source": [
    "# Transfer the scraped data back to the main dataframe\n",
    "location_key.loc[location_key_scrape.index, 'latitude'] = location_key_scrape.latitude\n",
    "location_key.loc[location_key_scrape.index, 'longitude'] = location_key_scrape.longitude"
   ]
  },
  {
   "cell_type": "code",
   "execution_count": 197,
   "metadata": {
    "ExecuteTime": {
     "end_time": "2016-07-24T21:53:27.101909",
     "start_time": "2016-07-24T21:53:27.011022"
    },
    "collapsed": true
   },
   "outputs": [],
   "source": [
    "pkl_it(location_key, '01_latitude_longitude_checkpoint_location_key_2')"
   ]
  },
  {
   "cell_type": "markdown",
   "metadata": {},
   "source": [
    "## Now scrape [www.latlong.net](http://www.latlong.net/)\n",
    "\n",
    "There are 104 locations left without a match. A few of these can be done manually (e.g. the United States locations), but let's try to get a few more with scraping.\n",
    "\n",
    "**NOTE:** for future reference, (distancesto.com)[https://www.distancesto.com] looks like it could be scraped."
   ]
  },
  {
   "cell_type": "code",
   "execution_count": null,
   "metadata": {
    "collapsed": true
   },
   "outputs": [],
   "source": [
    "# with open('../pkl/01_latitude_longitude_google.pkl', 'r') as fh:\n",
    "#     location_key = dill.load(fh)"
   ]
  },
  {
   "cell_type": "code",
   "execution_count": 67,
   "metadata": {
    "ExecuteTime": {
     "end_time": "2016-07-25T21:48:49.060984",
     "start_time": "2016-07-25T21:48:49.043281"
    },
    "collapsed": false
   },
   "outputs": [],
   "source": [
    "def scrape_latlong(the_location, driver_list=driver_list):\n",
    "    \n",
    "    driver = np.random.choice(driver_list)\n",
    "    \n",
    "    try:\n",
    "        # Load the web page\n",
    "        driver.get('http://www.latlong.net')\n",
    "        time.sleep(1.0)\n",
    "\n",
    "        # Enter the location\n",
    "        text_field = driver.find_element_by_id('gadres')\n",
    "        text_field.send_keys(the_location)\n",
    "        time.sleep(1.0)\n",
    "\n",
    "        # Click the find button\n",
    "        the_button = driver.find_element_by_xpath('//*[@id=\"latlongform\"]/button')\n",
    "        the_button.click()\n",
    "        time.sleep(1.5)\n",
    "\n",
    "        # Scrape the latitude and longitude\n",
    "        lat_long_str = driver.find_element_by_xpath('//*[@id=\"latlngspan\"]').text\n",
    "        lat_long_re = re.search(r\"\"\"\\(([0-9.-]+),\\s*([0-9.-]+)\\)\"\"\", lat_long_str)\n",
    "        latitude = float(lat_long_re.group(1))\n",
    "        longitude = float(lat_long_re.group(2))\n",
    "    except:\n",
    "        latitude = np.NaN\n",
    "        longitude = np.NaN\n",
    "\n",
    "    return pd.Series({'latitude':latitude, 'longitude':longitude})"
   ]
  },
  {
   "cell_type": "code",
   "execution_count": 68,
   "metadata": {
    "ExecuteTime": {
     "end_time": "2016-07-25T21:48:53.179858",
     "start_time": "2016-07-25T21:48:53.173397"
    },
    "collapsed": true
   },
   "outputs": [],
   "source": [
    "# Separate just the null records to scrape\n",
    "location_key_scrape = location_key.loc[location_key.latitude.isnull()].copy()"
   ]
  },
  {
   "cell_type": "code",
   "execution_count": 70,
   "metadata": {
    "ExecuteTime": {
     "end_time": "2016-07-25T21:58:13.178097",
     "start_time": "2016-07-25T21:50:23.387689"
    },
    "collapsed": false
   },
   "outputs": [],
   "source": [
    "# ssh -ND 8081 nestanmr\n",
    "# ssh -ND 8082 backupsy\n",
    "# ssh -ND 8083 aws\n",
    "# ssh -ND 8084 vultr\n",
    "\n",
    "port_list = [8081, 8082, 8083, 8084]\n",
    "\n",
    "chrome_options1 = Options().add_argument(\"--proxy-server=socks5://127.0.0.1:\" + str(port_list[0]))\n",
    "chrome_options2 = Options().add_argument(\"--proxy-server=socks5://127.0.0.1:\" + str(port_list[1]))\n",
    "chrome_options3 = Options().add_argument(\"--proxy-server=socks5://127.0.0.1:\" + str(port_list[2]))\n",
    "chrome_options4 = Options().add_argument(\"--proxy-server=socks5://127.0.0.1:\" + str(port_list[3]))\n",
    "\n",
    "driver1 = webdriver.Chrome('/Volumes/Files/homebrew/bin/chromedriver', chrome_options=chrome_options1)\n",
    "driver2 = webdriver.Chrome('/Volumes/Files/homebrew/bin/chromedriver', chrome_options=chrome_options2)\n",
    "driver3 = webdriver.Chrome('/Volumes/Files/homebrew/bin/chromedriver', chrome_options=chrome_options3)\n",
    "driver4 = webdriver.Chrome('/Volumes/Files/homebrew/bin/chromedriver', chrome_options=chrome_options4)\n",
    "\n",
    "driver_list = [driver1, driver2, driver3, driver4]\n",
    "\n",
    "location_key_scrape[['latitude','longitude']] = (location_key_scrape\n",
    "                                                 .apply(lambda x: scrape_latlong(x.location, driver_list), \n",
    "                                                        axis=1)\n",
    "                                                 )"
   ]
  },
  {
   "cell_type": "code",
   "execution_count": 72,
   "metadata": {
    "ExecuteTime": {
     "end_time": "2016-07-25T21:59:54.889231",
     "start_time": "2016-07-25T21:59:54.860844"
    },
    "collapsed": false
   },
   "outputs": [
    {
     "data": {
      "text/html": [
       "<div>\n",
       "<table border=\"1\" class=\"dataframe\">\n",
       "  <thead>\n",
       "    <tr style=\"text-align: right;\">\n",
       "      <th></th>\n",
       "      <th>location</th>\n",
       "      <th>latitude</th>\n",
       "      <th>longitude</th>\n",
       "    </tr>\n",
       "  </thead>\n",
       "  <tbody>\n",
       "    <tr>\n",
       "      <th>873</th>\n",
       "      <td>Colombia-Norte_Santander-La_Playa</td>\n",
       "      <td>NaN</td>\n",
       "      <td>NaN</td>\n",
       "    </tr>\n",
       "    <tr>\n",
       "      <th>1211</th>\n",
       "      <td>Colombia-Desconocido-Desconocido</td>\n",
       "      <td>NaN</td>\n",
       "      <td>NaN</td>\n",
       "    </tr>\n",
       "    <tr>\n",
       "      <th>1227</th>\n",
       "      <td>Colombia-Bogota-Bosa_Tintal_Sur</td>\n",
       "      <td>NaN</td>\n",
       "      <td>NaN</td>\n",
       "    </tr>\n",
       "    <tr>\n",
       "      <th>1291</th>\n",
       "      <td>Dominican_Republic-Extranjera</td>\n",
       "      <td>NaN</td>\n",
       "      <td>NaN</td>\n",
       "    </tr>\n",
       "    <tr>\n",
       "      <th>1292</th>\n",
       "      <td>Dominican_Republic-Other</td>\n",
       "      <td>NaN</td>\n",
       "      <td>NaN</td>\n",
       "    </tr>\n",
       "    <tr>\n",
       "      <th>1478</th>\n",
       "      <td>Nicaragua-Other</td>\n",
       "      <td>NaN</td>\n",
       "      <td>NaN</td>\n",
       "    </tr>\n",
       "    <tr>\n",
       "      <th>1486</th>\n",
       "      <td>Panama-Kuna_Yala-Acuatupu</td>\n",
       "      <td>NaN</td>\n",
       "      <td>NaN</td>\n",
       "    </tr>\n",
       "    <tr>\n",
       "      <th>1534</th>\n",
       "      <td>Panama-San_Miguelito-San_Jose</td>\n",
       "      <td>NaN</td>\n",
       "      <td>NaN</td>\n",
       "    </tr>\n",
       "  </tbody>\n",
       "</table>\n",
       "</div>"
      ],
      "text/plain": [
       "                               location  latitude  longitude\n",
       "873   Colombia-Norte_Santander-La_Playa       NaN        NaN\n",
       "1211   Colombia-Desconocido-Desconocido       NaN        NaN\n",
       "1227    Colombia-Bogota-Bosa_Tintal_Sur       NaN        NaN\n",
       "1291      Dominican_Republic-Extranjera       NaN        NaN\n",
       "1292           Dominican_Republic-Other       NaN        NaN\n",
       "1478                    Nicaragua-Other       NaN        NaN\n",
       "1486          Panama-Kuna_Yala-Acuatupu       NaN        NaN\n",
       "1534      Panama-San_Miguelito-San_Jose       NaN        NaN"
      ]
     },
     "execution_count": 72,
     "metadata": {},
     "output_type": "execute_result"
    }
   ],
   "source": [
    "location_key_scrape.loc[location_key_scrape.latitude.isnull()]"
   ]
  },
  {
   "cell_type": "code",
   "execution_count": 73,
   "metadata": {
    "ExecuteTime": {
     "end_time": "2016-07-25T22:01:43.004219",
     "start_time": "2016-07-25T22:01:42.968286"
    },
    "collapsed": true
   },
   "outputs": [],
   "source": [
    "# Save temporary checkpoints\n",
    "pkl_it(location_key_scrape, '01_latitude_longitude_checkpoint_location_key_scrape_2')\n",
    "pkl_it(location_key, '01_latitude_longitude_checkpoint_location_key_2')"
   ]
  },
  {
   "cell_type": "code",
   "execution_count": 74,
   "metadata": {
    "ExecuteTime": {
     "end_time": "2016-07-25T22:02:20.188319",
     "start_time": "2016-07-25T22:02:20.171620"
    },
    "collapsed": true
   },
   "outputs": [],
   "source": [
    "# Transfer the scraped data back to the main dataframe\n",
    "location_key.loc[location_key_scrape.index, 'latitude'] = location_key_scrape.latitude\n",
    "location_key.loc[location_key_scrape.index, 'longitude'] = location_key_scrape.longitude"
   ]
  },
  {
   "cell_type": "code",
   "execution_count": 85,
   "metadata": {
    "ExecuteTime": {
     "end_time": "2016-07-25T22:15:53.751021",
     "start_time": "2016-07-25T22:15:53.732681"
    },
    "collapsed": false
   },
   "outputs": [
    {
     "data": {
      "text/html": [
       "<div>\n",
       "<table border=\"1\" class=\"dataframe\">\n",
       "  <thead>\n",
       "    <tr style=\"text-align: right;\">\n",
       "      <th></th>\n",
       "      <th>location</th>\n",
       "      <th>latitude</th>\n",
       "      <th>longitude</th>\n",
       "    </tr>\n",
       "  </thead>\n",
       "  <tbody>\n",
       "    <tr>\n",
       "      <th>1211</th>\n",
       "      <td>Colombia-Desconocido-Desconocido</td>\n",
       "      <td>NaN</td>\n",
       "      <td>NaN</td>\n",
       "    </tr>\n",
       "  </tbody>\n",
       "</table>\n",
       "</div>"
      ],
      "text/plain": [
       "                              location  latitude  longitude\n",
       "1211  Colombia-Desconocido-Desconocido       NaN        NaN"
      ]
     },
     "execution_count": 85,
     "metadata": {},
     "output_type": "execute_result"
    }
   ],
   "source": [
    "location_key.loc[location_key.latitude.isnull()]"
   ]
  },
  {
   "cell_type": "code",
   "execution_count": 84,
   "metadata": {
    "ExecuteTime": {
     "end_time": "2016-07-25T22:15:50.850073",
     "start_time": "2016-07-25T22:15:50.797075"
    },
    "collapsed": true
   },
   "outputs": [],
   "source": [
    "# Fill in the remaining ones manually\n",
    "mask = location_key.location == 'Colombia-Norte_Santander-La_Playa'\n",
    "location_key.loc[mask, ['latitude', 'longitude']] = [7.946283, -72.898807]\n",
    "\n",
    "mask = location_key.location == 'Colombia-Desconocido-Desconocido'\n",
    "location_key.loc[mask, ['latitude', 'longitude']] = [np.NaN , np.NaN]\n",
    "\n",
    "mask = location_key.location == 'Colombia-Bogota-Bosa_Tintal_Sur'\n",
    "location_key.loc[mask, ['latitude', 'longitude']] = [ 4.624335, -74.063644]\n",
    "\n",
    "mask = location_key.location == 'Dominican_Republic-Extranjera'\n",
    "location_key.loc[mask, ['latitude', 'longitude']] = [18.735693 , -70.16265099999998]\n",
    "\n",
    "mask = location_key.location == 'Dominican_Republic-Other'\n",
    "location_key.loc[mask, ['latitude', 'longitude']] = [18.735693 , -70.16265099999998]\n",
    "\n",
    "mask = location_key.location == 'Nicaragua-Other'\n",
    "location_key.loc[mask, ['latitude', 'longitude']] = [12.865416, -85.20722899999998]\n",
    "\n",
    "mask = location_key.location == 'Panama-Kuna_Yala-Acuatupu'\n",
    "location_key.loc[mask, ['latitude', 'longitude']] = [9.234439, -78.192625]\n",
    "\n",
    "mask = location_key.location == 'Panama-San_Miguelito-San_Jose'\n",
    "location_key.loc[mask, ['latitude', 'longitude']] = [9.070755, -79.481638]"
   ]
  },
  {
   "cell_type": "code",
   "execution_count": 86,
   "metadata": {
    "ExecuteTime": {
     "end_time": "2016-07-25T22:16:00.874993",
     "start_time": "2016-07-25T22:16:00.868686"
    },
    "collapsed": true
   },
   "outputs": [],
   "source": [
    "# Prune unwanted columns\n",
    "location_key_out = location_key[['location','latitude','longitude']]"
   ]
  },
  {
   "cell_type": "code",
   "execution_count": 87,
   "metadata": {
    "ExecuteTime": {
     "end_time": "2016-07-25T22:16:19.034788",
     "start_time": "2016-07-25T22:16:19.025117"
    },
    "collapsed": false
   },
   "outputs": [],
   "source": [
    "# Save unmatched entries to a CSV\n",
    "location_key_out.loc[location_key_out.latitude.isnull()].to_csv('../csv/01_latitude_longitude_unmatched.csv')"
   ]
  },
  {
   "cell_type": "code",
   "execution_count": 88,
   "metadata": {
    "ExecuteTime": {
     "end_time": "2016-07-25T22:16:52.376254",
     "start_time": "2016-07-25T22:16:21.742522"
    },
    "collapsed": false
   },
   "outputs": [],
   "source": [
    "save_it(location_key_out, '01_latitude_longitude_google')"
   ]
  },
  {
   "cell_type": "code",
   "execution_count": 89,
   "metadata": {
    "ExecuteTime": {
     "end_time": "2016-07-25T22:16:52.391044",
     "start_time": "2016-07-25T22:16:52.379998"
    },
    "collapsed": false
   },
   "outputs": [
    {
     "data": {
      "text/plain": [
       "(1606, 1)"
      ]
     },
     "execution_count": 89,
     "metadata": {},
     "output_type": "execute_result"
    }
   ],
   "source": [
    "location_key_out.latitude.shape[0], location_key_out.latitude.isnull().sum()"
   ]
  }
 ],
 "metadata": {
  "kernelspec": {
   "display_name": "Python 2",
   "language": "python",
   "name": "python2"
  },
  "language_info": {
   "codemirror_mode": {
    "name": "ipython",
    "version": 2
   },
   "file_extension": ".py",
   "mimetype": "text/x-python",
   "name": "python",
   "nbconvert_exporter": "python",
   "pygments_lexer": "ipython2",
   "version": "2.7.12"
  }
 },
 "nbformat": 4,
 "nbformat_minor": 0
}
